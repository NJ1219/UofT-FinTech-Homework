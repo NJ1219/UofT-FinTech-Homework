{
 "cells": [
  {
   "cell_type": "markdown",
   "metadata": {},
   "source": [
    "# Toronto Dwellings Analysis Dashboard\n",
    "\n",
    "In this notebook, you will compile the visualizations from the previous analysis into functions to create a Panel dashboard."
   ]
  },
  {
   "cell_type": "code",
   "execution_count": 98,
   "metadata": {},
   "outputs": [],
   "source": [
    "# initial imports\n",
    "import os\n",
    "import pandas as pd\n",
    "import matplotlib.pyplot as plt\n",
    "import hvplot.pandas\n",
    "import plotly.express as px\n",
    "from matplotlib.figure import Figure\n",
    "from pathlib import Path\n",
    "from dotenv import load_dotenv"
   ]
  },
  {
   "cell_type": "code",
   "execution_count": 96,
   "metadata": {},
   "outputs": [
    {
     "name": "stderr",
     "output_type": "stream",
     "text": [
      "WARNING:param.panel_extension: A HoloViz extension was loaded previously. This means the extension is already initialized and the following Panel extensions could not be properly loaded: ['plotly']. If you are loading custom extensions with pn.extension(...) ensure that this is called before any other HoloViz extension such as hvPlot or HoloViews.\n"
     ]
    }
   ],
   "source": [
    "# Initialize the Panel Extensions (for Plotly)\n",
    "import panel as pn\n",
    "pn.extension(\"plotly\")"
   ]
  },
  {
   "cell_type": "code",
   "execution_count": 3,
   "metadata": {},
   "outputs": [],
   "source": [
    "# Read the Mapbox API key\n",
    "load_dotenv()\n",
    "map_box_api = os.getenv(\"MAPBOX\")\n",
    "px.set_mapbox_access_token(map_box_api)\n",
    "#print(map_box_api)"
   ]
  },
  {
   "cell_type": "markdown",
   "metadata": {},
   "source": [
    "# Import Data"
   ]
  },
  {
   "cell_type": "code",
   "execution_count": 4,
   "metadata": {},
   "outputs": [],
   "source": [
    "# Import the CSVs to Pandas DataFrames\n",
    "file_path = Path(\"Data/toronto_neighbourhoods_census_data.csv\")\n",
    "to_data = pd.read_csv(file_path, index_col=\"year\")\n",
    "\n",
    "file_path = Path(\"Data/toronto_neighbourhoods_coordinates.csv\")\n",
    "df_neighbourhood_locations = pd.read_csv(file_path)"
   ]
  },
  {
   "cell_type": "markdown",
   "metadata": {},
   "source": [
    "- - -"
   ]
  },
  {
   "cell_type": "markdown",
   "metadata": {},
   "source": [
    "## Panel Visualizations\n",
    "\n",
    "In this section, you will copy the code for each plot type from your analysis notebook and place it into separate functions that Panel can use to create panes for the dashboard. \n",
    "\n",
    "These functions will convert the plot object to a Panel pane.\n",
    "\n",
    "Be sure to include any DataFrame transformation/manipulation code required along with the plotting code.\n",
    "\n",
    "Return a Panel pane object from each function that can be used to build the dashboard.\n",
    "\n",
    "Note: Remove any `.show()` lines from the code. We want to return the plots instead of showing them. The Panel dashboard will then display the plots."
   ]
  },
  {
   "cell_type": "markdown",
   "metadata": {},
   "source": [
    "### Global available data"
   ]
  },
  {
   "cell_type": "code",
   "execution_count": 5,
   "metadata": {},
   "outputs": [
    {
     "data": {
      "text/html": [
       "<div>\n",
       "<style scoped>\n",
       "    .dataframe tbody tr th:only-of-type {\n",
       "        vertical-align: middle;\n",
       "    }\n",
       "\n",
       "    .dataframe tbody tr th {\n",
       "        vertical-align: top;\n",
       "    }\n",
       "\n",
       "    .dataframe thead th {\n",
       "        text-align: right;\n",
       "    }\n",
       "</style>\n",
       "<table border=\"1\" class=\"dataframe\">\n",
       "  <thead>\n",
       "    <tr style=\"text-align: right;\">\n",
       "      <th></th>\n",
       "      <th>shelter_costs_owned</th>\n",
       "      <th>shelter_costs_rented</th>\n",
       "    </tr>\n",
       "    <tr>\n",
       "      <th>year</th>\n",
       "      <th></th>\n",
       "      <th></th>\n",
       "    </tr>\n",
       "  </thead>\n",
       "  <tbody>\n",
       "    <tr>\n",
       "      <th>2001</th>\n",
       "      <td>846.878571</td>\n",
       "      <td>1085.935714</td>\n",
       "    </tr>\n",
       "    <tr>\n",
       "      <th>2006</th>\n",
       "      <td>1316.800000</td>\n",
       "      <td>925.414286</td>\n",
       "    </tr>\n",
       "    <tr>\n",
       "      <th>2011</th>\n",
       "      <td>1448.214286</td>\n",
       "      <td>1019.792857</td>\n",
       "    </tr>\n",
       "    <tr>\n",
       "      <th>2016</th>\n",
       "      <td>1761.314286</td>\n",
       "      <td>1256.321429</td>\n",
       "    </tr>\n",
       "  </tbody>\n",
       "</table>\n",
       "</div>"
      ],
      "text/plain": [
       "      shelter_costs_owned  shelter_costs_rented\n",
       "year                                           \n",
       "2001           846.878571           1085.935714\n",
       "2006          1316.800000            925.414286\n",
       "2011          1448.214286           1019.792857\n",
       "2016          1761.314286           1256.321429"
      ]
     },
     "execution_count": 5,
     "metadata": {},
     "output_type": "execute_result"
    }
   ],
   "source": [
    "# Getting the data from the top 10 expensive neighbourhoods\n",
    "expensive_neighbourhood = to_data.groupby(\"neighbourhood\").mean()\n",
    "\n",
    "expensive_neighbourhood.sort_values(\"average_house_value\", ascending= False, inplace=True)\n",
    "top_10_expensive_neighbourhood = expensive_neighbourhood.iloc[0:10]\n",
    "top_10_expensive_neighbourhood\n",
    "\n",
    "# Calculate the mean number of dwelling types units per year\n",
    "dwellings_mean = to_data.groupby(\"year\").mean()\n",
    "dwellings_mean\n",
    "\n",
    "# Calculate the sum number of dwelling types units per year (hint: use groupby)\n",
    "dwellings_sum = to_data.groupby(\"year\").sum()\n",
    "dwellings_sum\n",
    "\n",
    "# Calculate the average monthly shelter costs for owned and rented dwellings\n",
    "avg_monthly_shelter_costs = dwellings_mean[[\"shelter_costs_owned\", \"shelter_costs_rented\"]]\n",
    "avg_monthly_shelter_costs"
   ]
  },
  {
   "cell_type": "markdown",
   "metadata": {},
   "source": [
    "### Panel Visualization Functions"
   ]
  },
  {
   "cell_type": "code",
   "execution_count": 28,
   "metadata": {},
   "outputs": [
    {
     "data": {
      "application/vnd.plotly.v1+json": {
       "config": {
        "plotlyServerURL": "https://plot.ly"
       },
       "data": [
        {
         "customdata": [
          [
           3435,
           1947.5,
           2.5,
           863.75,
           1406.25,
           512.5,
           547.5,
           10
          ],
          [
           2897.5,
           2180,
           1.25,
           375,
           456.25,
           523.75,
           628.75,
           32.5
          ],
          [
           2903.75,
           302.5,
           1.25,
           503.75,
           76.25,
           302.5,
           502.5,
           1.25
          ],
          [
           751.25,
           7235,
           1.25,
           1375,
           613.75,
           355,
           4605,
           83.75
          ],
          [
           3572.5,
           5388.75,
           1.25,
           273.75,
           626.25,
           32.5,
           1340,
           0
          ],
          [
           2131.25,
           1815,
           0,
           151.25,
           70,
           677.5,
           973.75,
           8.75
          ],
          [
           3.75,
           10470,
           0,
           1.25,
           18.75,
           1.25,
           271.25,
           2.5
          ],
          [
           2101.25,
           3222.5,
           2.5,
           141.25,
           830,
           70,
           500,
           2.5
          ],
          [
           1585,
           1700,
           0,
           580,
           175,
           86.25,
           522.5,
           1.25
          ],
          [
           4865,
           1981.25,
           0,
           43.75,
           57.5,
           287.5,
           1275,
           88.75
          ],
          [
           686.25,
           671.25,
           0,
           70,
           16.25,
           97.5,
           1060,
           3.75
          ],
          [
           3993.75,
           3582.5,
           2.5,
           323.75,
           258.75,
           921.25,
           330,
           10
          ],
          [
           5045,
           920,
           0,
           418.75,
           47.5,
           781.25,
           1957.5,
           26.25
          ],
          [
           732.5,
           4356.25,
           0,
           685,
           1116.25,
           113.75,
           238.75,
           2.5
          ],
          [
           526.25,
           491.25,
           0,
           810,
           380,
           151.25,
           748.75,
           25
          ],
          [
           1713.75,
           2401.25,
           0,
           150,
           37.5,
           351.25,
           1035,
           5
          ],
          [
           2260,
           331.25,
           0,
           36.25,
           90,
           25,
           40,
           0
          ],
          [
           880,
           3213.75,
           0,
           448.75,
           81.25,
           112.5,
           793.75,
           1.25
          ],
          [
           1775,
           3568.75,
           0,
           255,
           8.75,
           108.75,
           501.25,
           6.25
          ],
          [
           268.75,
           3322.5,
           0,
           451.25,
           615,
           127.5,
           1422.5,
           12.5
          ],
          [
           1757.5,
           166.25,
           0,
           421.25,
           18.75,
           371.25,
           853.75,
           5
          ],
          [
           916.25,
           2310,
           0,
           288.75,
           201.25,
           162.5,
           1192.5,
           2.5
          ],
          [
           3341.25,
           0,
           2.5,
           166.25,
           420,
           125,
           40,
           5
          ],
          [
           28.75,
           15042.5,
           1.25,
           32.5,
           231.25,
           38.75,
           1337.5,
           27.5
          ],
          [
           3223.75,
           1746.25,
           2.5,
           890,
           525,
           563.75,
           1020,
           28.75
          ],
          [
           2480,
           1352.5,
           6.25,
           11.25,
           12.5,
           517.5,
           1256.25,
           15
          ],
          [
           3407.5,
           1317.5,
           1.25,
           63.75,
           342.5,
           372.5,
           147.5,
           43.75
          ],
          [
           1451.25,
           3.75,
           0,
           1375,
           103.75,
           482.5,
           1811.25,
           35
          ],
          [
           708.75,
           337.5,
           0,
           1350,
           33.75,
           197.5,
           1275,
           30
          ],
          [
           3001.25,
           778.75,
           0,
           1721.25,
           32.5,
           512.5,
           856.25,
           30
          ],
          [
           2155,
           5256.25,
           1.25,
           397.5,
           1438.75,
           120,
           247.5,
           2.5
          ],
          [
           2106.25,
           3743.75,
           0,
           326.25,
           1318.75,
           405,
           413.75,
           3.75
          ],
          [
           1901.25,
           1666.25,
           2.5,
           2683.75,
           927.5,
           867.5,
           5661.25,
           105
          ],
          [
           4328.75,
           3183.75,
           2.5,
           893.75,
           535,
           330,
           3415,
           15
          ],
          [
           402.5,
           1235,
           0,
           713.75,
           112.5,
           296.25,
           2322.5,
           35
          ],
          [
           1835,
           2061.25,
           2.5,
           1973.75,
           445,
           460,
           2093.75,
           40
          ],
          [
           2570,
           2071.25,
           0,
           90,
           131.25,
           43.75,
           1043.75,
           1.25
          ],
          [
           1637.5,
           5045,
           0,
           108.75,
           403.75,
           481.25,
           251.25,
           6.25
          ],
          [
           1036.25,
           1377.5,
           0,
           75,
           476.25,
           153.75,
           50,
           0
          ],
          [
           2052.5,
           2722.5,
           0,
           27.5,
           262.5,
           423.75,
           2502.5,
           7.5
          ],
          [
           3951.25,
           1742.5,
           0,
           326.25,
           553.75,
           93.75,
           70,
           6.25
          ],
          [
           987.5,
           2772.5,
           0,
           96.25,
           222.5,
           45,
           56.25,
           10
          ],
          [
           5,
           6368.75,
           0,
           182.5,
           630,
           3.75,
           591.25,
           0
          ],
          [
           1488.75,
           3392.5,
           0,
           12.5,
           16.25,
           82.5,
           402.5,
           1.25
          ],
          [
           1742.5,
           2031.25,
           1.25,
           61.25,
           45,
           75,
           1027.5,
           3.75
          ],
          [
           441.25,
           3413.75,
           0,
           3538.75,
           1322.5,
           298.75,
           923.75,
           6.25
          ],
          [
           1077.5,
           517.5,
           1.25,
           1718.75,
           371.25,
           275,
           2082.5,
           12.5
          ],
          [
           2213.75,
           1082.5,
           0,
           116.25,
           296.25,
           122.5,
           100,
           1.25
          ],
          [
           500,
           3558.75,
           0,
           15,
           496.25,
           11.25,
           30,
           1.25
          ],
          [
           1442.5,
           6020,
           0,
           617.5,
           118.75,
           487.5,
           1891.25,
           13.75
          ],
          [
           2782.5,
           2507.5,
           1.25,
           520,
           202.5,
           692.5,
           3066.25,
           20
          ],
          [
           3125,
           1.25,
           1.25,
           3.75,
           10,
           470,
           23.75,
           0
          ],
          [
           1696.25,
           1950,
           0,
           900,
           1085,
           140,
           670,
           0
          ],
          [
           1727.5,
           1958.75,
           1.25,
           58.75,
           58.75,
           133.75,
           153.75,
           1.25
          ],
          [
           503.75,
           720,
           1.25,
           2031.25,
           101.25,
           85,
           375,
           0
          ],
          [
           583.75,
           1568.75,
           0,
           1333.75,
           267.5,
           68.75,
           990,
           1.25
          ],
          [
           1885,
           1700,
           0,
           258.75,
           6.25,
           160,
           2495,
           1.25
          ],
          [
           1110,
           2858.75,
           0,
           380,
           138.75,
           285,
           205,
           75
          ],
          [
           5206.25,
           8633.75,
           0,
           127.5,
           448.75,
           207.5,
           666.25,
           5
          ],
          [
           822.5,
           348.75,
           0,
           952.5,
           526.25,
           563.75,
           2218.75,
           20
          ],
          [
           1787.5,
           511.25,
           2.5,
           380,
           11.25,
           385,
           943.75,
           1.25
          ],
          [
           1785,
           2852.5,
           1.25,
           436.25,
           122.5,
           581.25,
           667.5,
           61.25
          ],
          [
           118.75,
           4041.25,
           1.25,
           328.75,
           761.25,
           135,
           2663.75,
           78.75
          ],
          [
           2197.5,
           4758.75,
           0,
           137.5,
           307.5,
           148.75,
           200,
           1.25
          ],
          [
           2326.25,
           576.25,
           0,
           66.25,
           48.75,
           20,
           336.25,
           2.5
          ],
          [
           1285,
           692.5,
           0,
           548.75,
           145,
           86.25,
           362.5,
           2.5
          ],
          [
           3731.25,
           6731.25,
           0,
           1032.5,
           2441.25,
           340,
           645,
           10
          ],
          [
           2447.5,
           2508.75,
           1.25,
           42.5,
           0,
           153.75,
           592.5,
           12.5
          ],
          [
           3196.25,
           201.25,
           0,
           871.25,
           23.75,
           177.5,
           1008.75,
           1.25
          ],
          [
           3472.5,
           773.75,
           0,
           126.25,
           38.75,
           225,
           966.25,
           16.25
          ],
          [
           3601.25,
           548.75,
           0,
           791.25,
           75,
           47.5,
           1421.25,
           8.75
          ],
          [
           343.75,
           1097.5,
           0,
           666.25,
           658.75,
           212.5,
           2560,
           38.75
          ],
          [
           1513.75,
           960,
           0,
           76.25,
           85,
           216.25,
           1696.25,
           15
          ],
          [
           3693.75,
           2982.5,
           0,
           1317.5,
           3410,
           878.75,
           552.5,
           55
          ],
          [
           1690,
           861.25,
           2.5,
           167.5,
           97.5,
           151.25,
           595,
           3.75
          ],
          [
           1788.75,
           2010,
           0,
           6.25,
           270,
           81.25,
           108.75,
           2.5
          ],
          [
           3910,
           1948.75,
           0,
           550,
           605,
           395,
           95,
           22.5
          ],
          [
           2406.25,
           6996.25,
           1.25,
           266.25,
           766.25,
           407.5,
           2966.25,
           18.75
          ],
          [
           2256.25,
           2105,
           1.25,
           27.5,
           880,
           255,
           211.25,
           2.5
          ],
          [
           110,
           5908.75,
           0,
           167.5,
           630,
           106.25,
           1973.75,
           23.75
          ],
          [
           1028.75,
           2238.75,
           0,
           138.75,
           302.5,
           176.25,
           912.5,
           2.5
          ],
          [
           1730,
           5916.25,
           1.25,
           176.25,
           1033.75,
           603.75,
           127.5,
           1.25
          ],
          [
           2225,
           2008.75,
           1.25,
           1611.25,
           146.25,
           170,
           1066.25,
           97.5
          ],
          [
           503.75,
           13042.5,
           6.25,
           193.75,
           237.5,
           96.25,
           1877.5,
           21.25
          ],
          [
           1601.25,
           1091.25,
           1.25,
           205,
           203.75,
           188.75,
           1763.75,
           3.75
          ],
          [
           2906.25,
           2403.75,
           1.25,
           8.75,
           35,
           265,
           302.5,
           0
          ],
          [
           2696.25,
           3677.5,
           0,
           631.25,
           500,
           273.75,
           392.5,
           1.25
          ],
          [
           52.5,
           8266.25,
           0,
           142.5,
           857.5,
           232.5,
           1683.75,
           17.5
          ],
          [
           875,
           667.5,
           0,
           1391.25,
           236.25,
           262.5,
           1575,
           31.25
          ],
          [
           15,
           8233.75,
           1.25,
           22.5,
           80,
           17.5,
           513.75,
           6.25
          ],
          [
           1142.5,
           3193.75,
           0,
           150,
           206.25,
           300,
           217.5,
           15
          ],
          [
           3000,
           1600,
           0,
           1282.5,
           31.25,
           667.5,
           2055,
           21.25
          ],
          [
           3033.75,
           2320,
           1.25,
           127.5,
           118.75,
           293.75,
           1487.5,
           6.25
          ],
          [
           2313.75,
           528.75,
           0,
           170,
           0,
           358.75,
           423.75,
           12.5
          ],
          [
           458.75,
           263.75,
           1.25,
           1150,
           298.75,
           240,
           3713.75,
           66.25
          ],
          [
           2567.5,
           6465,
           1.25,
           1445,
           1365,
           83.75,
           1157.5,
           5
          ],
          [
           1795,
           420,
           0,
           321.25,
           120,
           281.25,
           142.5,
           5
          ],
          [
           720,
           931.25,
           0,
           652.5,
           62.5,
           201.25,
           1000,
           17.5
          ],
          [
           1026.25,
           1467.5,
           0,
           1978.75,
           272.5,
           71.25,
           676.25,
           6.25
          ],
          [
           3298.75,
           445,
           0,
           2.5,
           41.25,
           47.5,
           10,
           2.5
          ],
          [
           15,
           2506.25,
           0,
           57.5,
           577.5,
           8.75,
           911.25,
           16.25
          ],
          [
           1886.25,
           635,
           0,
           36.25,
           451.25,
           326.25,
           552.5,
           0
          ],
          [
           2902.5,
           3225,
           1.25,
           1081.25,
           233.75,
           381.25,
           1043.75,
           0
          ],
          [
           843.75,
           1635,
           10,
           1148.75,
           356.25,
           390,
           2278.75,
           53.75
          ],
          [
           2498.75,
           4641.25,
           0,
           486.25,
           245,
           327.5,
           1618.75,
           2.5
          ],
          [
           6937.5,
           936.25,
           0,
           975,
           1621.25,
           732.5,
           608.75,
           6.25
          ],
          [
           2058.75,
           1.25,
           0,
           760,
           47.5,
           261.25,
           683.75,
           7.5
          ],
          [
           1168.75,
           1945,
           0,
           198.75,
           2.5,
           71.25,
           208.75,
           3.75
          ],
          [
           1081.25,
           3948.75,
           0,
           32.5,
           206.25,
           138.75,
           320,
           0
          ],
          [
           337.5,
           6557.5,
           5,
           243.75,
           278.75,
           192.5,
           2968.75,
           12.5
          ],
          [
           1005,
           1012.5,
           3.75,
           2686.25,
           1566.25,
           467.5,
           3823.75,
           85
          ],
          [
           3225,
           1670,
           0,
           185,
           552.5,
           97.5,
           586.25,
           5
          ],
          [
           3711.25,
           2592.5,
           1.25,
           190,
           558.75,
           275,
           257.5,
           0
          ],
          [
           5872.5,
           867.5,
           0,
           93.75,
           357.5,
           222.5,
           2788.75,
           6.25
          ],
          [
           3168.75,
           4542.5,
           0,
           170,
           891.25,
           477.5,
           408.75,
           10
          ],
          [
           622.5,
           4795,
           0,
           203.75,
           216.25,
           150,
           218.75,
           15
          ],
          [
           2642.5,
           488.75,
           1.25,
           1543.75,
           285,
           461.25,
           3770,
           23.75
          ],
          [
           1682.5,
           666.25,
           0,
           322.5,
           52.5,
           253.75,
           237.5,
           3.75
          ],
          [
           3.75,
           6318.75,
           0,
           0,
           141.25,
           0,
           187.5,
           5
          ],
          [
           442.5,
           178.75,
           0,
           1023.75,
           1027.5,
           460,
           3310,
           168.75
          ],
          [
           155,
           830,
           0,
           301.25,
           321.25,
           146.25,
           1252.5,
           46.25
          ],
          [
           1256.25,
           3150,
           0,
           315,
           308.75,
           130,
           2002.5,
           11.25
          ],
          [
           267.5,
           21913.75,
           2.5,
           68.75,
           528.75,
           31.25,
           667.5,
           15
          ],
          [
           3250,
           3441.25,
           0,
           475,
           1252.5,
           576.25,
           575,
           16.25
          ],
          [
           4381.25,
           1725,
           0,
           273.75,
           1341.25,
           1345,
           505,
           2.5
          ],
          [
           846.25,
           7665,
           0,
           642.5,
           400,
           117.5,
           277.5,
           12.5
          ],
          [
           1742.5,
           4387.5,
           0,
           216.25,
           142.5,
           193.75,
           768.75,
           5
          ],
          [
           650,
           553.75,
           1.25,
           1342.5,
           307.5,
           186.25,
           1135,
           21.25
          ],
          [
           5482.5,
           1810,
           2.5,
           13.75,
           251.25,
           1313.75,
           1090,
           10
          ],
          [
           3533.75,
           11598.75,
           6.25,
           63.75,
           736.25,
           205,
           1378.75,
           10
          ],
          [
           2178.75,
           3253.75,
           1.25,
           143.75,
           133.75,
           251.25,
           202.5,
           0
          ],
          [
           3647.5,
           3373.75,
           0,
           531.25,
           277.5,
           183.75,
           42.5,
           0
          ],
          [
           6623.75,
           8898.75,
           1.25,
           326.25,
           241.25,
           1417.5,
           430,
           7.5
          ],
          [
           898.75,
           577.5,
           0,
           1646.25,
           253.75,
           161.25,
           1721.25,
           23.75
          ],
          [
           1938.75,
           633.75,
           0,
           323.75,
           21.25,
           257.5,
           303.75,
           7.5
          ],
          [
           1056.25,
           1236.25,
           0,
           992.5,
           298.75,
           325,
           1878.75,
           17.5
          ],
          [
           1468.75,
           1638.75,
           0,
           470,
           33.75,
           328.75,
           1385,
           6.25
          ],
          [
           565,
           3948.75,
           0,
           425,
           212.5,
           172.5,
           1308.75,
           6.25
          ],
          [
           1355,
           5165,
           1.25,
           1316.25,
           662.5,
           188.75,
           1085,
           33.75
          ],
          [
           2286.25,
           1347.5,
           0,
           73.75,
           450,
           377.5,
           722.5,
           7.5
          ]
         ],
         "hovertemplate": "<b>%{hovertext}</b><br><br>average_house_value=%{marker.color}<br>lat=%{lat}<br>lon=%{lon}<br>single_detached_house=%{customdata[0]}<br>apartment_five_storeys_plus=%{customdata[1]}<br>movable_dwelling=%{customdata[2]}<br>semi_detached_house=%{customdata[3]}<br>row_house=%{customdata[4]}<br>duplex=%{customdata[5]}<br>apartment_five_storeys_less=%{customdata[6]}<br>other_house=%{customdata[7]}<extra></extra>",
         "hovertext": [
          "Agincourt North",
          "Agincourt South-Malvern West",
          "Alderwood",
          "Annex",
          "Banbury-Don Mills",
          "Bathurst Manor",
          "Bay Street Corridor",
          "Bayview Village",
          "Bayview Woods-Steeles",
          "Bedford Park-Nortown",
          "Beechborough-Greenbrook",
          "Bendale",
          "Birchcliffe-Cliffside",
          "Black Creek",
          "Blake-Jones",
          "Briar Hill-Belgravia",
          "Bridle Path-Sunnybrook-York Mills",
          "Broadview North",
          "Brookhaven-Amesbury",
          "Cabbagetown-South St.James Town",
          "Caledonia-Fairbank",
          "Casa Loma",
          "Centennial Scarborough",
          "Church-Yonge Corridor",
          "Clairlea-Birchmount",
          "Clanton Park",
          "Cliffcrest",
          "Corso Italia-Davenport",
          "Danforth",
          "Danforth-East York",
          "Don Valley Village",
          "Dorset Park",
          "Dovercourt-Wallace Emerson-Juncti",
          "Downsview-Roding-CFB",
          "Dufferin Grove",
          "East End-Danforth",
          "Edenbridge-Humber Valley",
          "Eglinton East",
          "Elms-Old Rexdale",
          "Englemount-Lawrence",
          "Eringate-Centennial-West Deane",
          "Etobicoke West Mall",
          "Flemingdon Park",
          "Forest Hill North",
          "Forest Hill South",
          "Glenfield-Jane Heights",
          "Greenwood-Coxwell",
          "Guildwood",
          "Henry Farm",
          "High Park North",
          "High Park-Swansea",
          "Highland Creek",
          "Hillcrest Village",
          "Humber Heights-Westmount",
          "Humber Summit",
          "Humbermede",
          "Humewood-Cedarvale",
          "Ionview",
          "Islington-City Centre West",
          "Junction Area",
          "Keelesdale-Eglinton West",
          "Kennedy Park",
          "Kensington-Chinatown",
          "Kingsview Village-The Westway",
          "Kingsway South",
          "L'Amoreaux",
          "Lambton Baby Point",
          "Lansing-Westgate",
          "Lawrence Park North",
          "Lawrence Park South",
          "Leaside-Bennington",
          "Little Portugal",
          "Long Branch",
          "Malvern",
          "Maple Leaf",
          "Markland Wood",
          "Milliken",
          "Mimico",
          "Morningside",
          "Moss Park",
          "Mount Dennis",
          "Mount Olive-Silverstone-Jamestown",
          "Mount Pleasant East",
          "Mount Pleasant West",
          "New Toronto",
          "Newtonbrook East",
          "Newtonbrook West",
          "Niagara",
          "North Riverdale",
          "North St.James Town",
          "O'Connor-Parkview",
          "Oakridge",
          "Oakwood Village",
          "Old East York",
          "Palmerston-Little Italy",
          "Parkwoods-Donalda",
          "Pelmo Park-Humberlea",
          "Playter Estates-Danforth",
          "Pleasant View",
          "Princess-Rosethorn",
          "Regent Park",
          "Rexdale-Kipling",
          "Rockcliffe-Smythe",
          "Roncesvalles",
          "Rosedale-Moore Park",
          "Rouge",
          "Runnymede-Bloor West Village",
          "Rustic",
          "Scarborough Village",
          "South Parkdale",
          "South Riverdale",
          "St.Andrew-Windfields",
          "Steeles",
          "Stonegate-Queensway",
          "Tam O'Shanter-Sullivan",
          "Taylor-Massey",
          "The Beaches",
          "Thistletown-Beaumond Heights",
          "Thorncliffe Park",
          "Trinity-Bellwoods",
          "University",
          "Victoria Village",
          "Waterfront Communities-The Island",
          "West Hill",
          "West Humber-Clairville",
          "Westminster-Branson",
          "Weston",
          "Weston-Pellam Park",
          "Wexford/Maryvale",
          "Willowdale East",
          "Willowdale West",
          "Willowridge-Martingrove-Richview",
          "Woburn",
          "Woodbine Corridor",
          "Woodbine-Lumsden",
          "Wychwood",
          "Yonge-Eglinton",
          "Yonge-St.Clair",
          "York University Heights",
          "Yorkdale-Glen Park"
         ],
         "lat": [
          43.80544058,
          43.78865755,
          43.6049369,
          43.67158544,
          43.737657,
          43.76481331,
          43.65751135,
          43.77636052,
          43.79680187,
          43.73148623,
          43.69321649,
          43.76036631,
          43.69468198,
          43.76489025,
          43.67617288,
          43.69902438,
          43.73101314,
          43.68882512,
          43.70132631,
          43.66764773,
          43.68856865,
          43.6818521,
          43.7823765,
          43.65964886,
          43.71359238,
          43.74197843,
          43.72112117,
          43.67766091,
          43.68402547,
          43.68946809,
          43.78329369,
          43.75927437,
          43.66567693,
          43.73329235,
          43.65542833,
          43.68417388,
          43.67088591,
          43.7409223,
          43.72151887,
          43.72034467,
          43.65801676,
          43.64506262,
          43.71592975,
          43.70421756,
          43.69452576,
          43.74563575,
          43.67261231,
          43.74882934,
          43.77114414,
          43.65756491,
          43.64506458,
          43.79077477,
          43.80298783,
          43.6922328,
          43.75891975,
          43.74342952,
          43.69136981,
          43.73536441,
          43.63346335,
          43.66788977,
          43.68572747,
          43.72555572,
          43.65355413,
          43.69899257,
          43.65352043,
          43.79571603,
          43.65742013,
          43.75427115,
          43.73006017,
          43.7172117,
          43.70379663,
          43.64753593,
          43.59236169,
          43.80365820000001,
          43.71557394,
          43.63354175,
          43.82069079,
          43.61592386,
          43.78239861,
          43.65651762,
          43.68814409,
          43.7468678,
          43.70485217,
          43.70443517,
          43.6005886,
          43.79153579,
          43.78582994,
          43.63668088,
          43.67199515,
          43.66962341,
          43.70680049,
          43.69740813,
          43.68856556,
          43.69678127,
          43.6591571,
          43.75503347,
          43.7175146,
          43.67970047,
          43.78698176,
          43.6660506,
          43.65999214,
          43.72372548,
          43.67479045,
          43.64612299,
          43.68282043,
          43.82120126,
          43.65926882,
          43.71160912,
          43.73865186,
          43.63669952,
          43.64929206,
          43.75624583,
          43.81295883,
          43.63551813,
          43.78012985,
          43.69499819,
          43.67104999,
          43.73798792,
          43.70774921,
          43.6501763,
          43.6625062,
          43.72848902,
          43.63388036,
          43.76749026,
          43.7161804,
          43.77881322,
          43.70271605,
          43.67396204,
          43.74857214,
          43.77060226,
          43.77121049,
          43.68364496,
          43.76674024,
          43.67677292,
          43.69410674,
          43.67691927,
          43.70468937,
          43.68785887,
          43.76573649,
          43.71467153
         ],
         "legendgroup": "",
         "lon": [
          -79.26671217,
          -79.2656118,
          -79.54161093,
          -79.40400062,
          -79.34971798,
          -79.45605516,
          -79.38572125,
          -79.37711686,
          -79.38211795,
          -79.42022735,
          -79.47947251,
          -79.25740037,
          -79.26509259,
          -79.52197932,
          -79.33739417,
          -79.45285129999999,
          -79.37890418,
          -79.35562951,
          -79.48558926,
          -79.36610666,
          -79.45521208,
          -79.40800665,
          -79.15084327,
          -79.37901717,
          -79.28138178,
          -79.44630258,
          -79.23552957,
          -79.44746933,
          -79.32981941,
          -79.33140338,
          -79.35364413,
          -79.27890794,
          -79.4385407,
          -79.49049735,
          -79.43734104,
          -79.29935867,
          -79.52245776,
          -79.24559804,
          -79.54898272,
          -79.43740855,
          -79.58044524,
          -79.56893877,
          -79.33264597,
          -79.42814316,
          -79.41431786,
          -79.51346532,
          -79.32431802,
          -79.19505535,
          -79.34124067,
          -79.46630217,
          -79.46787222,
          -79.17747247,
          -79.354804,
          -79.5224162,
          -79.55617474,
          -79.54236712,
          -79.42768335,
          -79.27247049,
          -79.54331654,
          -79.47143987,
          -79.47143711,
          -79.26038221,
          -79.39723988,
          -79.54786331,
          -79.5105768,
          -79.31408424,
          -79.49604526,
          -79.42474772,
          -79.40397836,
          -79.40603941,
          -79.36607234,
          -79.43032271,
          -79.53334545,
          -79.22251662,
          -79.48075802,
          -79.57343155,
          -79.27500892,
          -79.50013664,
          -79.20704119,
          -79.36729703,
          -79.49998906,
          -79.58725926,
          -79.38492395,
          -79.39335955,
          -79.51035809,
          -79.40593745,
          -79.43142151,
          -79.4124204,
          -79.35126041,
          -79.37524658,
          -79.31222777,
          -79.27970834,
          -79.43978548,
          -79.33548836,
          -79.41840873,
          -79.33017952,
          -79.5282822,
          -79.35488729,
          -79.33494843,
          -79.54455929,
          -79.36050881,
          -79.56622841,
          -79.49442045,
          -79.44299245,
          -79.3796694,
          -79.18634345,
          -79.48570818,
          -79.49809147,
          -79.21681262,
          -79.43933783,
          -79.33565132,
          -79.37903709,
          -79.32120701,
          -79.50112821,
          -79.30291871,
          -79.29590112,
          -79.29960129999999,
          -79.56349102,
          -79.34998361,
          -79.41534216,
          -79.40117975,
          -79.31487383,
          -79.37720231,
          -79.17667603,
          -79.59635645,
          -79.45241823,
          -79.51572255,
          -79.46024391,
          -79.29863657,
          -79.40148379,
          -79.4275578,
          -79.55422105,
          -79.22858577,
          -79.31540738,
          -79.31116353,
          -79.42551495,
          -79.40359017,
          -79.39787077,
          -79.48888293,
          -79.45710807
         ],
         "marker": {
          "color": [
           329811.5,
           334189,
           427922.5,
           746977,
           612039,
           501576.75,
           423653.5,
           539258.75,
           565413.5,
           930415.25,
           370927.75,
           301123.25,
           437315,
           260841.75,
           511437,
           365524.5,
           1526485.75,
           443373.25,
           350943,
           494110.5,
           361714.25,
           981064.25,
           409862.75,
           406117.5,
           354555.25,
           551561.25,
           417422,
           419930.5,
           466943,
           421679.25,
           398010.25,
           262000.25,
           434699.5,
           381415.5,
           457588.75,
           478054.25,
           796162.5,
           268966.5,
           268341.25,
           568936.75,
           397781.75,
           309412,
           207799,
           851680.5,
           1195992.5,
           327597.75,
           387055.5,
           369373.5,
           369958,
           532497,
           582977.75,
           428838.5,
           395023,
           449150.5,
           352082.5,
           319783.75,
           697085.5,
           287685.75,
           451685.25,
           433269.25,
           322774.75,
           287233.5,
           440485.75,
           338344.75,
           843234.25,
           650307.75,
           336617.75,
           613216.5,
           759392.5,
           1094027.75,
           806471.75,
           540192.5,
           385830.25,
           256880.25,
           453229,
           443974.75,
           344988.25,
           393490.5,
           285013.5,
           409456,
           262308.75,
           253182.25,
           677370.25,
           468181.75,
           407812,
           559573.25,
           460568.5,
           369993,
           703063.25,
           411455.75,
           298315.75,
           422257.5,
           441202.75,
           443413.5,
           622191.75,
           454652.5,
           405431.25,
           648859.25,
           373375.25,
           765746.5,
           392578.25,
           360999.25,
           345660.25,
           508937.25,
           1093640,
           376286.75,
           552082,
           431090.5,
           329835.75,
           447478.5,
           455020.5,
           999107,
           376014.5,
           550432.25,
           353926.5,
           239414,
           666306,
           375864,
           255264.75,
           534465.75,
           618316.75,
           352133,
           376863,
           284647.5,
           343254.25,
           349320.25,
           308007.75,
           351802,
           348319.25,
           469045.5,
           466134.75,
           464278,
           298505.75,
           445382.75,
           369918.5,
           565976.5,
           809745.75,
           813220.25,
           305899.5,
           430861.25
          ],
          "coloraxis": "coloraxis",
          "size": [
           329811.5,
           334189,
           427922.5,
           746977,
           612039,
           501576.75,
           423653.5,
           539258.75,
           565413.5,
           930415.25,
           370927.75,
           301123.25,
           437315,
           260841.75,
           511437,
           365524.5,
           1526485.75,
           443373.25,
           350943,
           494110.5,
           361714.25,
           981064.25,
           409862.75,
           406117.5,
           354555.25,
           551561.25,
           417422,
           419930.5,
           466943,
           421679.25,
           398010.25,
           262000.25,
           434699.5,
           381415.5,
           457588.75,
           478054.25,
           796162.5,
           268966.5,
           268341.25,
           568936.75,
           397781.75,
           309412,
           207799,
           851680.5,
           1195992.5,
           327597.75,
           387055.5,
           369373.5,
           369958,
           532497,
           582977.75,
           428838.5,
           395023,
           449150.5,
           352082.5,
           319783.75,
           697085.5,
           287685.75,
           451685.25,
           433269.25,
           322774.75,
           287233.5,
           440485.75,
           338344.75,
           843234.25,
           650307.75,
           336617.75,
           613216.5,
           759392.5,
           1094027.75,
           806471.75,
           540192.5,
           385830.25,
           256880.25,
           453229,
           443974.75,
           344988.25,
           393490.5,
           285013.5,
           409456,
           262308.75,
           253182.25,
           677370.25,
           468181.75,
           407812,
           559573.25,
           460568.5,
           369993,
           703063.25,
           411455.75,
           298315.75,
           422257.5,
           441202.75,
           443413.5,
           622191.75,
           454652.5,
           405431.25,
           648859.25,
           373375.25,
           765746.5,
           392578.25,
           360999.25,
           345660.25,
           508937.25,
           1093640,
           376286.75,
           552082,
           431090.5,
           329835.75,
           447478.5,
           455020.5,
           999107,
           376014.5,
           550432.25,
           353926.5,
           239414,
           666306,
           375864,
           255264.75,
           534465.75,
           618316.75,
           352133,
           376863,
           284647.5,
           343254.25,
           349320.25,
           308007.75,
           351802,
           348319.25,
           469045.5,
           466134.75,
           464278,
           298505.75,
           445382.75,
           369918.5,
           565976.5,
           809745.75,
           813220.25,
           305899.5,
           430861.25
          ],
          "sizemode": "area",
          "sizeref": 3816.214375
         },
         "mode": "markers",
         "name": "",
         "showlegend": false,
         "subplot": "mapbox",
         "type": "scattermapbox"
        }
       ],
       "layout": {
        "autosize": true,
        "coloraxis": {
         "colorbar": {
          "title": {
           "text": "average_house_value"
          }
         },
         "colorscale": [
          [
           0,
           "#000000"
          ],
          [
           0.0625,
           "#001f4d"
          ],
          [
           0.125,
           "#003786"
          ],
          [
           0.1875,
           "#0e58a8"
          ],
          [
           0.25,
           "#217eb8"
          ],
          [
           0.3125,
           "#30a4ca"
          ],
          [
           0.375,
           "#54c8df"
          ],
          [
           0.4375,
           "#9be4ef"
          ],
          [
           0.5,
           "#e1e9d1"
          ],
          [
           0.5625,
           "#f3d573"
          ],
          [
           0.625,
           "#e7b000"
          ],
          [
           0.6875,
           "#da8200"
          ],
          [
           0.75,
           "#c65400"
          ],
          [
           0.8125,
           "#ac2301"
          ],
          [
           0.875,
           "#820000"
          ],
          [
           0.9375,
           "#4c0000"
          ],
          [
           1,
           "#000000"
          ]
         ]
        },
        "legend": {
         "itemsizing": "constant",
         "tracegroupgap": 0
        },
        "mapbox": {
         "accesstoken": "pk.eyJ1IjoibmoxMjE5IiwiYSI6ImNrYzAwajNxMDBwcHUycnI1NHZ0b2piZ2QifQ.3C0vXoc4oKCl5uUW44iaNw",
         "bearing": 0,
         "center": {
          "lat": 43.79071275518643,
          "lon": -79.40791243640871
         },
         "domain": {
          "x": [
           0,
           1
          ],
          "y": [
           0,
           1
          ]
         },
         "pitch": 0,
         "zoom": 8.867612299380696
        },
        "template": {
         "data": {
          "bar": [
           {
            "error_x": {
             "color": "#2a3f5f"
            },
            "error_y": {
             "color": "#2a3f5f"
            },
            "marker": {
             "line": {
              "color": "#E5ECF6",
              "width": 0.5
             }
            },
            "type": "bar"
           }
          ],
          "barpolar": [
           {
            "marker": {
             "line": {
              "color": "#E5ECF6",
              "width": 0.5
             }
            },
            "type": "barpolar"
           }
          ],
          "carpet": [
           {
            "aaxis": {
             "endlinecolor": "#2a3f5f",
             "gridcolor": "white",
             "linecolor": "white",
             "minorgridcolor": "white",
             "startlinecolor": "#2a3f5f"
            },
            "baxis": {
             "endlinecolor": "#2a3f5f",
             "gridcolor": "white",
             "linecolor": "white",
             "minorgridcolor": "white",
             "startlinecolor": "#2a3f5f"
            },
            "type": "carpet"
           }
          ],
          "choropleth": [
           {
            "colorbar": {
             "outlinewidth": 0,
             "ticks": ""
            },
            "type": "choropleth"
           }
          ],
          "contour": [
           {
            "colorbar": {
             "outlinewidth": 0,
             "ticks": ""
            },
            "colorscale": [
             [
              0,
              "#0d0887"
             ],
             [
              0.1111111111111111,
              "#46039f"
             ],
             [
              0.2222222222222222,
              "#7201a8"
             ],
             [
              0.3333333333333333,
              "#9c179e"
             ],
             [
              0.4444444444444444,
              "#bd3786"
             ],
             [
              0.5555555555555556,
              "#d8576b"
             ],
             [
              0.6666666666666666,
              "#ed7953"
             ],
             [
              0.7777777777777778,
              "#fb9f3a"
             ],
             [
              0.8888888888888888,
              "#fdca26"
             ],
             [
              1,
              "#f0f921"
             ]
            ],
            "type": "contour"
           }
          ],
          "contourcarpet": [
           {
            "colorbar": {
             "outlinewidth": 0,
             "ticks": ""
            },
            "type": "contourcarpet"
           }
          ],
          "heatmap": [
           {
            "colorbar": {
             "outlinewidth": 0,
             "ticks": ""
            },
            "colorscale": [
             [
              0,
              "#0d0887"
             ],
             [
              0.1111111111111111,
              "#46039f"
             ],
             [
              0.2222222222222222,
              "#7201a8"
             ],
             [
              0.3333333333333333,
              "#9c179e"
             ],
             [
              0.4444444444444444,
              "#bd3786"
             ],
             [
              0.5555555555555556,
              "#d8576b"
             ],
             [
              0.6666666666666666,
              "#ed7953"
             ],
             [
              0.7777777777777778,
              "#fb9f3a"
             ],
             [
              0.8888888888888888,
              "#fdca26"
             ],
             [
              1,
              "#f0f921"
             ]
            ],
            "type": "heatmap"
           }
          ],
          "heatmapgl": [
           {
            "colorbar": {
             "outlinewidth": 0,
             "ticks": ""
            },
            "colorscale": [
             [
              0,
              "#0d0887"
             ],
             [
              0.1111111111111111,
              "#46039f"
             ],
             [
              0.2222222222222222,
              "#7201a8"
             ],
             [
              0.3333333333333333,
              "#9c179e"
             ],
             [
              0.4444444444444444,
              "#bd3786"
             ],
             [
              0.5555555555555556,
              "#d8576b"
             ],
             [
              0.6666666666666666,
              "#ed7953"
             ],
             [
              0.7777777777777778,
              "#fb9f3a"
             ],
             [
              0.8888888888888888,
              "#fdca26"
             ],
             [
              1,
              "#f0f921"
             ]
            ],
            "type": "heatmapgl"
           }
          ],
          "histogram": [
           {
            "marker": {
             "colorbar": {
              "outlinewidth": 0,
              "ticks": ""
             }
            },
            "type": "histogram"
           }
          ],
          "histogram2d": [
           {
            "colorbar": {
             "outlinewidth": 0,
             "ticks": ""
            },
            "colorscale": [
             [
              0,
              "#0d0887"
             ],
             [
              0.1111111111111111,
              "#46039f"
             ],
             [
              0.2222222222222222,
              "#7201a8"
             ],
             [
              0.3333333333333333,
              "#9c179e"
             ],
             [
              0.4444444444444444,
              "#bd3786"
             ],
             [
              0.5555555555555556,
              "#d8576b"
             ],
             [
              0.6666666666666666,
              "#ed7953"
             ],
             [
              0.7777777777777778,
              "#fb9f3a"
             ],
             [
              0.8888888888888888,
              "#fdca26"
             ],
             [
              1,
              "#f0f921"
             ]
            ],
            "type": "histogram2d"
           }
          ],
          "histogram2dcontour": [
           {
            "colorbar": {
             "outlinewidth": 0,
             "ticks": ""
            },
            "colorscale": [
             [
              0,
              "#0d0887"
             ],
             [
              0.1111111111111111,
              "#46039f"
             ],
             [
              0.2222222222222222,
              "#7201a8"
             ],
             [
              0.3333333333333333,
              "#9c179e"
             ],
             [
              0.4444444444444444,
              "#bd3786"
             ],
             [
              0.5555555555555556,
              "#d8576b"
             ],
             [
              0.6666666666666666,
              "#ed7953"
             ],
             [
              0.7777777777777778,
              "#fb9f3a"
             ],
             [
              0.8888888888888888,
              "#fdca26"
             ],
             [
              1,
              "#f0f921"
             ]
            ],
            "type": "histogram2dcontour"
           }
          ],
          "mesh3d": [
           {
            "colorbar": {
             "outlinewidth": 0,
             "ticks": ""
            },
            "type": "mesh3d"
           }
          ],
          "parcoords": [
           {
            "line": {
             "colorbar": {
              "outlinewidth": 0,
              "ticks": ""
             }
            },
            "type": "parcoords"
           }
          ],
          "pie": [
           {
            "automargin": true,
            "type": "pie"
           }
          ],
          "scatter": [
           {
            "marker": {
             "colorbar": {
              "outlinewidth": 0,
              "ticks": ""
             }
            },
            "type": "scatter"
           }
          ],
          "scatter3d": [
           {
            "line": {
             "colorbar": {
              "outlinewidth": 0,
              "ticks": ""
             }
            },
            "marker": {
             "colorbar": {
              "outlinewidth": 0,
              "ticks": ""
             }
            },
            "type": "scatter3d"
           }
          ],
          "scattercarpet": [
           {
            "marker": {
             "colorbar": {
              "outlinewidth": 0,
              "ticks": ""
             }
            },
            "type": "scattercarpet"
           }
          ],
          "scattergeo": [
           {
            "marker": {
             "colorbar": {
              "outlinewidth": 0,
              "ticks": ""
             }
            },
            "type": "scattergeo"
           }
          ],
          "scattergl": [
           {
            "marker": {
             "colorbar": {
              "outlinewidth": 0,
              "ticks": ""
             }
            },
            "type": "scattergl"
           }
          ],
          "scattermapbox": [
           {
            "marker": {
             "colorbar": {
              "outlinewidth": 0,
              "ticks": ""
             }
            },
            "type": "scattermapbox"
           }
          ],
          "scatterpolar": [
           {
            "marker": {
             "colorbar": {
              "outlinewidth": 0,
              "ticks": ""
             }
            },
            "type": "scatterpolar"
           }
          ],
          "scatterpolargl": [
           {
            "marker": {
             "colorbar": {
              "outlinewidth": 0,
              "ticks": ""
             }
            },
            "type": "scatterpolargl"
           }
          ],
          "scatterternary": [
           {
            "marker": {
             "colorbar": {
              "outlinewidth": 0,
              "ticks": ""
             }
            },
            "type": "scatterternary"
           }
          ],
          "surface": [
           {
            "colorbar": {
             "outlinewidth": 0,
             "ticks": ""
            },
            "colorscale": [
             [
              0,
              "#0d0887"
             ],
             [
              0.1111111111111111,
              "#46039f"
             ],
             [
              0.2222222222222222,
              "#7201a8"
             ],
             [
              0.3333333333333333,
              "#9c179e"
             ],
             [
              0.4444444444444444,
              "#bd3786"
             ],
             [
              0.5555555555555556,
              "#d8576b"
             ],
             [
              0.6666666666666666,
              "#ed7953"
             ],
             [
              0.7777777777777778,
              "#fb9f3a"
             ],
             [
              0.8888888888888888,
              "#fdca26"
             ],
             [
              1,
              "#f0f921"
             ]
            ],
            "type": "surface"
           }
          ],
          "table": [
           {
            "cells": {
             "fill": {
              "color": "#EBF0F8"
             },
             "line": {
              "color": "white"
             }
            },
            "header": {
             "fill": {
              "color": "#C8D4E3"
             },
             "line": {
              "color": "white"
             }
            },
            "type": "table"
           }
          ]
         },
         "layout": {
          "annotationdefaults": {
           "arrowcolor": "#2a3f5f",
           "arrowhead": 0,
           "arrowwidth": 1
          },
          "coloraxis": {
           "colorbar": {
            "outlinewidth": 0,
            "ticks": ""
           }
          },
          "colorscale": {
           "diverging": [
            [
             0,
             "#8e0152"
            ],
            [
             0.1,
             "#c51b7d"
            ],
            [
             0.2,
             "#de77ae"
            ],
            [
             0.3,
             "#f1b6da"
            ],
            [
             0.4,
             "#fde0ef"
            ],
            [
             0.5,
             "#f7f7f7"
            ],
            [
             0.6,
             "#e6f5d0"
            ],
            [
             0.7,
             "#b8e186"
            ],
            [
             0.8,
             "#7fbc41"
            ],
            [
             0.9,
             "#4d9221"
            ],
            [
             1,
             "#276419"
            ]
           ],
           "sequential": [
            [
             0,
             "#0d0887"
            ],
            [
             0.1111111111111111,
             "#46039f"
            ],
            [
             0.2222222222222222,
             "#7201a8"
            ],
            [
             0.3333333333333333,
             "#9c179e"
            ],
            [
             0.4444444444444444,
             "#bd3786"
            ],
            [
             0.5555555555555556,
             "#d8576b"
            ],
            [
             0.6666666666666666,
             "#ed7953"
            ],
            [
             0.7777777777777778,
             "#fb9f3a"
            ],
            [
             0.8888888888888888,
             "#fdca26"
            ],
            [
             1,
             "#f0f921"
            ]
           ],
           "sequentialminus": [
            [
             0,
             "#0d0887"
            ],
            [
             0.1111111111111111,
             "#46039f"
            ],
            [
             0.2222222222222222,
             "#7201a8"
            ],
            [
             0.3333333333333333,
             "#9c179e"
            ],
            [
             0.4444444444444444,
             "#bd3786"
            ],
            [
             0.5555555555555556,
             "#d8576b"
            ],
            [
             0.6666666666666666,
             "#ed7953"
            ],
            [
             0.7777777777777778,
             "#fb9f3a"
            ],
            [
             0.8888888888888888,
             "#fdca26"
            ],
            [
             1,
             "#f0f921"
            ]
           ]
          },
          "colorway": [
           "#636efa",
           "#EF553B",
           "#00cc96",
           "#ab63fa",
           "#FFA15A",
           "#19d3f3",
           "#FF6692",
           "#B6E880",
           "#FF97FF",
           "#FECB52"
          ],
          "font": {
           "color": "#2a3f5f"
          },
          "geo": {
           "bgcolor": "white",
           "lakecolor": "white",
           "landcolor": "#E5ECF6",
           "showlakes": true,
           "showland": true,
           "subunitcolor": "white"
          },
          "hoverlabel": {
           "align": "left"
          },
          "hovermode": "closest",
          "mapbox": {
           "style": "light"
          },
          "paper_bgcolor": "white",
          "plot_bgcolor": "#E5ECF6",
          "polar": {
           "angularaxis": {
            "gridcolor": "white",
            "linecolor": "white",
            "ticks": ""
           },
           "bgcolor": "#E5ECF6",
           "radialaxis": {
            "gridcolor": "white",
            "linecolor": "white",
            "ticks": ""
           }
          },
          "scene": {
           "xaxis": {
            "backgroundcolor": "#E5ECF6",
            "gridcolor": "white",
            "gridwidth": 2,
            "linecolor": "white",
            "showbackground": true,
            "ticks": "",
            "zerolinecolor": "white"
           },
           "yaxis": {
            "backgroundcolor": "#E5ECF6",
            "gridcolor": "white",
            "gridwidth": 2,
            "linecolor": "white",
            "showbackground": true,
            "ticks": "",
            "zerolinecolor": "white"
           },
           "zaxis": {
            "backgroundcolor": "#E5ECF6",
            "gridcolor": "white",
            "gridwidth": 2,
            "linecolor": "white",
            "showbackground": true,
            "ticks": "",
            "zerolinecolor": "white"
           }
          },
          "shapedefaults": {
           "line": {
            "color": "#2a3f5f"
           }
          },
          "ternary": {
           "aaxis": {
            "gridcolor": "white",
            "linecolor": "white",
            "ticks": ""
           },
           "baxis": {
            "gridcolor": "white",
            "linecolor": "white",
            "ticks": ""
           },
           "bgcolor": "#E5ECF6",
           "caxis": {
            "gridcolor": "white",
            "linecolor": "white",
            "ticks": ""
           }
          },
          "title": {
           "x": 0.05
          },
          "xaxis": {
           "automargin": true,
           "gridcolor": "white",
           "linecolor": "white",
           "ticks": "",
           "title": {
            "standoff": 15
           },
           "zerolinecolor": "white",
           "zerolinewidth": 2
          },
          "yaxis": {
           "automargin": true,
           "gridcolor": "white",
           "linecolor": "white",
           "ticks": "",
           "title": {
            "standoff": 15
           },
           "zerolinecolor": "white",
           "zerolinewidth": 2
          }
         }
        },
        "title": {
         "text": "Average House Values in Toronto"
        }
       }
      },
      "image/png": "[encoded data removed]"
     },
     "metadata": {},
     "output_type": "display_data"
    }
   ],
   "source": [
    "# Define Panel visualization functions\n",
    "def neighbourhood_map():\n",
    "    \"\"\"Neighbourhood Map\"\"\"\n",
    "   # Load neighbourhoods coordinates data\n",
    "    file_path = Path(\"Data/toronto_neighbourhoods_coordinates.csv\")\n",
    "    df_neighbourhood_locations = pd.read_csv(file_path)\n",
    "    df_neighbourhood_locations.head()\n",
    "    \n",
    "    # Calculate the mean values for each neighborhood\n",
    "    mean_value_neighbourhood = to_data.groupby(\"neighbourhood\").mean()\n",
    "    mean_value_neighbourhood.reset_index(inplace=True)\n",
    "    mean_value_neighbourhood.head()\n",
    "    \n",
    "    # Join the average values with the neighbourhood locations\n",
    "\n",
    "    combined_df = df_neighbourhood_locations.merge(mean_value_neighbourhood, on = \"neighbourhood\", how = \"outer\")\n",
    "    combined_df.head()\n",
    "    \n",
    "    # Create a scatter mapbox to analyze neighbourhood info\n",
    "    scatter_map = px.scatter_mapbox(\n",
    "    combined_df,\n",
    "    lat=\"lat\",\n",
    "    lon=\"lon\",\n",
    "    size=\"average_house_value\",\n",
    "    color=\"average_house_value\",\n",
    "    zoom=4,\n",
    "    title = \"Average House Values in Toronto\",\n",
    "    color_continuous_scale=px.colors.cyclical.IceFire,\n",
    "    hover_name = \"neighbourhood\",\n",
    "    hover_data = [\"single_detached_house\",\n",
    "                  \"apartment_five_storeys_plus\",\n",
    "                  \"movable_dwelling\",\n",
    "                  \"semi_detached_house\",\n",
    "                  \"row_house\",\n",
    "                  \"duplex\",\n",
    "                  \"apartment_five_storeys_less\",\n",
    "                  \"other_house\"]\n",
    "    )\n",
    "    \n",
    "    return scatter_map\n",
    "neighbourhood_map()"
   ]
  },
  {
   "cell_type": "code",
   "execution_count": 102,
   "metadata": {},
   "outputs": [
    {
     "data": {
      "text/plain": [
       "<matplotlib.axes._subplots.AxesSubplot at 0x1e5f82cb948>"
      ]
     },
     "execution_count": 102,
     "metadata": {},
     "output_type": "execute_result"
    },
    {
     "data": {
      "image/png": "[encoded data removed]",
      "text/plain": [
       "<Figure size 864x360 with 1 Axes>"
      ]
     },
     "metadata": {
      "needs_background": "light"
     },
     "output_type": "display_data"
    }
   ],
   "source": [
    "def create_bar_chart(year):\n",
    "    \"\"\"\n",
    "    Create a barplot based in the data argument.\n",
    "    \"\"\"\n",
    "    # Create a bar chart per year to show the number of dwelling types\n",
    "    dwellings_type = dwellings_sum.drop(columns=[\"average_house_value\", \"shelter_costs_owned\", \"shelter_costs_rented\"])\n",
    "    \n",
    "    if year == 2001:\n",
    "        # Bar chart for 2001\n",
    "        plt.clf()\n",
    "        data_2001 = dwellings_type.iloc[0].plot.bar(figsize=[12,5], \n",
    "                                            color = \"red\", \n",
    "                                            title=\"Dwellings types in Toronto in 2001\"\n",
    "                                            )\n",
    "        plt.xlabel(\"2001\")\n",
    "        plt.ylabel(\"Dwelling Type Units\")\n",
    "#         plot_2001 = pn.pane.Matplotlib(data_2001)\n",
    "        plot_2001 = data_2001\n",
    "        return plot_2001\n",
    "    \n",
    "    elif year == 2006:\n",
    "        \n",
    "        # Bar chart for 2006\n",
    "        plt.clf()\n",
    "        data_2006 = dwellings_type.iloc[1].plot.bar(figsize=[12,5], color=\"darkblue\", title=\"Dwellings types in Toronto in 2006\")\n",
    "        plt.xlabel(\"2006\")\n",
    "        plt.ylabel(\"Dwelling Type Units\")\n",
    "        data_2006\n",
    "        plot_2006 = data_2006\n",
    "        return plot_2006\n",
    "        \n",
    "    elif year == 2011:\n",
    "        \n",
    "        # Bar chart for 2011\n",
    "        plt.clf()\n",
    "        data_2011 = dwellings_type.iloc[2].plot.bar(figsize=[12,5], color = \"yellow\", title=\"Dwellings types in Toronto in 2011\")\n",
    "        plt.xlabel(\"2011\")\n",
    "        plt.ylabel(\"Dwelling Type Units\")\n",
    "        data_2011\n",
    "        plot_2011 = data_2011 \n",
    "        return plot_2011\n",
    "    \n",
    "    elif year == 2016:\n",
    "        \n",
    "        # Bar chart for 2016\n",
    "        plt.clf()\n",
    "        data_2016 = dwellings_type.iloc[3].plot.bar(figsize=[12,5], color = \"purple\", title=\"Dwellings types in Toronto in 2016\")\n",
    "\n",
    "        plt.xlabel(\"2016\")\n",
    "        plt.ylabel(\"Dwelling Type Units\")\n",
    "        data_2016\n",
    "        plot_2016 = data_2016\n",
    "        return plot_2016\n",
    "    \n",
    "\n",
    "    \n",
    "create_bar_chart(2001)\n",
    "# create_bar_chart(2006)\n",
    "\n"
   ]
  },
  {
   "cell_type": "code",
   "execution_count": 91,
   "metadata": {},
   "outputs": [
    {
     "data": {
      "text/plain": [
       "<matplotlib.axes._subplots.AxesSubplot at 0x1e5f4db6448>"
      ]
     },
     "execution_count": 91,
     "metadata": {},
     "output_type": "execute_result"
    },
    {
     "data": {
      "image/png": "[encoded data removed]",
      "text/plain": [
       "<Figure size 864x360 with 1 Axes>"
      ]
     },
     "metadata": {
      "needs_background": "light"
     },
     "output_type": "display_data"
    }
   ],
   "source": [
    "def create_line_chart(kind):\n",
    "    \"\"\"\n",
    "    Create a line chart based in the data argument.\n",
    "    \"\"\"\n",
    "    if kind == \"rented\":\n",
    "        plt.clf()\n",
    "        plot_rented_dwellings = avg_monthly_shelter_costs[\"shelter_costs_rented\"].plot.line(figsize=[12,5], \n",
    "                                                                                    color=\"yellow\",\n",
    "                                                                                    title=\"Average Monthly Shelter Cost for Rented Dwellings in Toronto\")\n",
    "        return plot_rented_dwellings\n",
    "    \n",
    "    elif kind == \"owned\":\n",
    "        plt.clf()\n",
    "        plot_owned_dwellings = avg_monthly_shelter_costs[\"shelter_costs_owned\"].plot.line(figsize=[12,5], \n",
    "                                                                                  color=\"darkblue\", \n",
    "                                                                                  title=\"Average Monthly Shelter Cost for Owned Dwellings in Toronto\")\n",
    "        return plot_owned_dwellings\n",
    "\n",
    "# create_line_chart(\"owned\")\n",
    "# create_line_chart(\"rented\")\n",
    "   "
   ]
  },
  {
   "cell_type": "code",
   "execution_count": 36,
   "metadata": {},
   "outputs": [],
   "source": [
    "def average_house_value():\n",
    "    \"\"\"Average house values per year.\"\"\"\n",
    "    # Calculate the average house value per\n",
    "    avg_housing_value = dwellings_mean[\"average_house_value\"]\n",
    "    avg_housing_value_plot =  avg_housing_value.plot.line(figsize=[12,5], \n",
    "                            color=\"blue\",\n",
    "                            title=\"Average House Value in Toronto\")\n",
    "    return(avg_housing_value, avg_housing_value_plot)\n",
    "#average_house_value()"
   ]
  },
  {
   "cell_type": "code",
   "execution_count": 10,
   "metadata": {},
   "outputs": [],
   "source": [
    "def average_value_by_neighbourhood():\n",
    "    \"\"\"Average house values by neighbourhood.\"\"\"\n",
    "    \n",
    "    # Create a new DataFrame with the mean house values by neighbourhood per year\n",
    "    neighbourhood_df = to_data.groupby([\"year\", \"neighbourhood\"]).mean()\n",
    "    neighbourhood_mean_house_value = neighbourhood_df[[\"average_house_value\"]]\n",
    "    # Use hvplot to create an interactive line chart of the average house value per neighbourhood\n",
    "    # The plot should have a dropdown selector for the neighbourhood\n",
    "    neighbourhood_value_plot= neighbourhood_mean_house_value.hvplot.line(\"year\", groupby=\"neighbourhood\", width= 500).opts(yformatter=\"%.0f\")\n",
    "    return neighbourhood_value_plot\n",
    "#average_value_by_neighbourhood()"
   ]
  },
  {
   "cell_type": "code",
   "execution_count": 11,
   "metadata": {},
   "outputs": [],
   "source": [
    "def number_dwelling_types():\n",
    "    \"\"\"Number of dwelling types per year\"\"\"\n",
    "    \n",
    "    # Use hvplot to create an interactive bar chart of the number of dwelling types per neighbourhood\n",
    "    # The plot should have a dropdown selector for the neighbourhood\n",
    "    dwellings_types_neighbourhood = to_data.drop(columns=[\"average_house_value\", \"shelter_costs_owned\", \"shelter_costs_rented\"])\n",
    "    dwellings_types_neighbourhood_plot = dwellings_types_neighbourhood.hvplot.bar(\"year\", groupby=\"neighbourhood\", width= 700, height = 500, rot=90)\n",
    "    \n",
    "    return dwellings_types_neighbourhood_plot\n",
    "#number_dwelling_types()"
   ]
  },
  {
   "cell_type": "code",
   "execution_count": 12,
   "metadata": {},
   "outputs": [],
   "source": [
    "def average_house_value_snapshot():\n",
    "    \"\"\"Average house value for all Toronto's neighbourhoods per year.\"\"\"\n",
    "    plotly_figure = to_data.reset_index()\n",
    "    row_facet = px.bar(plotly_figure, \n",
    "                       x = \"neighbourhood\", \n",
    "                       y = \"average_house_value\",\n",
    "                       facet_row = \"year\",\n",
    "                       title = \"Average House Values in Toronto per Neighbourhood\",\n",
    "                       height = 1000,\n",
    "                       width = 1300,\n",
    "                       color = \"average_house_value\")\n",
    "    return row_facet\n",
    "#average_house_value_snapshot()"
   ]
  },
  {
   "cell_type": "code",
   "execution_count": 73,
   "metadata": {},
   "outputs": [
    {
     "data": {
      "application/vnd.holoviews_exec.v0+json": "",
      "text/html": [
       "<div id='6264'>\n",
       "\n",
       "\n",
       "\n",
       "\n",
       "\n",
       "  <div class=\"bk-root\" id=\"bc8e8b6c-273c-473a-ac0d-e57326680d62\" data-root-id=\"6264\"></div>\n",
       "</div>\n",
       "<script type=\"application/javascript\">(function(root) {\n",
       "  function embed_document(root) {\n",
       "  var docs_json = {\"d9374fbc-f1a2-46db-9d24-a9d29a330c3f\":{\"roots\":{\"references\":[{\"attributes\":{\"axis\":{\"id\":\"6278\"},\"grid_line_color\":null,\"ticker\":null},\"id\":\"6280\",\"type\":\"Grid\"},{\"attributes\":{\"fill_color\":{\"value\":\"#1f77b3\"},\"top\":{\"field\":\"average_house_value\"},\"width\":{\"value\":0.8},\"x\":{\"field\":\"neighbourhood\"}},\"id\":\"6301\",\"type\":\"VBar\"},{\"attributes\":{\"data_source\":{\"id\":\"6298\"},\"glyph\":{\"id\":\"6301\"},\"hover_glyph\":null,\"muted_glyph\":{\"id\":\"6303\"},\"nonselection_glyph\":{\"id\":\"6302\"},\"selection_glyph\":null,\"view\":{\"id\":\"6305\"}},\"id\":\"6304\",\"type\":\"GlyphRenderer\"},{\"attributes\":{},\"id\":\"6276\",\"type\":\"LinearScale\"},{\"attributes\":{\"active_drag\":\"auto\",\"active_inspect\":\"auto\",\"active_multi\":null,\"active_scroll\":\"auto\",\"active_tap\":\"auto\",\"tools\":[{\"id\":\"6268\"},{\"id\":\"6285\"},{\"id\":\"6286\"},{\"id\":\"6287\"},{\"id\":\"6288\"},{\"id\":\"6289\"}]},\"id\":\"6291\",\"type\":\"Toolbar\"},{\"attributes\":{\"source\":{\"id\":\"6298\"}},\"id\":\"6305\",\"type\":\"CDSView\"},{\"attributes\":{},\"id\":\"6279\",\"type\":\"CategoricalTicker\"},{\"attributes\":{},\"id\":\"6282\",\"type\":\"BasicTicker\"},{\"attributes\":{\"axis\":{\"id\":\"6281\"},\"dimension\":1,\"grid_line_color\":null,\"ticker\":null},\"id\":\"6284\",\"type\":\"Grid\"},{\"attributes\":{\"bottom_units\":\"screen\",\"fill_alpha\":0.5,\"fill_color\":\"lightgrey\",\"left_units\":\"screen\",\"level\":\"overlay\",\"line_alpha\":1.0,\"line_color\":\"black\",\"line_dash\":[4,4],\"line_width\":2,\"right_units\":\"screen\",\"top_units\":\"screen\"},\"id\":\"6290\",\"type\":\"BoxAnnotation\"},{\"attributes\":{\"data\":{\"average_house_value\":{\"__ndarray__\":\"AAAAwNVKN0EAAACA2D8yQQAAAMCLsTBBAAAAAAiwMEEAAAAAhn0uQQAAAICQ8C1BAAAAgN5kLEEAAAAAwf0pQQAAAIDEuylBAAAAgEjRKEE=\",\"dtype\":\"float64\",\"order\":\"little\",\"shape\":[10]},\"neighbourhood\":[\"Bridle Path-Sunnybrook-York Mills\",\"Forest Hill South\",\"Lawrence Park South\",\"Rosedale-Moore Park\",\"St.Andrew-Windfields\",\"Casa Loma\",\"Bedford Park-Nortown\",\"Forest Hill North\",\"Kingsway South\",\"Yonge-St.Clair\"]},\"selected\":{\"id\":\"6299\"},\"selection_policy\":{\"id\":\"6318\"}},\"id\":\"6298\",\"type\":\"ColumnDataSource\"},{\"attributes\":{},\"id\":\"6285\",\"type\":\"SaveTool\"},{\"attributes\":{\"text\":\"Top 10 Expensive Neighbourhoods in Toronto\",\"text_color\":{\"value\":\"black\"},\"text_font_size\":{\"value\":\"12pt\"}},\"id\":\"6270\",\"type\":\"Title\"},{\"attributes\":{},\"id\":\"6299\",\"type\":\"Selection\"},{\"attributes\":{\"margin\":[5,5,5,5],\"name\":\"HSpacer16205\",\"sizing_mode\":\"stretch_width\"},\"id\":\"6265\",\"type\":\"Spacer\"},{\"attributes\":{\"end\":1597812.3,\"reset_end\":1597812.3,\"reset_start\":0.0,\"tags\":[[[\"average_house_value\",\"average_house_value\",null]]]},\"id\":\"6267\",\"type\":\"Range1d\"},{\"attributes\":{\"align\":null,\"below\":[{\"id\":\"6278\"}],\"center\":[{\"id\":\"6280\"},{\"id\":\"6284\"}],\"left\":[{\"id\":\"6281\"}],\"margin\":null,\"min_border_bottom\":10,\"min_border_left\":10,\"min_border_right\":10,\"min_border_top\":10,\"plot_height\":500,\"plot_width\":700,\"renderers\":[{\"id\":\"6304\"}],\"sizing_mode\":\"fixed\",\"title\":{\"id\":\"6270\"},\"toolbar\":{\"id\":\"6291\"},\"x_range\":{\"id\":\"6266\"},\"x_scale\":{\"id\":\"6274\"},\"y_range\":{\"id\":\"6267\"},\"y_scale\":{\"id\":\"6276\"}},\"id\":\"6269\",\"subtype\":\"Figure\",\"type\":\"Plot\"},{\"attributes\":{},\"id\":\"6274\",\"type\":\"CategoricalScale\"},{\"attributes\":{\"margin\":[5,5,5,5],\"name\":\"HSpacer16206\",\"sizing_mode\":\"stretch_width\"},\"id\":\"6327\",\"type\":\"Spacer\"},{\"attributes\":{\"children\":[{\"id\":\"6265\"},{\"id\":\"6269\"},{\"id\":\"6327\"}],\"margin\":[0,0,0,0],\"name\":\"Row16201\",\"tags\":[\"embedded\"]},\"id\":\"6264\",\"type\":\"Row\"},{\"attributes\":{},\"id\":\"6287\",\"type\":\"WheelZoomTool\"},{\"attributes\":{},\"id\":\"6318\",\"type\":\"UnionRenderers\"},{\"attributes\":{\"callback\":null,\"renderers\":[{\"id\":\"6304\"}],\"tags\":[\"hv_created\"],\"tooltips\":[[\"neighbourhood\",\"@{neighbourhood}\"],[\"average_house_value\",\"@{average_house_value}\"]]},\"id\":\"6268\",\"type\":\"HoverTool\"},{\"attributes\":{},\"id\":\"6286\",\"type\":\"PanTool\"},{\"attributes\":{\"format\":\"%.0f\"},\"id\":\"6306\",\"type\":\"PrintfTickFormatter\"},{\"attributes\":{\"factors\":[\"Bridle Path-Sunnybrook-York Mills\",\"Forest Hill South\",\"Lawrence Park South\",\"Rosedale-Moore Park\",\"St.Andrew-Windfields\",\"Casa Loma\",\"Bedford Park-Nortown\",\"Forest Hill North\",\"Kingsway South\",\"Yonge-St.Clair\"],\"tags\":[[[\"neighbourhood\",\"neighbourhood\",null]]]},\"id\":\"6266\",\"type\":\"FactorRange\"},{\"attributes\":{},\"id\":\"6307\",\"type\":\"CategoricalTickFormatter\"},{\"attributes\":{\"overlay\":{\"id\":\"6290\"}},\"id\":\"6288\",\"type\":\"BoxZoomTool\"},{\"attributes\":{\"axis_label\":\"average_house_value\",\"bounds\":\"auto\",\"formatter\":{\"id\":\"6306\"},\"major_label_orientation\":\"horizontal\",\"ticker\":{\"id\":\"6282\"}},\"id\":\"6281\",\"type\":\"LinearAxis\"},{\"attributes\":{},\"id\":\"6289\",\"type\":\"ResetTool\"},{\"attributes\":{\"fill_alpha\":{\"value\":0.2},\"fill_color\":{\"value\":\"#1f77b3\"},\"line_alpha\":{\"value\":0.2},\"top\":{\"field\":\"average_house_value\"},\"width\":{\"value\":0.8},\"x\":{\"field\":\"neighbourhood\"}},\"id\":\"6303\",\"type\":\"VBar\"},{\"attributes\":{\"axis_label\":\"neighbourhood\",\"bounds\":\"auto\",\"formatter\":{\"id\":\"6307\"},\"major_label_orientation\":1.5707963267948966,\"ticker\":{\"id\":\"6279\"}},\"id\":\"6278\",\"type\":\"CategoricalAxis\"},{\"attributes\":{\"fill_alpha\":{\"value\":0.1},\"fill_color\":{\"value\":\"#1f77b3\"},\"line_alpha\":{\"value\":0.1},\"top\":{\"field\":\"average_house_value\"},\"width\":{\"value\":0.8},\"x\":{\"field\":\"neighbourhood\"}},\"id\":\"6302\",\"type\":\"VBar\"}],\"root_ids\":[\"6264\"]},\"title\":\"Bokeh Application\",\"version\":\"2.1.1\"}};\n",
       "  var render_items = [{\"docid\":\"d9374fbc-f1a2-46db-9d24-a9d29a330c3f\",\"root_ids\":[\"6264\"],\"roots\":{\"6264\":\"bc8e8b6c-273c-473a-ac0d-e57326680d62\"}}];\n",
       "  root.Bokeh.embed.embed_items_notebook(docs_json, render_items);\n",
       "  }\n",
       "if (root.Bokeh !== undefined) {\n",
       "    embed_document(root);\n",
       "  } else {\n",
       "    var attempts = 0;\n",
       "    var timer = setInterval(function(root) {\n",
       "      if (root.Bokeh !== undefined) {\n",
       "        clearInterval(timer);\n",
       "        embed_document(root);\n",
       "      } else if (document.readyState == \"complete\") {\n",
       "        attempts++;\n",
       "        if (attempts > 100) {\n",
       "          clearInterval(timer);\n",
       "          console.log(\"Bokeh: ERROR: Unable to run BokehJS code because BokehJS library is missing\");\n",
       "        }\n",
       "      }\n",
       "    }, 10, root)\n",
       "  }\n",
       "})(window);</script>"
      ],
      "text/plain": [
       ":Bars   [neighbourhood]   (average_house_value)"
      ]
     },
     "execution_count": 73,
     "metadata": {
      "application/vnd.holoviews_exec.v0+json": {
       "id": "6264"
      }
     },
     "output_type": "execute_result"
    }
   ],
   "source": [
    "def top_most_expensive_neighbourhoods():\n",
    "    \"\"\"Top 10 most expensive neighbourhoods.\"\"\"\n",
    "    \n",
    "    top_10 = top_10_expensive_neighbourhood.hvplot.bar(x = \"neighbourhood\", \n",
    "                                          y = \"average_house_value\", \n",
    "                                          rot=90, height= 500,\n",
    "                                         title= \"Top 10 Expensive Neighbourhoods in Toronto\").opts(yformatter=\"%.0f\")\n",
    "    return top_10\n",
    "top_most_expensive_neighbourhoods()"
   ]
  },
  {
   "cell_type": "code",
   "execution_count": 14,
   "metadata": {},
   "outputs": [],
   "source": [
    "def sunburst_cost_analysis():\n",
    "    \"\"\"Sunburst chart to conduct a costs analysis of most expensive neighbourhoods in Toronto per year.\"\"\"\n",
    "    \n",
    "    # Fetch the data from all expensive neighbourhoods per year.\n",
    "    expensive_neighbourhoods_yearly_df = to_data.reset_index()\n",
    "    \n",
    "    # Selecteing top-10 most expensive neighbourhoods from each year\n",
    "    expensive_neighbourhoods_yearly= expensive_neighbourhoods_yearly_df.sort_values(\n",
    "                                                                            ['year', \n",
    "                                                                             'average_house_value'\n",
    "                                                                            ], \n",
    "                                                                                ascending=False).groupby('year').head(10)\n",
    "\n",
    "    sunburst_chart = expensive_neighbourhoods_yearly.sort_values([\"year\", \"average_house_value\"])\n",
    "    # Create the sunburst chart\n",
    "    sunburst_figure = px.sunburst(sunburst_chart, \n",
    "                              path =[\"year\", \"neighbourhood\"], \n",
    "                              values = \"average_house_value\",\n",
    "                              hover_data=[\"shelter_costs_owned\",\"shelter_costs_rented\"],\n",
    "                              color=(\"shelter_costs_owned\")\n",
    "                              )\n",
    "    return sunburst_figure\n",
    "#sunburst_cost_analysis()"
   ]
  },
  {
   "cell_type": "markdown",
   "metadata": {},
   "source": [
    "## Panel Dashboard\n",
    "\n",
    "In this section, you will combine all of the plots into a single dashboard view using Panel. Be creative with your dashboard design!"
   ]
  },
  {
   "cell_type": "code",
   "execution_count": 93,
   "metadata": {},
   "outputs": [
    {
     "data": {
      "image/png": "[encoded data removed]",
      "text/plain": [
       "<Figure size 864x360 with 1 Axes>"
      ]
     },
     "metadata": {
      "needs_background": "light"
     },
     "output_type": "display_data"
    }
   ],
   "source": [
    "# Create a Title for the Dashboard\n",
    "title = pn.pane.Markdown(\"\"\"#An Analysis of Toronto Real Estate Market from 2001 to 2016\"\"\",width = 800)\n",
    "\n",
    "# Define a welcome text\n",
    "intro = pn.pane.Markdown(\n",
    "\"\"\"\n",
    "This Interactive Dashboard (using PyViz Panel) shows real estate data for Toronto from\n",
    "2001 to 2016.     \n",
    "Navigate across the various tabs to explore different types of analysis.     \n",
    "\n",
    "  \n",
    "The dashboard has 6 tabs as follows:  \n",
    "\n",
    "1. Intro - Containing short message providing context on the dashboard data.  \n",
    "2. Geospatial Analysis through MapBox Scatter Figure, containing an interactive map with data on    \n",
    "      - Average prices of dwellings per neighbourhood    \n",
    "      - Number of Dwellings in each neighbourhood  \n",
    "      \n",
    "3. Analysis of number of each dwelling units in Toronto in 2001, 2006, 2011 and 2016 respectively.   \n",
    "      - It is compared with Average monthly dwelling costs for rented or owned properties in Toronto.  \n",
    "      \n",
    "4. Pricing Analysis   \n",
    "      - Average of house value for Toronto overall  \n",
    "      - Average of house value for each neighbourhood in Toronto   \n",
    "      - This also contains an interactive map showing the number of dwelling types in each year by each neighbourhood.  \n",
    "      \n",
    "5. This shows the average house value in each neighbourhood in Toronto through an interactive chart   \n",
    "\n",
    "6. This shows an analysis of the 10 most expensive neighbourhoods in Toronto through a bar chart and a sunburst chart   \n",
    "       \n",
    "\"\"\"\n",
    ")\n",
    "\n",
    "# Create a tab layout for the dashboard\n",
    "tab_2_column = pn.Column((\"## Overall Neighbourhood map for each dwelling type in numbers and value\"),\n",
    "                         neighbourhood_map)\n",
    "\n",
    "tab_3_row1 = pn.Row(create_bar_chart(2001), create_bar_chart(2006))\n",
    "tab_3_row2 = pn.Row(create_bar_chart(2011), create_bar_chart(2016))\n",
    "\n",
    "rented = create_line_chart(\"rented\")\n",
    "owned = create_line_chart(\"owned\")\n",
    "tab_3_row3 = pn.Row(rented, owned)\n",
    "\n",
    "tab_3_column = pn.Column(tab_3_row1,\n",
    "                         tab_3_row2,\n",
    "                         tab_3_row3) \n",
    "\n",
    "\n",
    "\n",
    "\n",
    "tab_4_row = pn.Row(average_house_value, average_value_by_neighbourhood)\n",
    "tab_4_column = pn.Column((\"## Pricing Analysis\"), \n",
    "                         (\"### Average House Value in Toronto\"),\n",
    "                         tab_4_row,\n",
    "                         (\"### Number of dwellings in each neighbourhood in each year in Toronto\"),\n",
    "                         number_dwelling_types)\n",
    "\n",
    "\n",
    "tab_5_column = pn.Column((\"## Average House Price in each neighbourhood in Toronto\"), \n",
    "                         average_house_value_snapshot)\n",
    "\n",
    "\n",
    "tab_6_column = pn.Column((\"## Most Expensive neighbourhoods of Toronto\"), \n",
    "                         top_most_expensive_neighbourhoods, \n",
    "                         sunburst_cost_analysis)\n",
    "\n",
    "\n",
    "\n",
    "# Create the main dashboard\n",
    "dashboard = pn.Tabs(\n",
    "    (\"Intro\",intro),\n",
    "    (\"Overall GeoSpatial Analysis\", tab_2_column),\n",
    "    (\"Pricing & Dwellings Growth Analysis\", tab_3_column),\n",
    "    (\"Pricing Analysis\", tab_4_column),\n",
    "    (\"House Value per Neighbourhood\",tab_5_column),\n",
    "    (\"Expensive Neighbourhoods\", tab_6_column)\n",
    ")\n"
   ]
  },
  {
   "cell_type": "markdown",
   "metadata": {},
   "source": [
    "## Serve the Panel Dashboard"
   ]
  },
  {
   "cell_type": "code",
   "execution_count": 103,
   "metadata": {},
   "outputs": [
    {
     "data": {
      "application/vnd.holoviews_exec.v0+json": "",
      "text/html": [
       "<div id='8355'>\n",
       "\n",
       "\n",
       "\n",
       "\n",
       "\n",
       "  <div class=\"bk-root\" id=\"1d244ff6-3cb7-4a35-851c-f54954db5e2e\" data-root-id=\"8355\"></div>\n",
       "</div>\n",
       "<script type=\"application/javascript\">(function(root) {\n",
       "  function embed_document(root) {\n",
       "  var docs_json = {\"85d39cf8-b054-4b11-96b5-2eb3ce3364b4\":{\"roots\":{\"references\":[{\"attributes\":{\"fill_alpha\":{\"value\":0.1},\"fill_color\":{\"value\":\"#1f77b3\"},\"line_alpha\":{\"value\":0.1},\"top\":{\"field\":\"average_house_value\"},\"width\":{\"value\":0.8},\"x\":{\"field\":\"neighbourhood\"}},\"id\":\"8586\",\"type\":\"VBar\"},{\"attributes\":{},\"id\":\"8406\",\"type\":\"BasicTicker\"},{\"attributes\":{\"factors\":[\"single_detached_house\",\"apartment_five_storeys_plus\",\"movable_dwelling\",\"semi_detached_house\",\"row_house\",\"duplex\",\"apartment_five_storeys_less\",\"other_house\"],\"palette\":[\"#1f77b3\",\"#ff7e0e\",\"#2ba02b\",\"#d62628\",\"#9367bc\",\"#8c564b\",\"#e277c1\",\"#7e7e7e\"]},\"id\":\"8496\",\"type\":\"CategoricalColorMapper\"},{\"attributes\":{\"align\":null,\"below\":[{\"id\":\"8562\"}],\"center\":[{\"id\":\"8564\"},{\"id\":\"8568\"}],\"left\":[{\"id\":\"8565\"}],\"margin\":null,\"min_border_bottom\":10,\"min_border_left\":10,\"min_border_right\":10,\"min_border_top\":10,\"plot_height\":500,\"plot_width\":700,\"renderers\":[{\"id\":\"8588\"}],\"sizing_mode\":\"fixed\",\"title\":{\"id\":\"8554\"},\"toolbar\":{\"id\":\"8575\"},\"x_range\":{\"id\":\"8550\"},\"x_scale\":{\"id\":\"8558\"},\"y_range\":{\"id\":\"8390\"},\"y_scale\":{\"id\":\"8560\"}},\"id\":\"8553\",\"subtype\":\"Figure\",\"type\":\"Plot\"},{\"attributes\":{\"data\":{\"Variable\":[\"single_detached_house\",\"single_detached_house\",\"single_detached_house\",\"single_detached_house\",\"apartment_five_storeys_plus\",\"apartment_five_storeys_plus\",\"apartment_five_storeys_plus\",\"apartment_five_storeys_plus\",\"movable_dwelling\",\"movable_dwelling\",\"movable_dwelling\",\"movable_dwelling\",\"semi_detached_house\",\"semi_detached_house\",\"semi_detached_house\",\"semi_detached_house\",\"row_house\",\"row_house\",\"row_house\",\"row_house\",\"duplex\",\"duplex\",\"duplex\",\"duplex\",\"apartment_five_storeys_less\",\"apartment_five_storeys_less\",\"apartment_five_storeys_less\",\"apartment_five_storeys_less\",\"other_house\",\"other_house\",\"other_house\",\"other_house\"],\"value\":[3715,3295,3385,3345,1480,2060,2130,2120,0,0,5,5,1055,775,820,805,1295,1425,1465,1440,195,600,610,645,185,565,705,735,5,0,20,15],\"xoffsets\":[[\"2001\",\"single_detached_house\"],[\"2006\",\"single_detached_house\"],[\"2011\",\"single_detached_house\"],[\"2016\",\"single_detached_house\"],[\"2001\",\"apartment_five_storeys_plus\"],[\"2006\",\"apartment_five_storeys_plus\"],[\"2011\",\"apartment_five_storeys_plus\"],[\"2016\",\"apartment_five_storeys_plus\"],[\"2001\",\"movable_dwelling\"],[\"2006\",\"movable_dwelling\"],[\"2011\",\"movable_dwelling\"],[\"2016\",\"movable_dwelling\"],[\"2001\",\"semi_detached_house\"],[\"2006\",\"semi_detached_house\"],[\"2011\",\"semi_detached_house\"],[\"2016\",\"semi_detached_house\"],[\"2001\",\"row_house\"],[\"2006\",\"row_house\"],[\"2011\",\"row_house\"],[\"2016\",\"row_house\"],[\"2001\",\"duplex\"],[\"2006\",\"duplex\"],[\"2011\",\"duplex\"],[\"2016\",\"duplex\"],[\"2001\",\"apartment_five_storeys_less\"],[\"2006\",\"apartment_five_storeys_less\"],[\"2011\",\"apartment_five_storeys_less\"],[\"2016\",\"apartment_five_storeys_less\"],[\"2001\",\"other_house\"],[\"2006\",\"other_house\"],[\"2011\",\"other_house\"],[\"2016\",\"other_house\"]],\"year\":[\"2001\",\"2006\",\"2011\",\"2016\",\"2001\",\"2006\",\"2011\",\"2016\",\"2001\",\"2006\",\"2011\",\"2016\",\"2001\",\"2006\",\"2011\",\"2016\",\"2001\",\"2006\",\"2011\",\"2016\",\"2001\",\"2006\",\"2011\",\"2016\",\"2001\",\"2006\",\"2011\",\"2016\",\"2001\",\"2006\",\"2011\",\"2016\"]},\"selected\":{\"id\":\"8498\"},\"selection_policy\":{\"id\":\"8519\"}},\"id\":\"8497\",\"type\":\"ColumnDataSource\"},{\"attributes\":{\"data\":{\"average_house_value\":[200388,293140,366667,459051],\"year\":[2001,2006,2011,2016]},\"selected\":{\"id\":\"8423\"},\"selection_policy\":{\"id\":\"8446\"}},\"id\":\"8422\",\"type\":\"ColumnDataSource\"},{\"attributes\":{\"text\":\"Top 10 Expensive Neighbourhoods in Toronto\",\"text_color\":{\"value\":\"black\"},\"text_font_size\":{\"value\":\"12pt\"}},\"id\":\"8554\",\"type\":\"Title\"},{\"attributes\":{\"callback\":null,\"renderers\":[{\"id\":\"8503\"}],\"tags\":[\"hv_created\"],\"tooltips\":[[\"year\",\"@{year}\"],[\"Variable\",\"@{Variable}\"],[\"value\",\"@{value}\"]]},\"id\":\"8466\",\"type\":\"HoverTool\"},{\"attributes\":{\"data\":{\"marker.color\":[[200388,203047,259998,453850,371864,304749,257404,327644,343535,565304,225369,182957,265705,158483,310740,222086,927466,269386,213227,300213,219771,596077,249025,246750,215421,335119,253618,255142,283706,256205,241824,159187,264116,231741,278023,290457,483734,163419,163039,345676,241685,187993,126255,517466,726664,199043,235168,224425,224780,323536,354207,260555,240009,272896,213919,194295,423537,174793,274436,263247,196112,174518,267631,205572,512334,395115,204523,372579,461393,664712,489998,328211,234424,156076,275374,269751,209609,239078,173169,248778,159374,153829,411558,284459,247779,339987,279833,224801,427169,249993,181251,256556,268067,269410,378033,276239,246333,394235,226856,465254,238524,219337,210017,309221,664476,228625,335435,261923,200402,271880,276462,607040,228460,334433,215039,145464,404836,228368,155094,324732,375678,213950,228975,172947,208555,212241,187140,213749,211633,284984,283215,282087,181367,270607,224756,343877,491987,494098,185859,261784]],\"x\":[[\"Agincourt North\",\"Agincourt South-Malvern West\",\"Alderwood\",\"Annex\",\"Banbury-Don Mills\",\"Bathurst Manor\",\"Bay Street Corridor\",\"Bayview Village\",\"Bayview Woods-Steeles\",\"Bedford Park-Nortown\",\"Beechborough-Greenbrook\",\"Bendale\",\"Birchcliffe-Cliffside\",\"Black Creek\",\"Blake-Jones\",\"Briar Hill-Belgravia\",\"Bridle Path-Sunnybrook-York Mills\",\"Broadview North\",\"Brookhaven-Amesbury\",\"Cabbagetown-South St.James Town\",\"Caledonia-Fairbank\",\"Casa Loma\",\"Centennial Scarborough\",\"Church-Yonge Corridor\",\"Clairlea-Birchmount\",\"Clanton Park\",\"Cliffcrest\",\"Corso Italia-Davenport\",\"Danforth\",\"Danforth-East York\",\"Don Valley Village\",\"Dorset Park\",\"Dovercourt-Wallace Emerson-Juncti\",\"Downsview-Roding-CFB\",\"Dufferin Grove\",\"East End-Danforth\",\"Edenbridge-Humber Valley\",\"Eglinton East\",\"Elms-Old Rexdale\",\"Englemount-Lawrence\",\"Eringate-Centennial-West Deane\",\"Etobicoke West Mall\",\"Flemingdon Park\",\"Forest Hill North\",\"Forest Hill South\",\"Glenfield-Jane Heights\",\"Greenwood-Coxwell\",\"Guildwood\",\"Henry Farm\",\"High Park North\",\"High Park-Swansea\",\"Highland Creek\",\"Hillcrest Village\",\"Humber Heights-Westmount\",\"Humber Summit\",\"Humbermede\",\"Humewood-Cedarvale\",\"Ionview\",\"Islington-City Centre West\",\"Junction Area\",\"Keelesdale-Eglinton West\",\"Kennedy Park\",\"Kensington-Chinatown\",\"Kingsview Village-The Westway\",\"Kingsway South\",\"L'Amoreaux\",\"Lambton Baby Point\",\"Lansing-Westgate\",\"Lawrence Park North\",\"Lawrence Park South\",\"Leaside-Bennington\",\"Little Portugal\",\"Long Branch\",\"Malvern\",\"Maple Leaf\",\"Markland Wood\",\"Milliken\",\"Mimico\",\"Morningside\",\"Moss Park\",\"Mount Dennis\",\"Mount Olive-Silverstone-Jamestown\",\"Mount Pleasant East\",\"Mount Pleasant West\",\"New Toronto\",\"Newtonbrook East\",\"Newtonbrook West\",\"Niagara\",\"North Riverdale\",\"North St.James Town\",\"O'Connor-Parkview\",\"Oakridge\",\"Oakwood Village\",\"Old East York\",\"Palmerston-Little Italy\",\"Parkwoods-Donalda\",\"Pelmo Park-Humberlea\",\"Playter Estates-Danforth\",\"Pleasant View\",\"Princess-Rosethorn\",\"Regent Park\",\"Rexdale-Kipling\",\"Rockcliffe-Smythe\",\"Roncesvalles\",\"Rosedale-Moore Park\",\"Rouge\",\"Runnymede-Bloor West Village\",\"Rustic\",\"Scarborough Village\",\"South Parkdale\",\"South Riverdale\",\"St.Andrew-Windfields\",\"Steeles\",\"Stonegate-Queensway\",\"Tam O'Shanter-Sullivan\",\"Taylor-Massey\",\"The Beaches\",\"Thistletown-Beaumond Heights\",\"Thorncliffe Park\",\"Trinity-Bellwoods\",\"University\",\"Victoria Village\",\"Waterfront Communities-The Island\",\"West Hill\",\"West Humber-Clairville\",\"Westminster-Branson\",\"Weston\",\"Weston-Pellam Park\",\"Wexford/Maryvale\",\"Willowdale East\",\"Willowdale West\",\"Willowridge-Martingrove-Richview\",\"Woburn\",\"Woodbine Corridor\",\"Woodbine-Lumsden\",\"Wychwood\",\"Yonge-Eglinton\",\"Yonge-St.Clair\",\"York University Heights\",\"Yorkdale-Glen Park\"]],\"y\":[[200388,203047,259998,453850,371864,304749,257404,327644,343535,565304,225369,182957,265705,158483,310740,222086,927466,269386,213227,300213,219771,596077,249025,246750,215421,335119,253618,255142,283706,256205,241824,159187,264116,231741,278023,290457,483734,163419,163039,345676,241685,187993,126255,517466,726664,199043,235168,224425,224780,323536,354207,260555,240009,272896,213919,194295,423537,174793,274436,263247,196112,174518,267631,205572,512334,395115,204523,372579,461393,664712,489998,328211,234424,156076,275374,269751,209609,239078,173169,248778,159374,153829,411558,284459,247779,339987,279833,224801,427169,249993,181251,256556,268067,269410,378033,276239,246333,394235,226856,465254,238524,219337,210017,309221,664476,228625,335435,261923,200402,271880,276462,607040,228460,334433,215039,145464,404836,228368,155094,324732,375678,213950,228975,172947,208555,212241,187140,213749,211633,284984,283215,282087,181367,270607,224756,343877,491987,494098,185859,261784]]},\"selected\":{\"id\":\"8621\"},\"selection_policy\":{\"id\":\"8622\"}},\"id\":\"8539\",\"type\":\"ColumnDataSource\"},{\"attributes\":{\"end\":4086.5,\"reset_end\":4086.5,\"reset_start\":0.0,\"tags\":[[[\"value\",\"value\",null]]]},\"id\":\"8465\",\"type\":\"Range1d\"},{\"attributes\":{\"source\":{\"id\":\"8582\"}},\"id\":\"8589\",\"type\":\"CDSView\"},{\"attributes\":{\"data_source\":{\"id\":\"8422\"},\"glyph\":{\"id\":\"8425\"},\"hover_glyph\":null,\"muted_glyph\":{\"id\":\"8427\"},\"nonselection_glyph\":{\"id\":\"8426\"},\"selection_glyph\":null,\"view\":{\"id\":\"8429\"}},\"id\":\"8428\",\"type\":\"GlyphRenderer\"},{\"attributes\":{\"data\":{\"marker.color\":[[459051,465144,595608,1039687,851872,698124,589666,750572,786976,1295007,516279,419121,608681,363055,711848,508759,2124653,617113,488463,687732,503455,1365503,570471,565258,493491,767695,580993,584484,649919,586918,553974,364667,605040,530877,636899,665384,1108146,374364,373493,791880,553656,430658,289227,1185419,1664653,455970,538727,514116,514929,741161,811423,596883,549816,625154,490049,445094,970245,400418,628682,603050,449257,399789,613094,470928,1173663,905137,468524,853511,1056967,1522732,1122495,751872,537021,357541,630831,617950,480175,547683,396699,569905,365097,352394,942804,651643,567617,778847,641047,514978,978565,572689,415214,587723,614092,617169,866003,632812,564303,903121,519686,1065811,546413,502460,481110,708369,1522193,523738,768420,600017,459085,622827,633325,1390616,523359,766124,492616,333230,927404,523150,355293,743901,860610,490119,524540,396189,477762,486204,428703,489659,484811,652845,648794,646210,415478,619910,514874,787760,1127052,1131888,425769,599698]],\"x\":[[\"Agincourt North\",\"Agincourt South-Malvern West\",\"Alderwood\",\"Annex\",\"Banbury-Don Mills\",\"Bathurst Manor\",\"Bay Street Corridor\",\"Bayview Village\",\"Bayview Woods-Steeles\",\"Bedford Park-Nortown\",\"Beechborough-Greenbrook\",\"Bendale\",\"Birchcliffe-Cliffside\",\"Black Creek\",\"Blake-Jones\",\"Briar Hill-Belgravia\",\"Bridle Path-Sunnybrook-York Mills\",\"Broadview North\",\"Brookhaven-Amesbury\",\"Cabbagetown-South St.James Town\",\"Caledonia-Fairbank\",\"Casa Loma\",\"Centennial Scarborough\",\"Church-Yonge Corridor\",\"Clairlea-Birchmount\",\"Clanton Park\",\"Cliffcrest\",\"Corso Italia-Davenport\",\"Danforth\",\"Danforth-East York\",\"Don Valley Village\",\"Dorset Park\",\"Dovercourt-Wallace Emerson-Juncti\",\"Downsview-Roding-CFB\",\"Dufferin Grove\",\"East End-Danforth\",\"Edenbridge-Humber Valley\",\"Eglinton East\",\"Elms-Old Rexdale\",\"Englemount-Lawrence\",\"Eringate-Centennial-West Deane\",\"Etobicoke West Mall\",\"Flemingdon Park\",\"Forest Hill North\",\"Forest Hill South\",\"Glenfield-Jane Heights\",\"Greenwood-Coxwell\",\"Guildwood\",\"Henry Farm\",\"High Park North\",\"High Park-Swansea\",\"Highland Creek\",\"Hillcrest Village\",\"Humber Heights-Westmount\",\"Humber Summit\",\"Humbermede\",\"Humewood-Cedarvale\",\"Ionview\",\"Islington-City Centre West\",\"Junction Area\",\"Keelesdale-Eglinton West\",\"Kennedy Park\",\"Kensington-Chinatown\",\"Kingsview Village-The Westway\",\"Kingsway South\",\"L'Amoreaux\",\"Lambton Baby Point\",\"Lansing-Westgate\",\"Lawrence Park North\",\"Lawrence Park South\",\"Leaside-Bennington\",\"Little Portugal\",\"Long Branch\",\"Malvern\",\"Maple Leaf\",\"Markland Wood\",\"Milliken\",\"Mimico\",\"Morningside\",\"Moss Park\",\"Mount Dennis\",\"Mount Olive-Silverstone-Jamestown\",\"Mount Pleasant East\",\"Mount Pleasant West\",\"New Toronto\",\"Newtonbrook East\",\"Newtonbrook West\",\"Niagara\",\"North Riverdale\",\"North St.James Town\",\"O'Connor-Parkview\",\"Oakridge\",\"Oakwood Village\",\"Old East York\",\"Palmerston-Little Italy\",\"Parkwoods-Donalda\",\"Pelmo Park-Humberlea\",\"Playter Estates-Danforth\",\"Pleasant View\",\"Princess-Rosethorn\",\"Regent Park\",\"Rexdale-Kipling\",\"Rockcliffe-Smythe\",\"Roncesvalles\",\"Rosedale-Moore Park\",\"Rouge\",\"Runnymede-Bloor West Village\",\"Rustic\",\"Scarborough Village\",\"South Parkdale\",\"South Riverdale\",\"St.Andrew-Windfields\",\"Steeles\",\"Stonegate-Queensway\",\"Tam O'Shanter-Sullivan\",\"Taylor-Massey\",\"The Beaches\",\"Thistletown-Beaumond Heights\",\"Thorncliffe Park\",\"Trinity-Bellwoods\",\"University\",\"Victoria Village\",\"Waterfront Communities-The Island\",\"West Hill\",\"West Humber-Clairville\",\"Westminster-Branson\",\"Weston\",\"Weston-Pellam Park\",\"Wexford/Maryvale\",\"Willowdale East\",\"Willowdale West\",\"Willowridge-Martingrove-Richview\",\"Woburn\",\"Woodbine Corridor\",\"Woodbine-Lumsden\",\"Wychwood\",\"Yonge-Eglinton\",\"Yonge-St.Clair\",\"York University Heights\",\"Yorkdale-Glen Park\"]],\"y\":[[459051,465144,595608,1039687,851872,698124,589666,750572,786976,1295007,516279,419121,608681,363055,711848,508759,2124653,617113,488463,687732,503455,1365503,570471,565258,493491,767695,580993,584484,649919,586918,553974,364667,605040,530877,636899,665384,1108146,374364,373493,791880,553656,430658,289227,1185419,1664653,455970,538727,514116,514929,741161,811423,596883,549816,625154,490049,445094,970245,400418,628682,603050,449257,399789,613094,470928,1173663,905137,468524,853511,1056967,1522732,1122495,751872,537021,357541,630831,617950,480175,547683,396699,569905,365097,352394,942804,651643,567617,778847,641047,514978,978565,572689,415214,587723,614092,617169,866003,632812,564303,903121,519686,1065811,546413,502460,481110,708369,1522193,523738,768420,600017,459085,622827,633325,1390616,523359,766124,492616,333230,927404,523150,355293,743901,860610,490119,524540,396189,477762,486204,428703,489659,484811,652845,648794,646210,415478,619910,514874,787760,1127052,1131888,425769,599698]]},\"selected\":{\"id\":\"8627\"},\"selection_policy\":{\"id\":\"8628\"}},\"id\":\"8542\",\"type\":\"ColumnDataSource\"},{\"attributes\":{\"css_classes\":[\"markdown\"],\"margin\":[5,5,5,5],\"name\":\"Markdown20087\",\"text\":\"&lt;h2&gt;Most Expensive neighbourhoods of Toronto&lt;/h2&gt;\"},\"id\":\"8546\",\"type\":\"panel.models.markup.HTML\"},{\"attributes\":{\"_render_count\":0,\"config\":null,\"data\":[{\"hovertemplate\":\"<b>%{hovertext}</b><br><br>average_house_value=%{marker.color}<br>lat=%{lat}<br>lon=%{lon}<br>single_detached_house=%{customdata[0]}<br>apartment_five_storeys_plus=%{customdata[1]}<br>movable_dwelling=%{customdata[2]}<br>semi_detached_house=%{customdata[3]}<br>row_house=%{customdata[4]}<br>duplex=%{customdata[5]}<br>apartment_five_storeys_less=%{customdata[6]}<br>other_house=%{customdata[7]}<extra></extra>\",\"legendgroup\":\"\",\"marker\":{\"coloraxis\":\"coloraxis\",\"sizemode\":\"area\",\"sizeref\":3816.214375},\"mode\":\"markers\",\"name\":\"\",\"showlegend\":false,\"subplot\":\"mapbox\",\"type\":\"scattermapbox\"}],\"data_sources\":[{\"id\":\"8363\"}],\"layout\":{\"coloraxis\":{\"colorbar\":{\"title\":{\"text\":\"average_house_value\"}},\"colorscale\":[[0.0,\"#000000\"],[0.0625,\"#001f4d\"],[0.125,\"#003786\"],[0.1875,\"#0e58a8\"],[0.25,\"#217eb8\"],[0.3125,\"#30a4ca\"],[0.375,\"#54c8df\"],[0.4375,\"#9be4ef\"],[0.5,\"#e1e9d1\"],[0.5625,\"#f3d573\"],[0.625,\"#e7b000\"],[0.6875,\"#da8200\"],[0.75,\"#c65400\"],[0.8125,\"#ac2301\"],[0.875,\"#820000\"],[0.9375,\"#4c0000\"],[1.0,\"#000000\"]]},\"legend\":{\"itemsizing\":\"constant\",\"tracegroupgap\":0},\"mapbox\":{\"accesstoken\":\"pk.eyJ1IjoibmoxMjE5IiwiYSI6ImNrYzAwajNxMDBwcHUycnI1NHZ0b2piZ2QifQ.3C0vXoc4oKCl5uUW44iaNw\",\"center\":{\"lat\":43.708840577642846,\"lon\":-79.4001855035},\"domain\":{\"x\":[0.0,1.0],\"y\":[0.0,1.0]},\"zoom\":4},\"template\":{\"data\":{\"bar\":[{\"error_x\":{\"color\":\"#2a3f5f\"},\"error_y\":{\"color\":\"#2a3f5f\"},\"marker\":{\"line\":{\"color\":\"#E5ECF6\",\"width\":0.5}},\"type\":\"bar\"}],\"barpolar\":[{\"marker\":{\"line\":{\"color\":\"#E5ECF6\",\"width\":0.5}},\"type\":\"barpolar\"}],\"carpet\":[{\"aaxis\":{\"endlinecolor\":\"#2a3f5f\",\"gridcolor\":\"white\",\"linecolor\":\"white\",\"minorgridcolor\":\"white\",\"startlinecolor\":\"#2a3f5f\"},\"baxis\":{\"endlinecolor\":\"#2a3f5f\",\"gridcolor\":\"white\",\"linecolor\":\"white\",\"minorgridcolor\":\"white\",\"startlinecolor\":\"#2a3f5f\"},\"type\":\"carpet\"}],\"choropleth\":[{\"colorbar\":{\"outlinewidth\":0,\"ticks\":\"\"},\"type\":\"choropleth\"}],\"contour\":[{\"colorbar\":{\"outlinewidth\":0,\"ticks\":\"\"},\"colorscale\":[[0.0,\"#0d0887\"],[0.1111111111111111,\"#46039f\"],[0.2222222222222222,\"#7201a8\"],[0.3333333333333333,\"#9c179e\"],[0.4444444444444444,\"#bd3786\"],[0.5555555555555556,\"#d8576b\"],[0.6666666666666666,\"#ed7953\"],[0.7777777777777778,\"#fb9f3a\"],[0.8888888888888888,\"#fdca26\"],[1.0,\"#f0f921\"]],\"type\":\"contour\"}],\"contourcarpet\":[{\"colorbar\":{\"outlinewidth\":0,\"ticks\":\"\"},\"type\":\"contourcarpet\"}],\"heatmap\":[{\"colorbar\":{\"outlinewidth\":0,\"ticks\":\"\"},\"colorscale\":[[0.0,\"#0d0887\"],[0.1111111111111111,\"#46039f\"],[0.2222222222222222,\"#7201a8\"],[0.3333333333333333,\"#9c179e\"],[0.4444444444444444,\"#bd3786\"],[0.5555555555555556,\"#d8576b\"],[0.6666666666666666,\"#ed7953\"],[0.7777777777777778,\"#fb9f3a\"],[0.8888888888888888,\"#fdca26\"],[1.0,\"#f0f921\"]],\"type\":\"heatmap\"}],\"heatmapgl\":[{\"colorbar\":{\"outlinewidth\":0,\"ticks\":\"\"},\"colorscale\":[[0.0,\"#0d0887\"],[0.1111111111111111,\"#46039f\"],[0.2222222222222222,\"#7201a8\"],[0.3333333333333333,\"#9c179e\"],[0.4444444444444444,\"#bd3786\"],[0.5555555555555556,\"#d8576b\"],[0.6666666666666666,\"#ed7953\"],[0.7777777777777778,\"#fb9f3a\"],[0.8888888888888888,\"#fdca26\"],[1.0,\"#f0f921\"]],\"type\":\"heatmapgl\"}],\"histogram\":[{\"marker\":{\"colorbar\":{\"outlinewidth\":0,\"ticks\":\"\"}},\"type\":\"histogram\"}],\"histogram2d\":[{\"colorbar\":{\"outlinewidth\":0,\"ticks\":\"\"},\"colorscale\":[[0.0,\"#0d0887\"],[0.1111111111111111,\"#46039f\"],[0.2222222222222222,\"#7201a8\"],[0.3333333333333333,\"#9c179e\"],[0.4444444444444444,\"#bd3786\"],[0.5555555555555556,\"#d8576b\"],[0.6666666666666666,\"#ed7953\"],[0.7777777777777778,\"#fb9f3a\"],[0.8888888888888888,\"#fdca26\"],[1.0,\"#f0f921\"]],\"type\":\"histogram2d\"}],\"histogram2dcontour\":[{\"colorbar\":{\"outlinewidth\":0,\"ticks\":\"\"},\"colorscale\":[[0.0,\"#0d0887\"],[0.1111111111111111,\"#46039f\"],[0.2222222222222222,\"#7201a8\"],[0.3333333333333333,\"#9c179e\"],[0.4444444444444444,\"#bd3786\"],[0.5555555555555556,\"#d8576b\"],[0.6666666666666666,\"#ed7953\"],[0.7777777777777778,\"#fb9f3a\"],[0.8888888888888888,\"#fdca26\"],[1.0,\"#f0f921\"]],\"type\":\"histogram2dcontour\"}],\"mesh3d\":[{\"colorbar\":{\"outlinewidth\":0,\"ticks\":\"\"},\"type\":\"mesh3d\"}],\"parcoords\":[{\"line\":{\"colorbar\":{\"outlinewidth\":0,\"ticks\":\"\"}},\"type\":\"parcoords\"}],\"pie\":[{\"automargin\":true,\"type\":\"pie\"}],\"scatter\":[{\"marker\":{\"colorbar\":{\"outlinewidth\":0,\"ticks\":\"\"}},\"type\":\"scatter\"}],\"scatter3d\":[{\"line\":{\"colorbar\":{\"outlinewidth\":0,\"ticks\":\"\"}},\"marker\":{\"colorbar\":{\"outlinewidth\":0,\"ticks\":\"\"}},\"type\":\"scatter3d\"}],\"scattercarpet\":[{\"marker\":{\"colorbar\":{\"outlinewidth\":0,\"ticks\":\"\"}},\"type\":\"scattercarpet\"}],\"scattergeo\":[{\"marker\":{\"colorbar\":{\"outlinewidth\":0,\"ticks\":\"\"}},\"type\":\"scattergeo\"}],\"scattergl\":[{\"marker\":{\"colorbar\":{\"outlinewidth\":0,\"ticks\":\"\"}},\"type\":\"scattergl\"}],\"scattermapbox\":[{\"marker\":{\"colorbar\":{\"outlinewidth\":0,\"ticks\":\"\"}},\"type\":\"scattermapbox\"}],\"scatterpolar\":[{\"marker\":{\"colorbar\":{\"outlinewidth\":0,\"ticks\":\"\"}},\"type\":\"scatterpolar\"}],\"scatterpolargl\":[{\"marker\":{\"colorbar\":{\"outlinewidth\":0,\"ticks\":\"\"}},\"type\":\"scatterpolargl\"}],\"scatterternary\":[{\"marker\":{\"colorbar\":{\"outlinewidth\":0,\"ticks\":\"\"}},\"type\":\"scatterternary\"}],\"surface\":[{\"colorbar\":{\"outlinewidth\":0,\"ticks\":\"\"},\"colorscale\":[[0.0,\"#0d0887\"],[0.1111111111111111,\"#46039f\"],[0.2222222222222222,\"#7201a8\"],[0.3333333333333333,\"#9c179e\"],[0.4444444444444444,\"#bd3786\"],[0.5555555555555556,\"#d8576b\"],[0.6666666666666666,\"#ed7953\"],[0.7777777777777778,\"#fb9f3a\"],[0.8888888888888888,\"#fdca26\"],[1.0,\"#f0f921\"]],\"type\":\"surface\"}],\"table\":[{\"cells\":{\"fill\":{\"color\":\"#EBF0F8\"},\"line\":{\"color\":\"white\"}},\"header\":{\"fill\":{\"color\":\"#C8D4E3\"},\"line\":{\"color\":\"white\"}},\"type\":\"table\"}]},\"layout\":{\"annotationdefaults\":{\"arrowcolor\":\"#2a3f5f\",\"arrowhead\":0,\"arrowwidth\":1},\"coloraxis\":{\"colorbar\":{\"outlinewidth\":0,\"ticks\":\"\"}},\"colorscale\":{\"diverging\":[[0,\"#8e0152\"],[0.1,\"#c51b7d\"],[0.2,\"#de77ae\"],[0.3,\"#f1b6da\"],[0.4,\"#fde0ef\"],[0.5,\"#f7f7f7\"],[0.6,\"#e6f5d0\"],[0.7,\"#b8e186\"],[0.8,\"#7fbc41\"],[0.9,\"#4d9221\"],[1,\"#276419\"]],\"sequential\":[[0.0,\"#0d0887\"],[0.1111111111111111,\"#46039f\"],[0.2222222222222222,\"#7201a8\"],[0.3333333333333333,\"#9c179e\"],[0.4444444444444444,\"#bd3786\"],[0.5555555555555556,\"#d8576b\"],[0.6666666666666666,\"#ed7953\"],[0.7777777777777778,\"#fb9f3a\"],[0.8888888888888888,\"#fdca26\"],[1.0,\"#f0f921\"]],\"sequentialminus\":[[0.0,\"#0d0887\"],[0.1111111111111111,\"#46039f\"],[0.2222222222222222,\"#7201a8\"],[0.3333333333333333,\"#9c179e\"],[0.4444444444444444,\"#bd3786\"],[0.5555555555555556,\"#d8576b\"],[0.6666666666666666,\"#ed7953\"],[0.7777777777777778,\"#fb9f3a\"],[0.8888888888888888,\"#fdca26\"],[1.0,\"#f0f921\"]]},\"colorway\":[\"#636efa\",\"#EF553B\",\"#00cc96\",\"#ab63fa\",\"#FFA15A\",\"#19d3f3\",\"#FF6692\",\"#B6E880\",\"#FF97FF\",\"#FECB52\"],\"font\":{\"color\":\"#2a3f5f\"},\"geo\":{\"bgcolor\":\"white\",\"lakecolor\":\"white\",\"landcolor\":\"#E5ECF6\",\"showlakes\":true,\"showland\":true,\"subunitcolor\":\"white\"},\"hoverlabel\":{\"align\":\"left\"},\"hovermode\":\"closest\",\"mapbox\":{\"style\":\"light\"},\"paper_bgcolor\":\"white\",\"plot_bgcolor\":\"#E5ECF6\",\"polar\":{\"angularaxis\":{\"gridcolor\":\"white\",\"linecolor\":\"white\",\"ticks\":\"\"},\"bgcolor\":\"#E5ECF6\",\"radialaxis\":{\"gridcolor\":\"white\",\"linecolor\":\"white\",\"ticks\":\"\"}},\"scene\":{\"xaxis\":{\"backgroundcolor\":\"#E5ECF6\",\"gridcolor\":\"white\",\"gridwidth\":2,\"linecolor\":\"white\",\"showbackground\":true,\"ticks\":\"\",\"zerolinecolor\":\"white\"},\"yaxis\":{\"backgroundcolor\":\"#E5ECF6\",\"gridcolor\":\"white\",\"gridwidth\":2,\"linecolor\":\"white\",\"showbackground\":true,\"ticks\":\"\",\"zerolinecolor\":\"white\"},\"zaxis\":{\"backgroundcolor\":\"#E5ECF6\",\"gridcolor\":\"white\",\"gridwidth\":2,\"linecolor\":\"white\",\"showbackground\":true,\"ticks\":\"\",\"zerolinecolor\":\"white\"}},\"shapedefaults\":{\"line\":{\"color\":\"#2a3f5f\"}},\"ternary\":{\"aaxis\":{\"gridcolor\":\"white\",\"linecolor\":\"white\",\"ticks\":\"\"},\"baxis\":{\"gridcolor\":\"white\",\"linecolor\":\"white\",\"ticks\":\"\"},\"bgcolor\":\"#E5ECF6\",\"caxis\":{\"gridcolor\":\"white\",\"linecolor\":\"white\",\"ticks\":\"\"}},\"title\":{\"x\":0.05},\"xaxis\":{\"automargin\":true,\"gridcolor\":\"white\",\"linecolor\":\"white\",\"ticks\":\"\",\"title\":{\"standoff\":15},\"zerolinecolor\":\"white\",\"zerolinewidth\":2},\"yaxis\":{\"automargin\":true,\"gridcolor\":\"white\",\"linecolor\":\"white\",\"ticks\":\"\",\"title\":{\"standoff\":15},\"zerolinecolor\":\"white\",\"zerolinewidth\":2}}},\"title\":{\"text\":\"Average House Values in Toronto\"}},\"margin\":[5,5,5,5],\"name\":\"interactive19956\",\"viewport_update_throttle\":200},\"id\":\"8364\",\"type\":\"panel.models.plotly.PlotlyPlot\"},{\"attributes\":{\"client_comm_id\":\"ce66749ce17d4885be172a1eb12f5e21\",\"comm_id\":\"c037c5ee2d3d4fc383aa583bc69e5647\",\"plot_id\":\"8355\"},\"id\":\"8719\",\"type\":\"panel.models.comm_manager.CommManager\"},{\"attributes\":{\"children\":[{\"id\":\"8612\"},{\"id\":\"8613\"}],\"margin\":[0,0,0,0],\"name\":\"Column20226\"},\"id\":\"8611\",\"type\":\"Column\"},{\"attributes\":{\"children\":[{\"id\":\"8364\"}],\"margin\":[0,0,0,0],\"name\":\"Row19960\"},\"id\":\"8362\",\"type\":\"Row\"},{\"attributes\":{\"data\":{\"marker.color\":[[366667,371534,475742,830450,680433,557627,470996,599520,628597,1034387,412378,334773,486184,289990,568589,406371,1697067,492919,390160,549326,402135,1090696,455664,451500,394176,613197,464068,466857,519123,468801,442487,291278,483276,424038,508723,531476,885132,299023,298328,632514,442233,343988,231020,946854,1329642,364206,430308,410650,411300,592002,648124,476760,439166,499342,391427,355519,774983,319834,502160,481686,358844,319331,489709,376154,937464,722978,374234,681742,844253,1216283,896593,600558,428946,285586,503876,493588,383540,437462,316863,455212,291621,281475,753065,520500,453384,622104,512036,411339,781629,457435,331652,469444,490506,492964,691720,505459,450737,721368,415099,851317,436448,401340,384287,565810,1215852,418336,613776,479264,366694,497483,505868,1110755,418033,611942,393477,266168,740764,417866,283790,594191,687412,391483,418977,316456,381612,388356,342427,391115,387243,521460,518224,516160,331863,495153,411256,629223,900233,904096,340083,479009]],\"x\":[[\"Agincourt North\",\"Agincourt South-Malvern West\",\"Alderwood\",\"Annex\",\"Banbury-Don Mills\",\"Bathurst Manor\",\"Bay Street Corridor\",\"Bayview Village\",\"Bayview Woods-Steeles\",\"Bedford Park-Nortown\",\"Beechborough-Greenbrook\",\"Bendale\",\"Birchcliffe-Cliffside\",\"Black Creek\",\"Blake-Jones\",\"Briar Hill-Belgravia\",\"Bridle Path-Sunnybrook-York Mills\",\"Broadview North\",\"Brookhaven-Amesbury\",\"Cabbagetown-South St.James Town\",\"Caledonia-Fairbank\",\"Casa Loma\",\"Centennial Scarborough\",\"Church-Yonge Corridor\",\"Clairlea-Birchmount\",\"Clanton Park\",\"Cliffcrest\",\"Corso Italia-Davenport\",\"Danforth\",\"Danforth-East York\",\"Don Valley Village\",\"Dorset Park\",\"Dovercourt-Wallace Emerson-Juncti\",\"Downsview-Roding-CFB\",\"Dufferin Grove\",\"East End-Danforth\",\"Edenbridge-Humber Valley\",\"Eglinton East\",\"Elms-Old Rexdale\",\"Englemount-Lawrence\",\"Eringate-Centennial-West Deane\",\"Etobicoke West Mall\",\"Flemingdon Park\",\"Forest Hill North\",\"Forest Hill South\",\"Glenfield-Jane Heights\",\"Greenwood-Coxwell\",\"Guildwood\",\"Henry Farm\",\"High Park North\",\"High Park-Swansea\",\"Highland Creek\",\"Hillcrest Village\",\"Humber Heights-Westmount\",\"Humber Summit\",\"Humbermede\",\"Humewood-Cedarvale\",\"Ionview\",\"Islington-City Centre West\",\"Junction Area\",\"Keelesdale-Eglinton West\",\"Kennedy Park\",\"Kensington-Chinatown\",\"Kingsview Village-The Westway\",\"Kingsway South\",\"L'Amoreaux\",\"Lambton Baby Point\",\"Lansing-Westgate\",\"Lawrence Park North\",\"Lawrence Park South\",\"Leaside-Bennington\",\"Little Portugal\",\"Long Branch\",\"Malvern\",\"Maple Leaf\",\"Markland Wood\",\"Milliken\",\"Mimico\",\"Morningside\",\"Moss Park\",\"Mount Dennis\",\"Mount Olive-Silverstone-Jamestown\",\"Mount Pleasant East\",\"Mount Pleasant West\",\"New Toronto\",\"Newtonbrook East\",\"Newtonbrook West\",\"Niagara\",\"North Riverdale\",\"North St.James Town\",\"O'Connor-Parkview\",\"Oakridge\",\"Oakwood Village\",\"Old East York\",\"Palmerston-Little Italy\",\"Parkwoods-Donalda\",\"Pelmo Park-Humberlea\",\"Playter Estates-Danforth\",\"Pleasant View\",\"Princess-Rosethorn\",\"Regent Park\",\"Rexdale-Kipling\",\"Rockcliffe-Smythe\",\"Roncesvalles\",\"Rosedale-Moore Park\",\"Rouge\",\"Runnymede-Bloor West Village\",\"Rustic\",\"Scarborough Village\",\"South Parkdale\",\"South Riverdale\",\"St.Andrew-Windfields\",\"Steeles\",\"Stonegate-Queensway\",\"Tam O'Shanter-Sullivan\",\"Taylor-Massey\",\"The Beaches\",\"Thistletown-Beaumond Heights\",\"Thorncliffe Park\",\"Trinity-Bellwoods\",\"University\",\"Victoria Village\",\"Waterfront Communities-The Island\",\"West Hill\",\"West Humber-Clairville\",\"Westminster-Branson\",\"Weston\",\"Weston-Pellam Park\",\"Wexford/Maryvale\",\"Willowdale East\",\"Willowdale West\",\"Willowridge-Martingrove-Richview\",\"Woburn\",\"Woodbine Corridor\",\"Woodbine-Lumsden\",\"Wychwood\",\"Yonge-Eglinton\",\"Yonge-St.Clair\",\"York University Heights\",\"Yorkdale-Glen Park\"]],\"y\":[[366667,371534,475742,830450,680433,557627,470996,599520,628597,1034387,412378,334773,486184,289990,568589,406371,1697067,492919,390160,549326,402135,1090696,455664,451500,394176,613197,464068,466857,519123,468801,442487,291278,483276,424038,508723,531476,885132,299023,298328,632514,442233,343988,231020,946854,1329642,364206,430308,410650,411300,592002,648124,476760,439166,499342,391427,355519,774983,319834,502160,481686,358844,319331,489709,376154,937464,722978,374234,681742,844253,1216283,896593,600558,428946,285586,503876,493588,383540,437462,316863,455212,291621,281475,753065,520500,453384,622104,512036,411339,781629,457435,331652,469444,490506,492964,691720,505459,450737,721368,415099,851317,436448,401340,384287,565810,1215852,418336,613776,479264,366694,497483,505868,1110755,418033,611942,393477,266168,740764,417866,283790,594191,687412,391483,418977,316456,381612,388356,342427,391115,387243,521460,518224,516160,331863,495153,411256,629223,900233,904096,340083,479009]]},\"selected\":{\"id\":\"8625\"},\"selection_policy\":{\"id\":\"8626\"}},\"id\":\"8541\",\"type\":\"ColumnDataSource\"},{\"attributes\":{\"line_alpha\":0.2,\"line_color\":\"#1f77b3\",\"line_width\":2,\"x\":{\"field\":\"year\"},\"y\":{\"field\":\"average_house_value\"}},\"id\":\"8427\",\"type\":\"Line\"},{\"attributes\":{\"margin\":[5,5,5,5],\"name\":\"interactive19979\",\"text\":\"&lt;pre&gt;(year\\n2001    289882.885714\\n2006    424059.664286\\n2011    530424.721429\\n2016    664068.328571\\nName: average_house_value, dtype: float64, &lt;matplotlib.axes._subplots.AxesSubplot object at 0x000001E5F7D74D88&gt;)&lt;/pre&gt;\"},\"id\":\"8384\",\"type\":\"panel.models.markup.HTML\"},{\"attributes\":{\"source\":{\"id\":\"8422\"}},\"id\":\"8429\",\"type\":\"CDSView\"},{\"attributes\":{\"format\":\"%.0f\"},\"id\":\"8430\",\"type\":\"PrintfTickFormatter\"},{\"attributes\":{\"margin\":[0,0,0,0],\"tabs\":[{\"id\":\"8357\"},{\"id\":\"8365\"},{\"id\":\"8376\"},{\"id\":\"8533\"},{\"id\":\"8544\"},{\"id\":\"8616\"}]},\"id\":\"8355\",\"type\":\"Tabs\"},{\"attributes\":{\"child\":{\"id\":\"8366\"},\"name\":\"Column19978\",\"title\":\"Pricing & Dwellings Growth Analysis\"},\"id\":\"8376\",\"type\":\"Panel\"},{\"attributes\":{\"children\":[{\"id\":\"8548\"},{\"id\":\"8549\"}],\"margin\":[0,0,0,0],\"name\":\"Column20090\"},\"id\":\"8547\",\"type\":\"Column\"},{\"attributes\":{\"data_source\":{\"id\":\"8582\"},\"glyph\":{\"id\":\"8585\"},\"hover_glyph\":null,\"muted_glyph\":{\"id\":\"8587\"},\"nonselection_glyph\":{\"id\":\"8586\"},\"selection_glyph\":null,\"view\":{\"id\":\"8589\"}},\"id\":\"8588\",\"type\":\"GlyphRenderer\"},{\"attributes\":{},\"id\":\"8622\",\"type\":\"UnionRenderers\"},{\"attributes\":{},\"id\":\"8623\",\"type\":\"Selection\"},{\"attributes\":{\"factors\":[[\"2001\",\"other_house\"],[\"2001\",\"apartment_five_storeys_less\"],[\"2001\",\"duplex\"],[\"2001\",\"row_house\"],[\"2001\",\"semi_detached_house\"],[\"2001\",\"movable_dwelling\"],[\"2001\",\"apartment_five_storeys_plus\"],[\"2001\",\"single_detached_house\"],[\"2006\",\"other_house\"],[\"2006\",\"apartment_five_storeys_less\"],[\"2006\",\"duplex\"],[\"2006\",\"row_house\"],[\"2006\",\"semi_detached_house\"],[\"2006\",\"movable_dwelling\"],[\"2006\",\"apartment_five_storeys_plus\"],[\"2006\",\"single_detached_house\"],[\"2011\",\"other_house\"],[\"2011\",\"apartment_five_storeys_less\"],[\"2011\",\"duplex\"],[\"2011\",\"row_house\"],[\"2011\",\"semi_detached_house\"],[\"2011\",\"movable_dwelling\"],[\"2011\",\"apartment_five_storeys_plus\"],[\"2011\",\"single_detached_house\"],[\"2016\",\"other_house\"],[\"2016\",\"apartment_five_storeys_less\"],[\"2016\",\"duplex\"],[\"2016\",\"row_house\"],[\"2016\",\"semi_detached_house\"],[\"2016\",\"movable_dwelling\"],[\"2016\",\"apartment_five_storeys_plus\"],[\"2016\",\"single_detached_house\"]],\"tags\":[[[\"year\",\"year\",null],[\"Variable\",\"Variable\",null]]]},\"id\":\"8464\",\"type\":\"FactorRange\"},{\"attributes\":{},\"id\":\"8621\",\"type\":\"Selection\"},{\"attributes\":{\"callback\":null,\"renderers\":[{\"id\":\"8428\"}],\"tags\":[\"hv_created\"],\"tooltips\":[[\"year\",\"@{year}\"],[\"average_house_value\",\"@{average_house_value}\"]]},\"id\":\"8391\",\"type\":\"HoverTool\"},{\"attributes\":{\"children\":[{\"id\":\"8368\"},{\"id\":\"8369\"}],\"margin\":[0,0,0,0],\"name\":\"Row19967\"},\"id\":\"8367\",\"type\":\"Row\"},{\"attributes\":{\"children\":[{\"id\":\"8367\"},{\"id\":\"8370\"},{\"id\":\"8373\"}],\"margin\":[0,0,0,0],\"name\":\"Column19978\"},\"id\":\"8366\",\"type\":\"Column\"},{\"attributes\":{},\"id\":\"8624\",\"type\":\"UnionRenderers\"},{\"attributes\":{\"children\":[{\"id\":\"8381\"},{\"id\":\"8385\"}],\"margin\":[0,0,0,0],\"name\":\"Row20028\"},\"id\":\"8380\",\"type\":\"Row\"},{\"attributes\":{\"end\":484917.3,\"reset_end\":484917.3,\"reset_start\":174521.7,\"start\":174521.7,\"tags\":[[[\"average_house_value\",\"average_house_value\",null]]]},\"id\":\"8390\",\"type\":\"Range1d\"},{\"attributes\":{\"fill_color\":{\"value\":\"#1f77b3\"},\"top\":{\"field\":\"average_house_value\"},\"width\":{\"value\":0.8},\"x\":{\"field\":\"neighbourhood\"}},\"id\":\"8585\",\"type\":\"VBar\"},{\"attributes\":{\"margin\":[0,0,0,0],\"name\":\"Column20224\"},\"id\":\"8548\",\"type\":\"Column\"},{\"attributes\":{},\"id\":\"8625\",\"type\":\"Selection\"},{\"attributes\":{},\"id\":\"8619\",\"type\":\"UnionRenderers\"},{\"attributes\":{\"child\":{\"id\":\"8545\"},\"name\":\"Column20231\",\"title\":\"Expensive Neighbourhoods\"},\"id\":\"8616\",\"type\":\"Panel\"},{\"attributes\":{\"children\":[{\"id\":\"8553\"}],\"margin\":[0,0,0,0],\"name\":\"Row20223\"},\"id\":\"8549\",\"type\":\"Row\"},{\"attributes\":{},\"id\":\"8626\",\"type\":\"UnionRenderers\"},{\"attributes\":{\"fill_alpha\":{\"value\":0.2},\"fill_color\":{\"value\":\"#1f77b3\"},\"line_alpha\":{\"value\":0.2},\"top\":{\"field\":\"average_house_value\"},\"width\":{\"value\":0.8},\"x\":{\"field\":\"neighbourhood\"}},\"id\":\"8587\",\"type\":\"VBar\"},{\"attributes\":{},\"id\":\"8627\",\"type\":\"Selection\"},{\"attributes\":{\"children\":[{\"id\":\"8382\"},{\"id\":\"8383\"}],\"margin\":[0,0,0,0],\"name\":\"Column19980\"},\"id\":\"8381\",\"type\":\"Column\"},{\"attributes\":{},\"id\":\"8628\",\"type\":\"UnionRenderers\"},{\"attributes\":{},\"id\":\"8519\",\"type\":\"UnionRenderers\"},{\"attributes\":{\"children\":[{\"id\":\"8386\"},{\"id\":\"8387\"}],\"margin\":[0,0,0,0],\"name\":\"Column19986\"},\"id\":\"8385\",\"type\":\"Column\"},{\"attributes\":{\"children\":[{\"id\":\"8615\"}],\"margin\":[0,0,0,0],\"name\":\"Row20229\"},\"id\":\"8613\",\"type\":\"Row\"},{\"attributes\":{\"data\":{\"marker.color\":[[293140,297031,380342,663921,543987,445807,376548,479299,502546,826963,329685,267642,388690,231839,454571,324882,1356757,394075,311922,439171,321496,871981,364291,360962,315133,490234,371009,373239,415024,374793,353756,232869,386366,339006,406710,424900,707638,239060,238505,505677,353553,275009,184694,756983,1063011,291172,344019,328303,328823,473289,518157,381156,351101,399210,312935,284227,619577,255698,401463,385094,286886,255296,391509,300725,749476,578001,299190,545034,674957,972384,716801,480129,342930,228318,402835,394610,306629,349739,253323,363929,233143,225031,602054,416125,362468,497355,409358,328854,624890,365706,265146,375307,392146,394111,553011,404100,360352,576713,331860,680604,348928,320860,307227,452349,972039,334448,490697,383158,293162,397724,404427,888017,334206,489230,314574,212794,592220,334072,226882,475039,549567,312980,334960,252998,305088,310480,273761,312685,309590,416893,414306,412655,265315,395861,328788,503046,719711,722799,271887,382954]],\"x\":[[\"Agincourt North\",\"Agincourt South-Malvern West\",\"Alderwood\",\"Annex\",\"Banbury-Don Mills\",\"Bathurst Manor\",\"Bay Street Corridor\",\"Bayview Village\",\"Bayview Woods-Steeles\",\"Bedford Park-Nortown\",\"Beechborough-Greenbrook\",\"Bendale\",\"Birchcliffe-Cliffside\",\"Black Creek\",\"Blake-Jones\",\"Briar Hill-Belgravia\",\"Bridle Path-Sunnybrook-York Mills\",\"Broadview North\",\"Brookhaven-Amesbury\",\"Cabbagetown-South St.James Town\",\"Caledonia-Fairbank\",\"Casa Loma\",\"Centennial Scarborough\",\"Church-Yonge Corridor\",\"Clairlea-Birchmount\",\"Clanton Park\",\"Cliffcrest\",\"Corso Italia-Davenport\",\"Danforth\",\"Danforth-East York\",\"Don Valley Village\",\"Dorset Park\",\"Dovercourt-Wallace Emerson-Juncti\",\"Downsview-Roding-CFB\",\"Dufferin Grove\",\"East End-Danforth\",\"Edenbridge-Humber Valley\",\"Eglinton East\",\"Elms-Old Rexdale\",\"Englemount-Lawrence\",\"Eringate-Centennial-West Deane\",\"Etobicoke West Mall\",\"Flemingdon Park\",\"Forest Hill North\",\"Forest Hill South\",\"Glenfield-Jane Heights\",\"Greenwood-Coxwell\",\"Guildwood\",\"Henry Farm\",\"High Park North\",\"High Park-Swansea\",\"Highland Creek\",\"Hillcrest Village\",\"Humber Heights-Westmount\",\"Humber Summit\",\"Humbermede\",\"Humewood-Cedarvale\",\"Ionview\",\"Islington-City Centre West\",\"Junction Area\",\"Keelesdale-Eglinton West\",\"Kennedy Park\",\"Kensington-Chinatown\",\"Kingsview Village-The Westway\",\"Kingsway South\",\"L'Amoreaux\",\"Lambton Baby Point\",\"Lansing-Westgate\",\"Lawrence Park North\",\"Lawrence Park South\",\"Leaside-Bennington\",\"Little Portugal\",\"Long Branch\",\"Malvern\",\"Maple Leaf\",\"Markland Wood\",\"Milliken\",\"Mimico\",\"Morningside\",\"Moss Park\",\"Mount Dennis\",\"Mount Olive-Silverstone-Jamestown\",\"Mount Pleasant East\",\"Mount Pleasant West\",\"New Toronto\",\"Newtonbrook East\",\"Newtonbrook West\",\"Niagara\",\"North Riverdale\",\"North St.James Town\",\"O'Connor-Parkview\",\"Oakridge\",\"Oakwood Village\",\"Old East York\",\"Palmerston-Little Italy\",\"Parkwoods-Donalda\",\"Pelmo Park-Humberlea\",\"Playter Estates-Danforth\",\"Pleasant View\",\"Princess-Rosethorn\",\"Regent Park\",\"Rexdale-Kipling\",\"Rockcliffe-Smythe\",\"Roncesvalles\",\"Rosedale-Moore Park\",\"Rouge\",\"Runnymede-Bloor West Village\",\"Rustic\",\"Scarborough Village\",\"South Parkdale\",\"South Riverdale\",\"St.Andrew-Windfields\",\"Steeles\",\"Stonegate-Queensway\",\"Tam O'Shanter-Sullivan\",\"Taylor-Massey\",\"The Beaches\",\"Thistletown-Beaumond Heights\",\"Thorncliffe Park\",\"Trinity-Bellwoods\",\"University\",\"Victoria Village\",\"Waterfront Communities-The Island\",\"West Hill\",\"West Humber-Clairville\",\"Westminster-Branson\",\"Weston\",\"Weston-Pellam Park\",\"Wexford/Maryvale\",\"Willowdale East\",\"Willowdale West\",\"Willowridge-Martingrove-Richview\",\"Woburn\",\"Woodbine Corridor\",\"Woodbine-Lumsden\",\"Wychwood\",\"Yonge-Eglinton\",\"Yonge-St.Clair\",\"York University Heights\",\"Yorkdale-Glen Park\"]],\"y\":[[293140,297031,380342,663921,543987,445807,376548,479299,502546,826963,329685,267642,388690,231839,454571,324882,1356757,394075,311922,439171,321496,871981,364291,360962,315133,490234,371009,373239,415024,374793,353756,232869,386366,339006,406710,424900,707638,239060,238505,505677,353553,275009,184694,756983,1063011,291172,344019,328303,328823,473289,518157,381156,351101,399210,312935,284227,619577,255698,401463,385094,286886,255296,391509,300725,749476,578001,299190,545034,674957,972384,716801,480129,342930,228318,402835,394610,306629,349739,253323,363929,233143,225031,602054,416125,362468,497355,409358,328854,624890,365706,265146,375307,392146,394111,553011,404100,360352,576713,331860,680604,348928,320860,307227,452349,972039,334448,490697,383158,293162,397724,404427,888017,334206,489230,314574,212794,592220,334072,226882,475039,549567,312980,334960,252998,305088,310480,273761,312685,309590,416893,414306,412655,265315,395861,328788,503046,719711,722799,271887,382954]]},\"selected\":{\"id\":\"8623\"},\"selection_policy\":{\"id\":\"8624\"}},\"id\":\"8540\",\"type\":\"ColumnDataSource\"},{\"attributes\":{\"margin\":[0,0,0,0],\"name\":\"Column19984\"},\"id\":\"8382\",\"type\":\"Column\"},{\"attributes\":{},\"id\":\"8633\",\"type\":\"UnionRenderers\"},{\"attributes\":{\"margin\":[5,5,5,5],\"name\":\"VSpacer20024\",\"sizing_mode\":\"stretch_height\"},\"id\":\"8458\",\"type\":\"Spacer\"},{\"attributes\":{\"children\":[{\"id\":\"8384\"}],\"margin\":[0,0,0,0],\"name\":\"Row19983\"},\"id\":\"8383\",\"type\":\"Row\"},{\"attributes\":{},\"id\":\"8632\",\"type\":\"Selection\"},{\"attributes\":{\"_render_count\":0,\"config\":null,\"data\":[{\"alignmentgroup\":\"True\",\"hovertemplate\":\"year=2001<br>neighbourhood=%{x}<br>average_house_value=%{marker.color}<extra></extra>\",\"legendgroup\":\"\",\"marker\":{\"coloraxis\":\"coloraxis\"},\"name\":\"\",\"offsetgroup\":\"\",\"orientation\":\"v\",\"showlegend\":false,\"textposition\":\"auto\",\"type\":\"bar\",\"xaxis\":\"x4\",\"yaxis\":\"y4\"},{\"alignmentgroup\":\"True\",\"hovertemplate\":\"year=2006<br>neighbourhood=%{x}<br>average_house_value=%{marker.color}<extra></extra>\",\"legendgroup\":\"\",\"marker\":{\"coloraxis\":\"coloraxis\"},\"name\":\"\",\"offsetgroup\":\"\",\"orientation\":\"v\",\"showlegend\":false,\"textposition\":\"auto\",\"type\":\"bar\",\"xaxis\":\"x3\",\"yaxis\":\"y3\"},{\"alignmentgroup\":\"True\",\"hovertemplate\":\"year=2011<br>neighbourhood=%{x}<br>average_house_value=%{marker.color}<extra></extra>\",\"legendgroup\":\"\",\"marker\":{\"coloraxis\":\"coloraxis\"},\"name\":\"\",\"offsetgroup\":\"\",\"orientation\":\"v\",\"showlegend\":false,\"textposition\":\"auto\",\"type\":\"bar\",\"xaxis\":\"x2\",\"yaxis\":\"y2\"},{\"alignmentgroup\":\"True\",\"hovertemplate\":\"year=2016<br>neighbourhood=%{x}<br>average_house_value=%{marker.color}<extra></extra>\",\"legendgroup\":\"\",\"marker\":{\"coloraxis\":\"coloraxis\"},\"name\":\"\",\"offsetgroup\":\"\",\"orientation\":\"v\",\"showlegend\":false,\"textposition\":\"auto\",\"type\":\"bar\",\"xaxis\":\"x\",\"yaxis\":\"y\"}],\"data_sources\":[{\"id\":\"8539\"},{\"id\":\"8540\"},{\"id\":\"8541\"},{\"id\":\"8542\"}],\"layout\":{\"annotations\":[{\"font\":{},\"showarrow\":false,\"text\":\"year=2016\",\"textangle\":90,\"x\":0.98,\"xanchor\":\"left\",\"xref\":\"paper\",\"y\":0.11375,\"yanchor\":\"middle\",\"yref\":\"paper\"},{\"font\":{},\"showarrow\":false,\"text\":\"year=2011\",\"textangle\":90,\"x\":0.98,\"xanchor\":\"left\",\"xref\":\"paper\",\"y\":0.37124999999999997,\"yanchor\":\"middle\",\"yref\":\"paper\"},{\"font\":{},\"showarrow\":false,\"text\":\"year=2006\",\"textangle\":90,\"x\":0.98,\"xanchor\":\"left\",\"xref\":\"paper\",\"y\":0.62875,\"yanchor\":\"middle\",\"yref\":\"paper\"},{\"font\":{},\"showarrow\":false,\"text\":\"year=2001\",\"textangle\":90,\"x\":0.98,\"xanchor\":\"left\",\"xref\":\"paper\",\"y\":0.88625,\"yanchor\":\"middle\",\"yref\":\"paper\"}],\"barmode\":\"relative\",\"coloraxis\":{\"colorbar\":{\"title\":{\"text\":\"average_house_value\"}},\"colorscale\":[[0.0,\"#0d0887\"],[0.1111111111111111,\"#46039f\"],[0.2222222222222222,\"#7201a8\"],[0.3333333333333333,\"#9c179e\"],[0.4444444444444444,\"#bd3786\"],[0.5555555555555556,\"#d8576b\"],[0.6666666666666666,\"#ed7953\"],[0.7777777777777778,\"#fb9f3a\"],[0.8888888888888888,\"#fdca26\"],[1.0,\"#f0f921\"]]},\"height\":1000,\"legend\":{\"tracegroupgap\":0},\"template\":{\"data\":{\"bar\":[{\"error_x\":{\"color\":\"#2a3f5f\"},\"error_y\":{\"color\":\"#2a3f5f\"},\"marker\":{\"line\":{\"color\":\"#E5ECF6\",\"width\":0.5}},\"type\":\"bar\"}],\"barpolar\":[{\"marker\":{\"line\":{\"color\":\"#E5ECF6\",\"width\":0.5}},\"type\":\"barpolar\"}],\"carpet\":[{\"aaxis\":{\"endlinecolor\":\"#2a3f5f\",\"gridcolor\":\"white\",\"linecolor\":\"white\",\"minorgridcolor\":\"white\",\"startlinecolor\":\"#2a3f5f\"},\"baxis\":{\"endlinecolor\":\"#2a3f5f\",\"gridcolor\":\"white\",\"linecolor\":\"white\",\"minorgridcolor\":\"white\",\"startlinecolor\":\"#2a3f5f\"},\"type\":\"carpet\"}],\"choropleth\":[{\"colorbar\":{\"outlinewidth\":0,\"ticks\":\"\"},\"type\":\"choropleth\"}],\"contour\":[{\"colorbar\":{\"outlinewidth\":0,\"ticks\":\"\"},\"colorscale\":[[0.0,\"#0d0887\"],[0.1111111111111111,\"#46039f\"],[0.2222222222222222,\"#7201a8\"],[0.3333333333333333,\"#9c179e\"],[0.4444444444444444,\"#bd3786\"],[0.5555555555555556,\"#d8576b\"],[0.6666666666666666,\"#ed7953\"],[0.7777777777777778,\"#fb9f3a\"],[0.8888888888888888,\"#fdca26\"],[1.0,\"#f0f921\"]],\"type\":\"contour\"}],\"contourcarpet\":[{\"colorbar\":{\"outlinewidth\":0,\"ticks\":\"\"},\"type\":\"contourcarpet\"}],\"heatmap\":[{\"colorbar\":{\"outlinewidth\":0,\"ticks\":\"\"},\"colorscale\":[[0.0,\"#0d0887\"],[0.1111111111111111,\"#46039f\"],[0.2222222222222222,\"#7201a8\"],[0.3333333333333333,\"#9c179e\"],[0.4444444444444444,\"#bd3786\"],[0.5555555555555556,\"#d8576b\"],[0.6666666666666666,\"#ed7953\"],[0.7777777777777778,\"#fb9f3a\"],[0.8888888888888888,\"#fdca26\"],[1.0,\"#f0f921\"]],\"type\":\"heatmap\"}],\"heatmapgl\":[{\"colorbar\":{\"outlinewidth\":0,\"ticks\":\"\"},\"colorscale\":[[0.0,\"#0d0887\"],[0.1111111111111111,\"#46039f\"],[0.2222222222222222,\"#7201a8\"],[0.3333333333333333,\"#9c179e\"],[0.4444444444444444,\"#bd3786\"],[0.5555555555555556,\"#d8576b\"],[0.6666666666666666,\"#ed7953\"],[0.7777777777777778,\"#fb9f3a\"],[0.8888888888888888,\"#fdca26\"],[1.0,\"#f0f921\"]],\"type\":\"heatmapgl\"}],\"histogram\":[{\"marker\":{\"colorbar\":{\"outlinewidth\":0,\"ticks\":\"\"}},\"type\":\"histogram\"}],\"histogram2d\":[{\"colorbar\":{\"outlinewidth\":0,\"ticks\":\"\"},\"colorscale\":[[0.0,\"#0d0887\"],[0.1111111111111111,\"#46039f\"],[0.2222222222222222,\"#7201a8\"],[0.3333333333333333,\"#9c179e\"],[0.4444444444444444,\"#bd3786\"],[0.5555555555555556,\"#d8576b\"],[0.6666666666666666,\"#ed7953\"],[0.7777777777777778,\"#fb9f3a\"],[0.8888888888888888,\"#fdca26\"],[1.0,\"#f0f921\"]],\"type\":\"histogram2d\"}],\"histogram2dcontour\":[{\"colorbar\":{\"outlinewidth\":0,\"ticks\":\"\"},\"colorscale\":[[0.0,\"#0d0887\"],[0.1111111111111111,\"#46039f\"],[0.2222222222222222,\"#7201a8\"],[0.3333333333333333,\"#9c179e\"],[0.4444444444444444,\"#bd3786\"],[0.5555555555555556,\"#d8576b\"],[0.6666666666666666,\"#ed7953\"],[0.7777777777777778,\"#fb9f3a\"],[0.8888888888888888,\"#fdca26\"],[1.0,\"#f0f921\"]],\"type\":\"histogram2dcontour\"}],\"mesh3d\":[{\"colorbar\":{\"outlinewidth\":0,\"ticks\":\"\"},\"type\":\"mesh3d\"}],\"parcoords\":[{\"line\":{\"colorbar\":{\"outlinewidth\":0,\"ticks\":\"\"}},\"type\":\"parcoords\"}],\"pie\":[{\"automargin\":true,\"type\":\"pie\"}],\"scatter\":[{\"marker\":{\"colorbar\":{\"outlinewidth\":0,\"ticks\":\"\"}},\"type\":\"scatter\"}],\"scatter3d\":[{\"line\":{\"colorbar\":{\"outlinewidth\":0,\"ticks\":\"\"}},\"marker\":{\"colorbar\":{\"outlinewidth\":0,\"ticks\":\"\"}},\"type\":\"scatter3d\"}],\"scattercarpet\":[{\"marker\":{\"colorbar\":{\"outlinewidth\":0,\"ticks\":\"\"}},\"type\":\"scattercarpet\"}],\"scattergeo\":[{\"marker\":{\"colorbar\":{\"outlinewidth\":0,\"ticks\":\"\"}},\"type\":\"scattergeo\"}],\"scattergl\":[{\"marker\":{\"colorbar\":{\"outlinewidth\":0,\"ticks\":\"\"}},\"type\":\"scattergl\"}],\"scattermapbox\":[{\"marker\":{\"colorbar\":{\"outlinewidth\":0,\"ticks\":\"\"}},\"type\":\"scattermapbox\"}],\"scatterpolar\":[{\"marker\":{\"colorbar\":{\"outlinewidth\":0,\"ticks\":\"\"}},\"type\":\"scatterpolar\"}],\"scatterpolargl\":[{\"marker\":{\"colorbar\":{\"outlinewidth\":0,\"ticks\":\"\"}},\"type\":\"scatterpolargl\"}],\"scatterternary\":[{\"marker\":{\"colorbar\":{\"outlinewidth\":0,\"ticks\":\"\"}},\"type\":\"scatterternary\"}],\"surface\":[{\"colorbar\":{\"outlinewidth\":0,\"ticks\":\"\"},\"colorscale\":[[0.0,\"#0d0887\"],[0.1111111111111111,\"#46039f\"],[0.2222222222222222,\"#7201a8\"],[0.3333333333333333,\"#9c179e\"],[0.4444444444444444,\"#bd3786\"],[0.5555555555555556,\"#d8576b\"],[0.6666666666666666,\"#ed7953\"],[0.7777777777777778,\"#fb9f3a\"],[0.8888888888888888,\"#fdca26\"],[1.0,\"#f0f921\"]],\"type\":\"surface\"}],\"table\":[{\"cells\":{\"fill\":{\"color\":\"#EBF0F8\"},\"line\":{\"color\":\"white\"}},\"header\":{\"fill\":{\"color\":\"#C8D4E3\"},\"line\":{\"color\":\"white\"}},\"type\":\"table\"}]},\"layout\":{\"annotationdefaults\":{\"arrowcolor\":\"#2a3f5f\",\"arrowhead\":0,\"arrowwidth\":1},\"coloraxis\":{\"colorbar\":{\"outlinewidth\":0,\"ticks\":\"\"}},\"colorscale\":{\"diverging\":[[0,\"#8e0152\"],[0.1,\"#c51b7d\"],[0.2,\"#de77ae\"],[0.3,\"#f1b6da\"],[0.4,\"#fde0ef\"],[0.5,\"#f7f7f7\"],[0.6,\"#e6f5d0\"],[0.7,\"#b8e186\"],[0.8,\"#7fbc41\"],[0.9,\"#4d9221\"],[1,\"#276419\"]],\"sequential\":[[0.0,\"#0d0887\"],[0.1111111111111111,\"#46039f\"],[0.2222222222222222,\"#7201a8\"],[0.3333333333333333,\"#9c179e\"],[0.4444444444444444,\"#bd3786\"],[0.5555555555555556,\"#d8576b\"],[0.6666666666666666,\"#ed7953\"],[0.7777777777777778,\"#fb9f3a\"],[0.8888888888888888,\"#fdca26\"],[1.0,\"#f0f921\"]],\"sequentialminus\":[[0.0,\"#0d0887\"],[0.1111111111111111,\"#46039f\"],[0.2222222222222222,\"#7201a8\"],[0.3333333333333333,\"#9c179e\"],[0.4444444444444444,\"#bd3786\"],[0.5555555555555556,\"#d8576b\"],[0.6666666666666666,\"#ed7953\"],[0.7777777777777778,\"#fb9f3a\"],[0.8888888888888888,\"#fdca26\"],[1.0,\"#f0f921\"]]},\"colorway\":[\"#636efa\",\"#EF553B\",\"#00cc96\",\"#ab63fa\",\"#FFA15A\",\"#19d3f3\",\"#FF6692\",\"#B6E880\",\"#FF97FF\",\"#FECB52\"],\"font\":{\"color\":\"#2a3f5f\"},\"geo\":{\"bgcolor\":\"white\",\"lakecolor\":\"white\",\"landcolor\":\"#E5ECF6\",\"showlakes\":true,\"showland\":true,\"subunitcolor\":\"white\"},\"hoverlabel\":{\"align\":\"left\"},\"hovermode\":\"closest\",\"mapbox\":{\"style\":\"light\"},\"paper_bgcolor\":\"white\",\"plot_bgcolor\":\"#E5ECF6\",\"polar\":{\"angularaxis\":{\"gridcolor\":\"white\",\"linecolor\":\"white\",\"ticks\":\"\"},\"bgcolor\":\"#E5ECF6\",\"radialaxis\":{\"gridcolor\":\"white\",\"linecolor\":\"white\",\"ticks\":\"\"}},\"scene\":{\"xaxis\":{\"backgroundcolor\":\"#E5ECF6\",\"gridcolor\":\"white\",\"gridwidth\":2,\"linecolor\":\"white\",\"showbackground\":true,\"ticks\":\"\",\"zerolinecolor\":\"white\"},\"yaxis\":{\"backgroundcolor\":\"#E5ECF6\",\"gridcolor\":\"white\",\"gridwidth\":2,\"linecolor\":\"white\",\"showbackground\":true,\"ticks\":\"\",\"zerolinecolor\":\"white\"},\"zaxis\":{\"backgroundcolor\":\"#E5ECF6\",\"gridcolor\":\"white\",\"gridwidth\":2,\"linecolor\":\"white\",\"showbackground\":true,\"ticks\":\"\",\"zerolinecolor\":\"white\"}},\"shapedefaults\":{\"line\":{\"color\":\"#2a3f5f\"}},\"ternary\":{\"aaxis\":{\"gridcolor\":\"white\",\"linecolor\":\"white\",\"ticks\":\"\"},\"baxis\":{\"gridcolor\":\"white\",\"linecolor\":\"white\",\"ticks\":\"\"},\"bgcolor\":\"#E5ECF6\",\"caxis\":{\"gridcolor\":\"white\",\"linecolor\":\"white\",\"ticks\":\"\"}},\"title\":{\"x\":0.05},\"xaxis\":{\"automargin\":true,\"gridcolor\":\"white\",\"linecolor\":\"white\",\"ticks\":\"\",\"title\":{\"standoff\":15},\"zerolinecolor\":\"white\",\"zerolinewidth\":2},\"yaxis\":{\"automargin\":true,\"gridcolor\":\"white\",\"linecolor\":\"white\",\"ticks\":\"\",\"title\":{\"standoff\":15},\"zerolinecolor\":\"white\",\"zerolinewidth\":2}}},\"title\":{\"text\":\"Average House Values in Toronto per Neighbourhood\"},\"width\":1300,\"xaxis\":{\"anchor\":\"y\",\"domain\":[0.0,0.98],\"title\":{\"text\":\"neighbourhood\"}},\"xaxis2\":{\"anchor\":\"y2\",\"domain\":[0.0,0.98],\"matches\":\"x\",\"showticklabels\":false},\"xaxis3\":{\"anchor\":\"y3\",\"domain\":[0.0,0.98],\"matches\":\"x\",\"showticklabels\":false},\"xaxis4\":{\"anchor\":\"y4\",\"domain\":[0.0,0.98],\"matches\":\"x\",\"showticklabels\":false},\"yaxis\":{\"anchor\":\"x\",\"domain\":[0.0,0.2275],\"title\":{\"text\":\"average_house_value\"}},\"yaxis2\":{\"anchor\":\"x2\",\"domain\":[0.2575,0.485],\"matches\":\"y\",\"title\":{\"text\":\"average_house_value\"}},\"yaxis3\":{\"anchor\":\"x3\",\"domain\":[0.515,0.7425],\"matches\":\"y\",\"title\":{\"text\":\"average_house_value\"}},\"yaxis4\":{\"anchor\":\"x4\",\"domain\":[0.7725,1.0],\"matches\":\"y\",\"title\":{\"text\":\"average_house_value\"}}},\"margin\":[5,5,5,5],\"name\":\"interactive20080\",\"viewport_update_throttle\":200},\"id\":\"8543\",\"type\":\"panel.models.plotly.PlotlyPlot\"},{\"attributes\":{\"css_classes\":[\"markdown\"],\"margin\":[5,5,5,5],\"name\":\"Markdown19952\",\"text\":\"&lt;p&gt;This Interactive Dashboard (using PyViz Panel) shows real estate data for Toronto from\\n2001 to 2016.   &lt;br&gt;\\nNavigate across the various tabs to explore different types of analysis.     &lt;/p&gt;\\n&lt;p&gt;The dashboard has 6 tabs as follows:  &lt;/p&gt;\\n&lt;ol&gt;\\n&lt;li&gt;Intro - Containing short message providing context on the dashboard data.  &lt;/li&gt;\\n&lt;li&gt;\\n&lt;p&gt;Geospatial Analysis through MapBox Scatter Figure, containing an interactive map with data on    &lt;/p&gt;\\n&lt;ul&gt;\\n&lt;li&gt;Average prices of dwellings per neighbourhood    &lt;/li&gt;\\n&lt;li&gt;Number of Dwellings in each neighbourhood  &lt;/li&gt;\\n&lt;/ul&gt;\\n&lt;/li&gt;\\n&lt;li&gt;\\n&lt;p&gt;Analysis of number of each dwelling units in Toronto in 2001, 2006, 2011 and 2016 respectively.   &lt;/p&gt;\\n&lt;ul&gt;\\n&lt;li&gt;It is compared with Average monthly dwelling costs for rented or owned properties in Toronto.  &lt;/li&gt;\\n&lt;/ul&gt;\\n&lt;/li&gt;\\n&lt;li&gt;\\n&lt;p&gt;Pricing Analysis   &lt;/p&gt;\\n&lt;ul&gt;\\n&lt;li&gt;Average of house value for Toronto overall  &lt;/li&gt;\\n&lt;li&gt;Average of house value for each neighbourhood in Toronto   &lt;/li&gt;\\n&lt;li&gt;This also contains an interactive map showing the number of dwelling types in each year by each neighbourhood.  &lt;/li&gt;\\n&lt;/ul&gt;\\n&lt;/li&gt;\\n&lt;li&gt;\\n&lt;p&gt;This shows the average house value in each neighbourhood in Toronto through an interactive chart   &lt;/p&gt;\\n&lt;/li&gt;\\n&lt;li&gt;\\n&lt;p&gt;This shows an analysis of the 10 most expensive neighbourhoods in Toronto through a bar chart and a sunburst chart   &lt;/p&gt;\\n&lt;/li&gt;\\n&lt;/ol&gt;\"},\"id\":\"8356\",\"type\":\"panel.models.markup.HTML\"},{\"attributes\":{},\"id\":\"8558\",\"type\":\"CategoricalScale\"},{\"attributes\":{\"children\":[{\"id\":\"8457\"}],\"css_classes\":[\"panel-widget-box\"],\"margin\":[5,5,5,5],\"name\":\"WidgetBox20019\"},\"id\":\"8456\",\"type\":\"Column\"},{\"attributes\":{\"line_alpha\":0.1,\"line_color\":\"#1f77b3\",\"line_width\":2,\"x\":{\"field\":\"year\"},\"y\":{\"field\":\"average_house_value\"}},\"id\":\"8426\",\"type\":\"Line\"},{\"attributes\":{\"margin\":[0,0,0,0],\"name\":\"Column20027\"},\"id\":\"8386\",\"type\":\"Column\"},{\"attributes\":{\"margin\":[0,0,0,0],\"name\":\"Column20230\"},\"id\":\"8612\",\"type\":\"Column\"},{\"attributes\":{\"children\":[{\"id\":\"8388\"}],\"margin\":[0,0,0,0],\"name\":\"Row20026\"},\"id\":\"8387\",\"type\":\"Row\"},{\"attributes\":{\"margin\":[20,20,20,20],\"min_width\":250,\"options\":[\"Agincourt North\",\"Agincourt South-Malvern West\",\"Alderwood\",\"Annex\",\"Banbury-Don Mills\",\"Bathurst Manor\",\"Bay Street Corridor\",\"Bayview Village\",\"Bayview Woods-Steeles\",\"Bedford Park-Nortown\",\"Beechborough-Greenbrook\",\"Bendale\",\"Birchcliffe-Cliffside\",\"Black Creek\",\"Blake-Jones\",\"Briar Hill-Belgravia\",\"Bridle Path-Sunnybrook-York Mills\",\"Broadview North\",\"Brookhaven-Amesbury\",\"Cabbagetown-South St.James Town\",\"Caledonia-Fairbank\",\"Casa Loma\",\"Centennial Scarborough\",\"Church-Yonge Corridor\",\"Clairlea-Birchmount\",\"Clanton Park\",\"Cliffcrest\",\"Corso Italia-Davenport\",\"Danforth\",\"Danforth-East York\",\"Don Valley Village\",\"Dorset Park\",\"Dovercourt-Wallace Emerson-Juncti\",\"Downsview-Roding-CFB\",\"Dufferin Grove\",\"East End-Danforth\",\"Edenbridge-Humber Valley\",\"Eglinton East\",\"Elms-Old Rexdale\",\"Englemount-Lawrence\",\"Eringate-Centennial-West Deane\",\"Etobicoke West Mall\",\"Flemingdon Park\",\"Forest Hill North\",\"Forest Hill South\",\"Glenfield-Jane Heights\",\"Greenwood-Coxwell\",\"Guildwood\",\"Henry Farm\",\"High Park North\",\"High Park-Swansea\",\"Highland Creek\",\"Hillcrest Village\",\"Humber Heights-Westmount\",\"Humber Summit\",\"Humbermede\",\"Humewood-Cedarvale\",\"Ionview\",\"Islington-City Centre West\",\"Junction Area\",\"Keelesdale-Eglinton West\",\"Kennedy Park\",\"Kensington-Chinatown\",\"Kingsview Village-The Westway\",\"Kingsway South\",\"L'Amoreaux\",\"Lambton Baby Point\",\"Lansing-Westgate\",\"Lawrence Park North\",\"Lawrence Park South\",\"Leaside-Bennington\",\"Little Portugal\",\"Long Branch\",\"Malvern\",\"Maple Leaf\",\"Markland Wood\",\"Milliken\",\"Mimico\",\"Morningside\",\"Moss Park\",\"Mount Dennis\",\"Mount Olive-Silverstone-Jamestown\",\"Mount Pleasant East\",\"Mount Pleasant West\",\"New Toronto\",\"Newtonbrook East\",\"Newtonbrook West\",\"Niagara\",\"North Riverdale\",\"North St.James Town\",\"O'Connor-Parkview\",\"Oakridge\",\"Oakwood Village\",\"Old East York\",\"Palmerston-Little Italy\",\"Parkwoods-Donalda\",\"Pelmo Park-Humberlea\",\"Playter Estates-Danforth\",\"Pleasant View\",\"Princess-Rosethorn\",\"Regent Park\",\"Rexdale-Kipling\",\"Rockcliffe-Smythe\",\"Roncesvalles\",\"Rosedale-Moore Park\",\"Rouge\",\"Runnymede-Bloor West Village\",\"Rustic\",\"Scarborough Village\",\"South Parkdale\",\"South Riverdale\",\"St.Andrew-Windfields\",\"Steeles\",\"Stonegate-Queensway\",\"Tam O'Shanter-Sullivan\",\"Taylor-Massey\",\"The Beaches\",\"Thistletown-Beaumond Heights\",\"Thorncliffe Park\",\"Trinity-Bellwoods\",\"University\",\"Victoria Village\",\"Waterfront Communities-The Island\",\"West Hill\",\"West Humber-Clairville\",\"Westminster-Branson\",\"Weston\",\"Weston-Pellam Park\",\"Wexford/Maryvale\",\"Willowdale East\",\"Willowdale West\",\"Willowridge-Martingrove-Richview\",\"Woburn\",\"Woodbine Corridor\",\"Woodbine-Lumsden\",\"Wychwood\",\"Yonge-Eglinton\",\"Yonge-St.Clair\",\"York University Heights\",\"Yorkdale-Glen Park\"],\"title\":\"neighbourhood\",\"value\":\"Agincourt North\",\"width\":250},\"id\":\"8531\",\"type\":\"Select\"},{\"attributes\":{},\"id\":\"8602\",\"type\":\"UnionRenderers\"},{\"attributes\":{\"margin\":[20,20,20,20],\"min_width\":250,\"options\":[\"Agincourt North\",\"Agincourt South-Malvern West\",\"Alderwood\",\"Annex\",\"Banbury-Don Mills\",\"Bathurst Manor\",\"Bay Street Corridor\",\"Bayview Village\",\"Bayview Woods-Steeles\",\"Bedford Park-Nortown\",\"Beechborough-Greenbrook\",\"Bendale\",\"Birchcliffe-Cliffside\",\"Black Creek\",\"Blake-Jones\",\"Briar Hill-Belgravia\",\"Bridle Path-Sunnybrook-York Mills\",\"Broadview North\",\"Brookhaven-Amesbury\",\"Cabbagetown-South St.James Town\",\"Caledonia-Fairbank\",\"Casa Loma\",\"Centennial Scarborough\",\"Church-Yonge Corridor\",\"Clairlea-Birchmount\",\"Clanton Park\",\"Cliffcrest\",\"Corso Italia-Davenport\",\"Danforth\",\"Danforth-East York\",\"Don Valley Village\",\"Dorset Park\",\"Dovercourt-Wallace Emerson-Juncti\",\"Downsview-Roding-CFB\",\"Dufferin Grove\",\"East End-Danforth\",\"Edenbridge-Humber Valley\",\"Eglinton East\",\"Elms-Old Rexdale\",\"Englemount-Lawrence\",\"Eringate-Centennial-West Deane\",\"Etobicoke West Mall\",\"Flemingdon Park\",\"Forest Hill North\",\"Forest Hill South\",\"Glenfield-Jane Heights\",\"Greenwood-Coxwell\",\"Guildwood\",\"Henry Farm\",\"High Park North\",\"High Park-Swansea\",\"Highland Creek\",\"Hillcrest Village\",\"Humber Heights-Westmount\",\"Humber Summit\",\"Humbermede\",\"Humewood-Cedarvale\",\"Ionview\",\"Islington-City Centre West\",\"Junction Area\",\"Keelesdale-Eglinton West\",\"Kennedy Park\",\"Kensington-Chinatown\",\"Kingsview Village-The Westway\",\"Kingsway South\",\"L'Amoreaux\",\"Lambton Baby Point\",\"Lansing-Westgate\",\"Lawrence Park North\",\"Lawrence Park South\",\"Leaside-Bennington\",\"Little Portugal\",\"Long Branch\",\"Malvern\",\"Maple Leaf\",\"Markland Wood\",\"Milliken\",\"Mimico\",\"Morningside\",\"Moss Park\",\"Mount Dennis\",\"Mount Olive-Silverstone-Jamestown\",\"Mount Pleasant East\",\"Mount Pleasant West\",\"New Toronto\",\"Newtonbrook East\",\"Newtonbrook West\",\"Niagara\",\"North Riverdale\",\"North St.James Town\",\"O'Connor-Parkview\",\"Oakridge\",\"Oakwood Village\",\"Old East York\",\"Palmerston-Little Italy\",\"Parkwoods-Donalda\",\"Pelmo Park-Humberlea\",\"Playter Estates-Danforth\",\"Pleasant View\",\"Princess-Rosethorn\",\"Regent Park\",\"Rexdale-Kipling\",\"Rockcliffe-Smythe\",\"Roncesvalles\",\"Rosedale-Moore Park\",\"Rouge\",\"Runnymede-Bloor West Village\",\"Rustic\",\"Scarborough Village\",\"South Parkdale\",\"South Riverdale\",\"St.Andrew-Windfields\",\"Steeles\",\"Stonegate-Queensway\",\"Tam O'Shanter-Sullivan\",\"Taylor-Massey\",\"The Beaches\",\"Thistletown-Beaumond Heights\",\"Thorncliffe Park\",\"Trinity-Bellwoods\",\"University\",\"Victoria Village\",\"Waterfront Communities-The Island\",\"West Hill\",\"West Humber-Clairville\",\"Westminster-Branson\",\"Weston\",\"Weston-Pellam Park\",\"Wexford/Maryvale\",\"Willowdale East\",\"Willowdale West\",\"Willowridge-Martingrove-Richview\",\"Woburn\",\"Woodbine Corridor\",\"Woodbine-Lumsden\",\"Wychwood\",\"Yonge-Eglinton\",\"Yonge-St.Clair\",\"York University Heights\",\"Yorkdale-Glen Park\"],\"title\":\"neighbourhood\",\"value\":\"Agincourt North\",\"width\":250},\"id\":\"8457\",\"type\":\"Select\"},{\"attributes\":{\"factors\":[\"Bridle Path-Sunnybrook-York Mills\",\"Forest Hill South\",\"Lawrence Park South\",\"Rosedale-Moore Park\",\"St.Andrew-Windfields\",\"Casa Loma\",\"Bedford Park-Nortown\",\"Forest Hill North\",\"Kingsway South\",\"Yonge-St.Clair\"],\"tags\":[[[\"neighbourhood\",\"neighbourhood\",null]]]},\"id\":\"8550\",\"type\":\"FactorRange\"},{\"attributes\":{\"text\":\"neighbourhood: Agincourt North\",\"text_color\":{\"value\":\"black\"},\"text_font_size\":{\"value\":\"12pt\"}},\"id\":\"8393\",\"type\":\"Title\"},{\"attributes\":{\"children\":[{\"id\":\"8456\"},{\"id\":\"8458\"}],\"margin\":[0,0,0,0],\"name\":\"Column20025\"},\"id\":\"8455\",\"type\":\"Column\"},{\"attributes\":{},\"id\":\"8498\",\"type\":\"Selection\"},{\"attributes\":{\"align\":null,\"below\":[{\"id\":\"8476\"}],\"center\":[{\"id\":\"8478\"},{\"id\":\"8482\"}],\"left\":[{\"id\":\"8479\"}],\"margin\":null,\"min_border_bottom\":10,\"min_border_left\":10,\"min_border_right\":10,\"min_border_top\":10,\"plot_height\":500,\"plot_width\":700,\"renderers\":[{\"id\":\"8503\"}],\"sizing_mode\":\"fixed\",\"title\":{\"id\":\"8468\"},\"toolbar\":{\"id\":\"8489\"},\"x_range\":{\"id\":\"8464\"},\"x_scale\":{\"id\":\"8472\"},\"y_range\":{\"id\":\"8465\"},\"y_scale\":{\"id\":\"8474\"}},\"id\":\"8467\",\"subtype\":\"Figure\",\"type\":\"Plot\"},{\"attributes\":{},\"id\":\"8446\",\"type\":\"UnionRenderers\"},{\"attributes\":{\"children\":[{\"id\":\"8392\"},{\"id\":\"8455\"}],\"margin\":[0,0,0,0],\"name\":\"interactive19985\"},\"id\":\"8388\",\"type\":\"Row\"},{\"attributes\":{\"format\":\"%.0f\"},\"id\":\"8590\",\"type\":\"PrintfTickFormatter\"},{\"attributes\":{\"css_classes\":[\"markdown\"],\"margin\":[5,5,5,5],\"name\":\"Markdown19954\",\"text\":\"&lt;h2&gt;Overall Neighbourhood map for each dwelling type in numbers and value&lt;/h2&gt;\"},\"id\":\"8359\",\"type\":\"panel.models.markup.HTML\"},{\"attributes\":{\"text\":\"neighbourhood: Agincourt North\",\"text_color\":{\"value\":\"black\"},\"text_font_size\":{\"value\":\"12pt\"}},\"id\":\"8468\",\"type\":\"Title\"},{\"attributes\":{\"axis\":{\"id\":\"8405\"},\"dimension\":1,\"grid_line_color\":null,\"ticker\":null},\"id\":\"8408\",\"type\":\"Grid\"},{\"attributes\":{},\"id\":\"8591\",\"type\":\"CategoricalTickFormatter\"},{\"attributes\":{\"line_color\":\"#1f77b3\",\"line_width\":2,\"x\":{\"field\":\"year\"},\"y\":{\"field\":\"average_house_value\"}},\"id\":\"8425\",\"type\":\"Line\"},{\"attributes\":{},\"id\":\"8472\",\"type\":\"CategoricalScale\"},{\"attributes\":{\"margin\":[5,5,5,5],\"name\":\"Str19973\",\"text\":\"&lt;pre&gt;AxesSubplot(0.125,0.125;0.775x0.755)&lt;/pre&gt;\"},\"id\":\"8374\",\"type\":\"panel.models.markup.HTML\"},{\"attributes\":{\"axis_label\":\"year, Variable\",\"bounds\":\"auto\",\"formatter\":{\"id\":\"8505\"},\"major_label_orientation\":1.5707963267948966,\"ticker\":{\"id\":\"8477\"}},\"id\":\"8476\",\"type\":\"CategoricalAxis\"},{\"attributes\":{\"margin\":[5,5,5,5],\"name\":\"VSpacer20073\",\"sizing_mode\":\"stretch_height\"},\"id\":\"8532\",\"type\":\"Spacer\"},{\"attributes\":{\"axis\":{\"id\":\"8401\"},\"grid_line_color\":null,\"ticker\":null},\"id\":\"8404\",\"type\":\"Grid\"},{\"attributes\":{\"margin\":[5,5,5,5],\"name\":\"Str19975\",\"text\":\"&lt;pre&gt;AxesSubplot(0.125,0.125;0.775x0.755)&lt;/pre&gt;\"},\"id\":\"8375\",\"type\":\"panel.models.markup.HTML\"},{\"attributes\":{\"source\":{\"id\":\"8497\"}},\"id\":\"8504\",\"type\":\"CDSView\"},{\"attributes\":{},\"id\":\"8474\",\"type\":\"LinearScale\"},{\"attributes\":{\"end\":2016.0,\"reset_end\":2016.0,\"reset_start\":2001.0,\"start\":2001.0,\"tags\":[[[\"year\",\"year\",null]]]},\"id\":\"8389\",\"type\":\"Range1d\"},{\"attributes\":{\"css_classes\":[\"markdown\"],\"margin\":[5,5,5,5],\"name\":\"Markdown20033\",\"text\":\"&lt;h3&gt;Number of dwellings in each neighbourhood in each year in Toronto&lt;/h3&gt;\"},\"id\":\"8459\",\"type\":\"panel.models.markup.HTML\"},{\"attributes\":{},\"id\":\"8413\",\"type\":\"ResetTool\"},{\"attributes\":{\"active_drag\":\"auto\",\"active_inspect\":\"auto\",\"active_multi\":null,\"active_scroll\":\"auto\",\"active_tap\":\"auto\",\"tools\":[{\"id\":\"8552\"},{\"id\":\"8569\"},{\"id\":\"8570\"},{\"id\":\"8571\"},{\"id\":\"8572\"},{\"id\":\"8573\"}]},\"id\":\"8575\",\"type\":\"Toolbar\"},{\"attributes\":{\"overlay\":{\"id\":\"8414\"}},\"id\":\"8412\",\"type\":\"BoxZoomTool\"},{\"attributes\":{\"children\":[{\"id\":\"8371\"},{\"id\":\"8372\"}],\"margin\":[0,0,0,0],\"name\":\"Row19972\"},\"id\":\"8370\",\"type\":\"Row\"},{\"attributes\":{\"children\":[{\"id\":\"8378\"},{\"id\":\"8379\"},{\"id\":\"8380\"},{\"id\":\"8459\"},{\"id\":\"8460\"}],\"margin\":[0,0,0,0],\"name\":\"Column20077\"},\"id\":\"8377\",\"type\":\"Column\"},{\"attributes\":{},\"id\":\"8508\",\"type\":\"BasicTickFormatter\"},{\"attributes\":{\"children\":[{\"id\":\"8359\"},{\"id\":\"8360\"}],\"margin\":[0,0,0,0],\"name\":\"Column19962\"},\"id\":\"8358\",\"type\":\"Column\"},{\"attributes\":{\"axis\":{\"id\":\"8476\"},\"grid_line_color\":null,\"ticker\":null},\"id\":\"8478\",\"type\":\"Grid\"},{\"attributes\":{\"fill_color\":{\"field\":\"Variable\",\"transform\":{\"id\":\"8496\"}},\"top\":{\"field\":\"value\"},\"width\":{\"value\":0.8},\"x\":{\"field\":\"xoffsets\"}},\"id\":\"8500\",\"type\":\"VBar\"},{\"attributes\":{\"bottom_units\":\"screen\",\"fill_alpha\":0.5,\"fill_color\":\"lightgrey\",\"left_units\":\"screen\",\"level\":\"overlay\",\"line_alpha\":1.0,\"line_color\":\"black\",\"line_dash\":[4,4],\"line_width\":2,\"right_units\":\"screen\",\"top_units\":\"screen\"},\"id\":\"8574\",\"type\":\"BoxAnnotation\"},{\"attributes\":{\"children\":[{\"id\":\"8530\"},{\"id\":\"8532\"}],\"margin\":[0,0,0,0],\"name\":\"Column20074\"},\"id\":\"8529\",\"type\":\"Column\"},{\"attributes\":{},\"id\":\"8410\",\"type\":\"PanTool\"},{\"attributes\":{},\"id\":\"8477\",\"type\":\"CategoricalTicker\"},{\"attributes\":{},\"id\":\"8409\",\"type\":\"SaveTool\"},{\"attributes\":{\"fill_alpha\":{\"value\":0.2},\"fill_color\":{\"field\":\"Variable\",\"transform\":{\"id\":\"8496\"}},\"line_alpha\":{\"value\":0.2},\"top\":{\"field\":\"value\"},\"width\":{\"value\":0.8},\"x\":{\"field\":\"xoffsets\"}},\"id\":\"8502\",\"type\":\"VBar\"},{\"attributes\":{},\"id\":\"8402\",\"type\":\"BasicTicker\"},{\"attributes\":{\"axis_label\":\"\",\"bounds\":\"auto\",\"formatter\":{\"id\":\"8508\"},\"major_label_orientation\":\"horizontal\",\"ticker\":{\"id\":\"8480\"}},\"id\":\"8479\",\"type\":\"LinearAxis\"},{\"attributes\":{\"axis_label\":\"year\",\"bounds\":\"auto\",\"formatter\":{\"id\":\"8432\"},\"major_label_orientation\":\"horizontal\",\"ticker\":{\"id\":\"8402\"}},\"id\":\"8401\",\"type\":\"LinearAxis\"},{\"attributes\":{\"child\":{\"id\":\"8358\"},\"name\":\"Column19962\",\"title\":\"Overall GeoSpatial Analysis\"},\"id\":\"8365\",\"type\":\"Panel\"},{\"attributes\":{},\"id\":\"8432\",\"type\":\"BasicTickFormatter\"},{\"attributes\":{\"bottom_units\":\"screen\",\"fill_alpha\":0.5,\"fill_color\":\"lightgrey\",\"left_units\":\"screen\",\"level\":\"overlay\",\"line_alpha\":1.0,\"line_color\":\"black\",\"line_dash\":[4,4],\"line_width\":2,\"right_units\":\"screen\",\"top_units\":\"screen\"},\"id\":\"8414\",\"type\":\"BoxAnnotation\"},{\"attributes\":{\"children\":[{\"id\":\"8537\"},{\"id\":\"8538\"}],\"margin\":[0,0,0,0],\"name\":\"Column20081\"},\"id\":\"8536\",\"type\":\"Column\"},{\"attributes\":{},\"id\":\"8397\",\"type\":\"LinearScale\"},{\"attributes\":{},\"id\":\"8480\",\"type\":\"BasicTicker\"},{\"attributes\":{\"children\":[{\"id\":\"8535\"},{\"id\":\"8536\"}],\"margin\":[0,0,0,0],\"name\":\"Column20086\"},\"id\":\"8534\",\"type\":\"Column\"},{\"attributes\":{\"child\":{\"id\":\"8377\"},\"name\":\"Column20077\",\"title\":\"Pricing Analysis\"},\"id\":\"8533\",\"type\":\"Panel\"},{\"attributes\":{\"align\":null,\"below\":[{\"id\":\"8401\"}],\"center\":[{\"id\":\"8404\"},{\"id\":\"8408\"}],\"left\":[{\"id\":\"8405\"}],\"margin\":null,\"min_border_bottom\":10,\"min_border_left\":10,\"min_border_right\":10,\"min_border_top\":10,\"plot_height\":300,\"plot_width\":500,\"renderers\":[{\"id\":\"8428\"}],\"sizing_mode\":\"fixed\",\"title\":{\"id\":\"8393\"},\"toolbar\":{\"id\":\"8415\"},\"x_range\":{\"id\":\"8389\"},\"x_scale\":{\"id\":\"8397\"},\"y_range\":{\"id\":\"8390\"},\"y_scale\":{\"id\":\"8399\"}},\"id\":\"8392\",\"subtype\":\"Figure\",\"type\":\"Plot\"},{\"attributes\":{\"axis\":{\"id\":\"8479\"},\"dimension\":1,\"grid_line_color\":null,\"ticker\":null},\"id\":\"8482\",\"type\":\"Grid\"},{\"attributes\":{\"children\":[{\"id\":\"8463\"}],\"margin\":[0,0,0,0],\"name\":\"Row20075\"},\"id\":\"8462\",\"type\":\"Row\"},{\"attributes\":{\"data\":{\"customdata\":[{\"__ndarray__\":\"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\",\"dtype\":\"float64\",\"order\":\"little\",\"shape\":[140,8]}],\"hovertext\":[[\"Agincourt North\",\"Agincourt South-Malvern West\",\"Alderwood\",\"Annex\",\"Banbury-Don Mills\",\"Bathurst Manor\",\"Bay Street Corridor\",\"Bayview Village\",\"Bayview Woods-Steeles\",\"Bedford Park-Nortown\",\"Beechborough-Greenbrook\",\"Bendale\",\"Birchcliffe-Cliffside\",\"Black Creek\",\"Blake-Jones\",\"Briar Hill-Belgravia\",\"Bridle Path-Sunnybrook-York Mills\",\"Broadview North\",\"Brookhaven-Amesbury\",\"Cabbagetown-South St.James Town\",\"Caledonia-Fairbank\",\"Casa Loma\",\"Centennial Scarborough\",\"Church-Yonge Corridor\",\"Clairlea-Birchmount\",\"Clanton Park\",\"Cliffcrest\",\"Corso Italia-Davenport\",\"Danforth\",\"Danforth-East York\",\"Don Valley Village\",\"Dorset Park\",\"Dovercourt-Wallace Emerson-Juncti\",\"Downsview-Roding-CFB\",\"Dufferin Grove\",\"East End-Danforth\",\"Edenbridge-Humber Valley\",\"Eglinton East\",\"Elms-Old Rexdale\",\"Englemount-Lawrence\",\"Eringate-Centennial-West Deane\",\"Etobicoke West Mall\",\"Flemingdon Park\",\"Forest Hill North\",\"Forest Hill South\",\"Glenfield-Jane Heights\",\"Greenwood-Coxwell\",\"Guildwood\",\"Henry Farm\",\"High Park North\",\"High Park-Swansea\",\"Highland Creek\",\"Hillcrest Village\",\"Humber Heights-Westmount\",\"Humber Summit\",\"Humbermede\",\"Humewood-Cedarvale\",\"Ionview\",\"Islington-City Centre West\",\"Junction Area\",\"Keelesdale-Eglinton West\",\"Kennedy Park\",\"Kensington-Chinatown\",\"Kingsview Village-The Westway\",\"Kingsway South\",\"L'Amoreaux\",\"Lambton Baby Point\",\"Lansing-Westgate\",\"Lawrence Park North\",\"Lawrence Park South\",\"Leaside-Bennington\",\"Little Portugal\",\"Long Branch\",\"Malvern\",\"Maple Leaf\",\"Markland Wood\",\"Milliken\",\"Mimico\",\"Morningside\",\"Moss Park\",\"Mount Dennis\",\"Mount Olive-Silverstone-Jamestown\",\"Mount Pleasant East\",\"Mount Pleasant West\",\"New Toronto\",\"Newtonbrook East\",\"Newtonbrook West\",\"Niagara\",\"North Riverdale\",\"North St.James Town\",\"O'Connor-Parkview\",\"Oakridge\",\"Oakwood Village\",\"Old East York\",\"Palmerston-Little Italy\",\"Parkwoods-Donalda\",\"Pelmo Park-Humberlea\",\"Playter Estates-Danforth\",\"Pleasant View\",\"Princess-Rosethorn\",\"Regent Park\",\"Rexdale-Kipling\",\"Rockcliffe-Smythe\",\"Roncesvalles\",\"Rosedale-Moore Park\",\"Rouge\",\"Runnymede-Bloor West Village\",\"Rustic\",\"Scarborough Village\",\"South Parkdale\",\"South Riverdale\",\"St.Andrew-Windfields\",\"Steeles\",\"Stonegate-Queensway\",\"Tam O'Shanter-Sullivan\",\"Taylor-Massey\",\"The Beaches\",\"Thistletown-Beaumond Heights\",\"Thorncliffe Park\",\"Trinity-Bellwoods\",\"University\",\"Victoria Village\",\"Waterfront Communities-The Island\",\"West Hill\",\"West Humber-Clairville\",\"Westminster-Branson\",\"Weston\",\"Weston-Pellam Park\",\"Wexford/Maryvale\",\"Willowdale East\",\"Willowdale West\",\"Willowridge-Martingrove-Richview\",\"Woburn\",\"Woodbine Corridor\",\"Woodbine-Lumsden\",\"Wychwood\",\"Yonge-Eglinton\",\"Yonge-St.Clair\",\"York University Heights\",\"Yorkdale-Glen Park\"]],\"lat\":[{\"__ndarray__\":\"U/xKrRjnRUArfwi78uRFQGLShJJuzUVAiKL+gvbVRUAuVWmLa95FQG3/DGfl4UVA2X/4VCnURUAcpxHIX+NFQFWFipr95UVAhKk9V6HdRUCIzGRRu9hFQBE36a5T4UVAOpzQVuvYRUC/Y3js5+FFQGUFO9WM1kVAdJqBoXnZRUCGn6zWkd1FQBmI6Wsr2EVAHqN+D8XZRUCgzBZ7ddVFQINmfAQj2EVAvhr77UbXRUBYVMTpJORFQJdFtF9v1EVALWO//lbbRUD+lzEm+d5FQDjN0LJN3EVAIh27l73WRUD5o4cljtdFQMEXiX1A2EVASdu290LkRUCm6w3nL+FFQJ0G0uY01UVAGNQShtzdRUBnHFUT5dNFQFCwewKT10VAC2bplt/VRUBFsLuK1t5FQGYM97pa3EVAvL8PQTTcRUC/NajkOdRFQNNidGmR0kVA4j0HlqPbRUAFvA7NI9pFQPu2WDjm2EVAPX0E/nDfRUAjKwEpGNZFQOrKyqPZ30VAqebm2bTiRUA9uUMWK9RFQDl05XmR0kVActOPGzjlRUDPdyJOyOZFQPibmhWb2EVA7URJSCThRUD3o9GyKN9FQCSyUc5+2EVA0svFayDeRUB4u7lTFdFFQNK9d2l91UVANs/w6sXXRUCyaYQC39xFQARCZ6mn00VABCaqlnjZRUAWD7WOptNFQGHg2gXa5UVAgQrDVybURUB9yAD1i+BFQJAhlZxy3UVAf+fNl83bRUBIcQoCFtpFQN8qFXXi0kVABfoCgtLLRUDFFJtF3uZFQL4VR+2X20VAR3Nk5RfRRUDWllNlDOlFQFfD0ZfWzkVAZDE9oyXkRUDqkvXECNRFQCu+BBsV2EVAvbczXZnfRUATVY2YONpFQK+mgO4q2kVA26xVFuDMRUDu1HULUeVFQEJCUhOW5EVAVMtSwn7RRUAKKeTvA9ZFQAJLSzi21UVAY6w+cHjaRUBCKGurRNlFQAytkOoi2EVAxI7vIDDZRUCOtoVCX9RFQIiEzu+k4EVAhrO2hNfbRUDo3MxsANdFQNDffNG75EVAlz1kJUHVRUBidVifetRFQOLwWQmj3EVAmjORiF/WRUAzn3sotNJFQAHy66hm10VAJ5F1Hx3pRUAVlrLrYtRFQLn39AEW20VAL+rmJIzeRUCz469ef9FFQFGgkQAc00VADsvRqczgRUAW7PEID+hFQLsueKhY0UVAEzGAS9vjRUAjamCz9dhFQPyDUPfk1UVAHZ9eY3beRUAkXK+Gl9pFQDCRHPo400VA2TLPAM3URUCSMtIgP91FQGvj2/0i0UVAalnvHj3iRUCiBKLMq9tFQNbLziaw40VA6Y96mfLZRUDRRVxjRNZFQJX/PTbR30VAO3ZIGKPiRUDqcHwGt+JFQDujlK2B10VA4alPiyTiRUD1G7t+oNZFQNkdWn3Y2EVAUldnSqXWRUCS/uJCM9pFQO50a8IL2EVAsfM+pwPiRUC7XVBbettFQA==\",\"dtype\":\"float64\",\"order\":\"little\",\"shape\":[140]}],\"lon\":[{\"__ndarray__\":\"GObrzxHRU8Chm6LI/9BTwGXg48Cp4lPArp1qJdvZU8AVu4XHYdZTwNBX+wEw3VPA04cuqK/YU8AYHsGuIthTwLud2J502FPAoEhBAeXaU8D8cXetr95TwDbIZj950FPAkB3pRvfQU8CnJfMbaOFTwLWAt92X1VPA3twEhPvcU8C8WlH3P9hTwFK8RqLC1lPASb/55BPfU8AP46BKbtdTwAYW2TEi3VPAPJPsxxzaU8Aw3odqp8lTwHBxO9FB2FPAlLK5KALSU8AbTrI4kNxTwAUZnuoSz1PACZRmVqPcU8BO4t7CG9VTwJG4hbY11VPAbzH9GqLWU8BDObCg2dFTwMIdAw0R3FPAlEH/TmTfU8Dq/0Vl/dtTwCRbRLEo01PAcy+s8m/hU8DAcNfgt89TwAYea4gi41PAaU9ugP7bU8DPusoDJuVTwOWkKH5p5FPA9ZJSEkrVU8AxjZGyZttTwFG2Di+E2lPA7kGlndzgU8DTWV6gwdRTwDtKb8l7zFPAxW0b49bVU8AMjQ7l191TwNjmUp7x3VPAyKV9tVvLU8BcH9YbtdZTwKN5W0Rv4VPAU8rvXZjjU8DYtJQktuJTwMxS/Clf21PANesQKHDRU8BCq7yyxeJTwI3rIRIs3lPAh2SOBizeU8BBGiUaqtBTwBZR0WBs2VPANshFMRDjU8AqhlBKreBTwEy/yPQZ1FPAS0KeNL/fU8DWnA8RL9tTwHgfDcja2VPAlLW4jPzZU8BLEa66bddTwEWLQ2iK21PAG070VCLiU8DabVm2Pc5TwCRMSb3E3lPAp28+GrPkU8CIYAO/mdFTwDQVHD0C4FPAZf6wKUDNU8Am8WbLgddTwLNDHdL/31PASP7cp5XlU8CeLBCYothTwG+0iM0s2VPAI3P6tKngU8Av/hHh+tlTwGwP92ic21PAAo2IGGXaU8AXVfEMe9ZTwEtCOwoE2FPAZUMvivvTU8D7Lc+95tFTwMN2/3El3FPA4JgrpHjVU8B/7Wg1x9pTwGANSKkh1VPAxgMlYM/hU8A6FC55ttZTwJQsistv1VPAHFI1D9riU8CsN4uTEtdTwAfBFRY95FPAUM6rlaTfU8D/RwH9WdxTwK8S4oBM2FPAueQTDe3LU8D7H8PXFd9TwEOEC7vg31PApRAKQuDNU8C472ocHtxTwJeQrE971VPAWGHIJELYU8CKzNinjtRTwGVDDnwS4FPA+jIoBWPTU8D8T0AL8NJTwLNV7qos01PAV5+jPBDkU8CBxachZtZTwGZ2SPeU2lPAUYTU7azZU8DXjZDkJtRTwD5bKBUk2FPAk7X6qE7LU8COYD60KuZTwLZ9l2v03FPA04MnmQHhU8CGaN+idN1TwIlij9wc01PAJfsQ6bHZU8CVCWQbXdtTwE4gkVt441PAyJ41JqHOU8AXgW+iL9RTwLVDcBrq01PAYY0OozvbU8DGSN1r1NlTwMxL9rZ22VPADfug20nfU8DQ2DRCQd1TwA==\",\"dtype\":\"float64\",\"order\":\"little\",\"shape\":[140]}],\"marker.color\":[{\"__ndarray__\":\"AAAAAE4hFEEAAAAAtGUUQQAAAABKHhpBAAAAAMLLJkEAAAAAjq0iQQAAAAAjnR5BAAAAAJbbGUEAAACA9XQgQQAAAABLQSFBAAAAgN5kLEEAAAAAv6MWQQAAAAANYRJBAAAAAAyxGkEAAAAATtcPQQAAAAA0Nx9BAAAAAFJPFkEAAADA1Uo3QQAAAAC1DxtBAAAAAHxrFUEAAAAAeigeQQAAAADJExZBAAAAgJDwLUEAAAAAGwQZQQAAAACWyRhBAAAAAO2jFUEAAACAEtUgQQAAAAA4ehlBAAAAAGqhGUEAAAAA/H8cQQAAAAC9vBlBAAAAAOlKGEEAAAAAgvsPQQAAAAAuiBpBAAAAAJ5HF0EAAAAA0+0bQQAAAACZLR1BAAAAAAVMKEEAAAAAmmoQQQAAAADVYBBBAAAAgNFcIUEAAAAAV0cYQQAAAACQ4hJBAAAAALhdCUEAAAAAwf0pQQAAAIDYPzJBAAAAALf+E0EAAAAAvp8XQQAAAAB2ixZBAAAAAJiUFkEAAAAAIkAgQQAAAICDyiFBAAAAAJosGkEAAAAAPBwYQQAAAAD6aRtBAAAAAEp9FUEAAAAAn4QTQQAAAAD7RSVBAAAAABePEUEAAAAAlZEbQQAAAADVcRpBAAAAAFuzE0EAAAAABogRQQAAAACX4hpBAAAAAKOmFEEAAACAxLspQQAAAICH2CNBAAAAAKeLFEEAAAAAwbYiQQAAAADBLCdBAAAAwIuxMEEAAACAj5woQQAAAABBfCBBAAAAAJmMF0EAAAAAglsPQQAAAAC0qRtBAAAAABsZG0EAAAAAcQ4VQQAAAABKBBhBAAAAAFZlEUEAAAAAwP0YQQAAAACTAhBBAAAAAPLnDkEAAACA9KskQQAAAABXkxxBAAAAABDkGEEAAACAqhMhQQAAAABiHBxBAAAAACSVFkEAAACArnQlQQAAAAD/HBlBAAAAAC81EkEAAAAAxsUZQQAAAADL7RpBAAAAAFYQG0EAAACA3/wiQQAAAADyvxtBAAAAAN2+GEEAAACANs0jQQAAAAD9yRZBAAAAAGVeJ0EAAAAACfYXQQAAAACdCBZBAAAAAPEYFUEAAAAAJRAfQQAAAAAIsDBBAAAAAHv3FkEAAAAAJNkgQQAAAADKTxpBAAAAAK8hFEEAAAAA2k8bQQAAAACyxRtBAAAAAIZ9LkEAAAAAOvMWQQAAAIBAzCBBAAAAABqaFUEAAAAAsDkNQQAAAACEVSRBAAAAAODwFkEAAAAABikPQQAAAICDTyBBAAAAgJneIkEAAAAAFH4VQQAAAAB8ABdBAAAAAJ5fEUEAAAAAWfMUQQAAAAAhUhVBAAAAAJ/MEkEAAAAA6HgVQQAAAAB9QhVBAAAAANagHEEAAAAAW3McQQAAAABYVhxBAAAAACc4EkEAAAAAGy8bQQAAAAD6kxZBAAAAALFFIUEAAACAI7YoQQAAAIBI0ShBAAAAAK6rEkEAAAAANUwaQQ==\",\"dtype\":\"float64\",\"order\":\"little\",\"shape\":[140]}],\"marker.size\":[{\"__ndarray__\":\"AAAAAE4hFEEAAAAAtGUUQQAAAABKHhpBAAAAAMLLJkEAAAAAjq0iQQAAAAAjnR5BAAAAAJbbGUEAAACA9XQgQQAAAABLQSFBAAAAgN5kLEEAAAAAv6MWQQAAAAANYRJBAAAAAAyxGkEAAAAATtcPQQAAAAA0Nx9BAAAAAFJPFkEAAADA1Uo3QQAAAAC1DxtBAAAAAHxrFUEAAAAAeigeQQAAAADJExZBAAAAgJDwLUEAAAAAGwQZQQAAAACWyRhBAAAAAO2jFUEAAACAEtUgQQAAAAA4ehlBAAAAAGqhGUEAAAAA/H8cQQAAAAC9vBlBAAAAAOlKGEEAAAAAgvsPQQAAAAAuiBpBAAAAAJ5HF0EAAAAA0+0bQQAAAACZLR1BAAAAAAVMKEEAAAAAmmoQQQAAAADVYBBBAAAAgNFcIUEAAAAAV0cYQQAAAACQ4hJBAAAAALhdCUEAAAAAwf0pQQAAAIDYPzJBAAAAALf+E0EAAAAAvp8XQQAAAAB2ixZBAAAAAJiUFkEAAAAAIkAgQQAAAICDyiFBAAAAAJosGkEAAAAAPBwYQQAAAAD6aRtBAAAAAEp9FUEAAAAAn4QTQQAAAAD7RSVBAAAAABePEUEAAAAAlZEbQQAAAADVcRpBAAAAAFuzE0EAAAAABogRQQAAAACX4hpBAAAAAKOmFEEAAACAxLspQQAAAICH2CNBAAAAAKeLFEEAAAAAwbYiQQAAAADBLCdBAAAAwIuxMEEAAACAj5woQQAAAABBfCBBAAAAAJmMF0EAAAAAglsPQQAAAAC0qRtBAAAAABsZG0EAAAAAcQ4VQQAAAABKBBhBAAAAAFZlEUEAAAAAwP0YQQAAAACTAhBBAAAAAPLnDkEAAACA9KskQQAAAABXkxxBAAAAABDkGEEAAACAqhMhQQAAAABiHBxBAAAAACSVFkEAAACArnQlQQAAAAD/HBlBAAAAAC81EkEAAAAAxsUZQQAAAADL7RpBAAAAAFYQG0EAAACA3/wiQQAAAADyvxtBAAAAAN2+GEEAAACANs0jQQAAAAD9yRZBAAAAAGVeJ0EAAAAACfYXQQAAAACdCBZBAAAAAPEYFUEAAAAAJRAfQQAAAAAIsDBBAAAAAHv3FkEAAAAAJNkgQQAAAADKTxpBAAAAAK8hFEEAAAAA2k8bQQAAAACyxRtBAAAAAIZ9LkEAAAAAOvMWQQAAAIBAzCBBAAAAABqaFUEAAAAAsDkNQQAAAACEVSRBAAAAAODwFkEAAAAABikPQQAAAICDTyBBAAAAgJneIkEAAAAAFH4VQQAAAAB8ABdBAAAAAJ5fEUEAAAAAWfMUQQAAAAAhUhVBAAAAAJ/MEkEAAAAA6HgVQQAAAAB9QhVBAAAAANagHEEAAAAAW3McQQAAAABYVhxBAAAAACc4EkEAAAAAGy8bQQAAAAD6kxZBAAAAALFFIUEAAACAI7YoQQAAAIBI0ShBAAAAAK6rEkEAAAAANUwaQQ==\",\"dtype\":\"float64\",\"order\":\"little\",\"shape\":[140]}]},\"selected\":{\"id\":\"8618\"},\"selection_policy\":{\"id\":\"8619\"}},\"id\":\"8363\",\"type\":\"ColumnDataSource\"},{\"attributes\":{\"fill_alpha\":{\"value\":0.1},\"fill_color\":{\"field\":\"Variable\",\"transform\":{\"id\":\"8496\"}},\"line_alpha\":{\"value\":0.1},\"top\":{\"field\":\"value\"},\"width\":{\"value\":0.8},\"x\":{\"field\":\"xoffsets\"}},\"id\":\"8501\",\"type\":\"VBar\"},{\"attributes\":{\"_render_count\":0,\"config\":null,\"data\":[{\"branchvalues\":\"total\",\"domain\":{\"x\":[0.0,1.0],\"y\":[0.0,1.0]},\"hovertemplate\":\"labels=%{label}<br>average_house_value=%{value}<br>parent=%{parent}<br>id=%{id}<br>shelter_costs_owned=%{color}<br>shelter_costs_rented=%{customdata[1]}<extra></extra>\",\"marker\":{\"coloraxis\":\"coloraxis\"},\"name\":\"\",\"type\":\"sunburst\"}],\"data_sources\":[{\"id\":\"8614\"}],\"layout\":{\"coloraxis\":{\"colorbar\":{\"title\":{\"text\":\"shelter_costs_owned\"}},\"colorscale\":[[0.0,\"#0d0887\"],[0.1111111111111111,\"#46039f\"],[0.2222222222222222,\"#7201a8\"],[0.3333333333333333,\"#9c179e\"],[0.4444444444444444,\"#bd3786\"],[0.5555555555555556,\"#d8576b\"],[0.6666666666666666,\"#ed7953\"],[0.7777777777777778,\"#fb9f3a\"],[0.8888888888888888,\"#fdca26\"],[1.0,\"#f0f921\"]]},\"legend\":{\"tracegroupgap\":0},\"margin\":{\"t\":60},\"template\":{\"data\":{\"bar\":[{\"error_x\":{\"color\":\"#2a3f5f\"},\"error_y\":{\"color\":\"#2a3f5f\"},\"marker\":{\"line\":{\"color\":\"#E5ECF6\",\"width\":0.5}},\"type\":\"bar\"}],\"barpolar\":[{\"marker\":{\"line\":{\"color\":\"#E5ECF6\",\"width\":0.5}},\"type\":\"barpolar\"}],\"carpet\":[{\"aaxis\":{\"endlinecolor\":\"#2a3f5f\",\"gridcolor\":\"white\",\"linecolor\":\"white\",\"minorgridcolor\":\"white\",\"startlinecolor\":\"#2a3f5f\"},\"baxis\":{\"endlinecolor\":\"#2a3f5f\",\"gridcolor\":\"white\",\"linecolor\":\"white\",\"minorgridcolor\":\"white\",\"startlinecolor\":\"#2a3f5f\"},\"type\":\"carpet\"}],\"choropleth\":[{\"colorbar\":{\"outlinewidth\":0,\"ticks\":\"\"},\"type\":\"choropleth\"}],\"contour\":[{\"colorbar\":{\"outlinewidth\":0,\"ticks\":\"\"},\"colorscale\":[[0.0,\"#0d0887\"],[0.1111111111111111,\"#46039f\"],[0.2222222222222222,\"#7201a8\"],[0.3333333333333333,\"#9c179e\"],[0.4444444444444444,\"#bd3786\"],[0.5555555555555556,\"#d8576b\"],[0.6666666666666666,\"#ed7953\"],[0.7777777777777778,\"#fb9f3a\"],[0.8888888888888888,\"#fdca26\"],[1.0,\"#f0f921\"]],\"type\":\"contour\"}],\"contourcarpet\":[{\"colorbar\":{\"outlinewidth\":0,\"ticks\":\"\"},\"type\":\"contourcarpet\"}],\"heatmap\":[{\"colorbar\":{\"outlinewidth\":0,\"ticks\":\"\"},\"colorscale\":[[0.0,\"#0d0887\"],[0.1111111111111111,\"#46039f\"],[0.2222222222222222,\"#7201a8\"],[0.3333333333333333,\"#9c179e\"],[0.4444444444444444,\"#bd3786\"],[0.5555555555555556,\"#d8576b\"],[0.6666666666666666,\"#ed7953\"],[0.7777777777777778,\"#fb9f3a\"],[0.8888888888888888,\"#fdca26\"],[1.0,\"#f0f921\"]],\"type\":\"heatmap\"}],\"heatmapgl\":[{\"colorbar\":{\"outlinewidth\":0,\"ticks\":\"\"},\"colorscale\":[[0.0,\"#0d0887\"],[0.1111111111111111,\"#46039f\"],[0.2222222222222222,\"#7201a8\"],[0.3333333333333333,\"#9c179e\"],[0.4444444444444444,\"#bd3786\"],[0.5555555555555556,\"#d8576b\"],[0.6666666666666666,\"#ed7953\"],[0.7777777777777778,\"#fb9f3a\"],[0.8888888888888888,\"#fdca26\"],[1.0,\"#f0f921\"]],\"type\":\"heatmapgl\"}],\"histogram\":[{\"marker\":{\"colorbar\":{\"outlinewidth\":0,\"ticks\":\"\"}},\"type\":\"histogram\"}],\"histogram2d\":[{\"colorbar\":{\"outlinewidth\":0,\"ticks\":\"\"},\"colorscale\":[[0.0,\"#0d0887\"],[0.1111111111111111,\"#46039f\"],[0.2222222222222222,\"#7201a8\"],[0.3333333333333333,\"#9c179e\"],[0.4444444444444444,\"#bd3786\"],[0.5555555555555556,\"#d8576b\"],[0.6666666666666666,\"#ed7953\"],[0.7777777777777778,\"#fb9f3a\"],[0.8888888888888888,\"#fdca26\"],[1.0,\"#f0f921\"]],\"type\":\"histogram2d\"}],\"histogram2dcontour\":[{\"colorbar\":{\"outlinewidth\":0,\"ticks\":\"\"},\"colorscale\":[[0.0,\"#0d0887\"],[0.1111111111111111,\"#46039f\"],[0.2222222222222222,\"#7201a8\"],[0.3333333333333333,\"#9c179e\"],[0.4444444444444444,\"#bd3786\"],[0.5555555555555556,\"#d8576b\"],[0.6666666666666666,\"#ed7953\"],[0.7777777777777778,\"#fb9f3a\"],[0.8888888888888888,\"#fdca26\"],[1.0,\"#f0f921\"]],\"type\":\"histogram2dcontour\"}],\"mesh3d\":[{\"colorbar\":{\"outlinewidth\":0,\"ticks\":\"\"},\"type\":\"mesh3d\"}],\"parcoords\":[{\"line\":{\"colorbar\":{\"outlinewidth\":0,\"ticks\":\"\"}},\"type\":\"parcoords\"}],\"pie\":[{\"automargin\":true,\"type\":\"pie\"}],\"scatter\":[{\"marker\":{\"colorbar\":{\"outlinewidth\":0,\"ticks\":\"\"}},\"type\":\"scatter\"}],\"scatter3d\":[{\"line\":{\"colorbar\":{\"outlinewidth\":0,\"ticks\":\"\"}},\"marker\":{\"colorbar\":{\"outlinewidth\":0,\"ticks\":\"\"}},\"type\":\"scatter3d\"}],\"scattercarpet\":[{\"marker\":{\"colorbar\":{\"outlinewidth\":0,\"ticks\":\"\"}},\"type\":\"scattercarpet\"}],\"scattergeo\":[{\"marker\":{\"colorbar\":{\"outlinewidth\":0,\"ticks\":\"\"}},\"type\":\"scattergeo\"}],\"scattergl\":[{\"marker\":{\"colorbar\":{\"outlinewidth\":0,\"ticks\":\"\"}},\"type\":\"scattergl\"}],\"scattermapbox\":[{\"marker\":{\"colorbar\":{\"outlinewidth\":0,\"ticks\":\"\"}},\"type\":\"scattermapbox\"}],\"scatterpolar\":[{\"marker\":{\"colorbar\":{\"outlinewidth\":0,\"ticks\":\"\"}},\"type\":\"scatterpolar\"}],\"scatterpolargl\":[{\"marker\":{\"colorbar\":{\"outlinewidth\":0,\"ticks\":\"\"}},\"type\":\"scatterpolargl\"}],\"scatterternary\":[{\"marker\":{\"colorbar\":{\"outlinewidth\":0,\"ticks\":\"\"}},\"type\":\"scatterternary\"}],\"surface\":[{\"colorbar\":{\"outlinewidth\":0,\"ticks\":\"\"},\"colorscale\":[[0.0,\"#0d0887\"],[0.1111111111111111,\"#46039f\"],[0.2222222222222222,\"#7201a8\"],[0.3333333333333333,\"#9c179e\"],[0.4444444444444444,\"#bd3786\"],[0.5555555555555556,\"#d8576b\"],[0.6666666666666666,\"#ed7953\"],[0.7777777777777778,\"#fb9f3a\"],[0.8888888888888888,\"#fdca26\"],[1.0,\"#f0f921\"]],\"type\":\"surface\"}],\"table\":[{\"cells\":{\"fill\":{\"color\":\"#EBF0F8\"},\"line\":{\"color\":\"white\"}},\"header\":{\"fill\":{\"color\":\"#C8D4E3\"},\"line\":{\"color\":\"white\"}},\"type\":\"table\"}]},\"layout\":{\"annotationdefaults\":{\"arrowcolor\":\"#2a3f5f\",\"arrowhead\":0,\"arrowwidth\":1},\"coloraxis\":{\"colorbar\":{\"outlinewidth\":0,\"ticks\":\"\"}},\"colorscale\":{\"diverging\":[[0,\"#8e0152\"],[0.1,\"#c51b7d\"],[0.2,\"#de77ae\"],[0.3,\"#f1b6da\"],[0.4,\"#fde0ef\"],[0.5,\"#f7f7f7\"],[0.6,\"#e6f5d0\"],[0.7,\"#b8e186\"],[0.8,\"#7fbc41\"],[0.9,\"#4d9221\"],[1,\"#276419\"]],\"sequential\":[[0.0,\"#0d0887\"],[0.1111111111111111,\"#46039f\"],[0.2222222222222222,\"#7201a8\"],[0.3333333333333333,\"#9c179e\"],[0.4444444444444444,\"#bd3786\"],[0.5555555555555556,\"#d8576b\"],[0.6666666666666666,\"#ed7953\"],[0.7777777777777778,\"#fb9f3a\"],[0.8888888888888888,\"#fdca26\"],[1.0,\"#f0f921\"]],\"sequentialminus\":[[0.0,\"#0d0887\"],[0.1111111111111111,\"#46039f\"],[0.2222222222222222,\"#7201a8\"],[0.3333333333333333,\"#9c179e\"],[0.4444444444444444,\"#bd3786\"],[0.5555555555555556,\"#d8576b\"],[0.6666666666666666,\"#ed7953\"],[0.7777777777777778,\"#fb9f3a\"],[0.8888888888888888,\"#fdca26\"],[1.0,\"#f0f921\"]]},\"colorway\":[\"#636efa\",\"#EF553B\",\"#00cc96\",\"#ab63fa\",\"#FFA15A\",\"#19d3f3\",\"#FF6692\",\"#B6E880\",\"#FF97FF\",\"#FECB52\"],\"font\":{\"color\":\"#2a3f5f\"},\"geo\":{\"bgcolor\":\"white\",\"lakecolor\":\"white\",\"landcolor\":\"#E5ECF6\",\"showlakes\":true,\"showland\":true,\"subunitcolor\":\"white\"},\"hoverlabel\":{\"align\":\"left\"},\"hovermode\":\"closest\",\"mapbox\":{\"style\":\"light\"},\"paper_bgcolor\":\"white\",\"plot_bgcolor\":\"#E5ECF6\",\"polar\":{\"angularaxis\":{\"gridcolor\":\"white\",\"linecolor\":\"white\",\"ticks\":\"\"},\"bgcolor\":\"#E5ECF6\",\"radialaxis\":{\"gridcolor\":\"white\",\"linecolor\":\"white\",\"ticks\":\"\"}},\"scene\":{\"xaxis\":{\"backgroundcolor\":\"#E5ECF6\",\"gridcolor\":\"white\",\"gridwidth\":2,\"linecolor\":\"white\",\"showbackground\":true,\"ticks\":\"\",\"zerolinecolor\":\"white\"},\"yaxis\":{\"backgroundcolor\":\"#E5ECF6\",\"gridcolor\":\"white\",\"gridwidth\":2,\"linecolor\":\"white\",\"showbackground\":true,\"ticks\":\"\",\"zerolinecolor\":\"white\"},\"zaxis\":{\"backgroundcolor\":\"#E5ECF6\",\"gridcolor\":\"white\",\"gridwidth\":2,\"linecolor\":\"white\",\"showbackground\":true,\"ticks\":\"\",\"zerolinecolor\":\"white\"}},\"shapedefaults\":{\"line\":{\"color\":\"#2a3f5f\"}},\"ternary\":{\"aaxis\":{\"gridcolor\":\"white\",\"linecolor\":\"white\",\"ticks\":\"\"},\"baxis\":{\"gridcolor\":\"white\",\"linecolor\":\"white\",\"ticks\":\"\"},\"bgcolor\":\"#E5ECF6\",\"caxis\":{\"gridcolor\":\"white\",\"linecolor\":\"white\",\"ticks\":\"\"}},\"title\":{\"x\":0.05},\"xaxis\":{\"automargin\":true,\"gridcolor\":\"white\",\"linecolor\":\"white\",\"ticks\":\"\",\"title\":{\"standoff\":15},\"zerolinecolor\":\"white\",\"zerolinewidth\":2},\"yaxis\":{\"automargin\":true,\"gridcolor\":\"white\",\"linecolor\":\"white\",\"ticks\":\"\",\"title\":{\"standoff\":15},\"zerolinecolor\":\"white\",\"zerolinewidth\":2}}}},\"margin\":[5,5,5,5],\"name\":\"interactive20225\",\"viewport_update_throttle\":200},\"id\":\"8615\",\"type\":\"panel.models.plotly.PlotlyPlot\"},{\"attributes\":{\"children\":[{\"id\":\"8467\"},{\"id\":\"8529\"}],\"margin\":[0,0,0,0],\"name\":\"interactive20035\"},\"id\":\"8463\",\"type\":\"Row\"},{\"attributes\":{},\"id\":\"8583\",\"type\":\"Selection\"},{\"attributes\":{},\"id\":\"8423\",\"type\":\"Selection\"},{\"attributes\":{\"margin\":[0,0,0,0],\"name\":\"Column20085\"},\"id\":\"8537\",\"type\":\"Column\"},{\"attributes\":{\"data\":{\"customdata\":[[[933.0,1491,933.0],[1808.0,1020,1808.0],[1988.0,1124,1988.0],[2418.0,1385,2418.0],[1983.0,1790,1983.0],[2170.0,2167,2170.0],[2387.0,2388,2387.0],[2903.0,2942,2903.0],[1241.0,1500,1241.0],[1819.0,1356,1819.0],[2001.0,1494,2001.0],[2434.0,1841,2434.0],[940.0,1428,940.0],[1731.0,1027,1731.0],[1904.0,1132,1904.0],[2316.0,1395,2316.0],[1001.0,1469,1001.0],[1781.0,1094,1781.0],[1959.0,1206,1959.0],[2383.0,1486,2383.0],[1362.0,1340,1362.0],[1625.0,1488,1625.0],[1787.0,1640,1787.0],[2173.0,2020,2173.0],[1021.0,1630,1021.0],[1977.0,1116,1977.0],[2174.0,1230,2174.0],[2644.0,1515,2644.0],[1219.0,1540,1219.0],[1868.0,1332,1868.0],[2054.0,1468,2054.0],[2498.0,1809,2498.0],[1055.0,1551,1055.0],[1881.0,1152,1881.0],[2069.0,1270,2069.0],[2516.0,1565,2516.0],[1091.0,1351,1091.0],[1638.0,1192,1638.0],[1802.0,1314,1802.0],[2192.0,1619,2192.0],[1224.7502831983431,\"(?)\",1224.7502831983431],[1856.058787788345,\"(?)\",1856.058787788345],[2041.3886794989783,\"(?)\",2041.3886794989783],[2482.826591451349,\"(?)\",2482.826591451349]]],\"ids\":[[\"2001/Bedford Park-Nortown\",\"2006/Bedford Park-Nortown\",\"2011/Bedford Park-Nortown\",\"2016/Bedford Park-Nortown\",\"2001/Bridle Path-Sunnybrook-York Mills\",\"2006/Bridle Path-Sunnybrook-York Mills\",\"2011/Bridle Path-Sunnybrook-York Mills\",\"2016/Bridle Path-Sunnybrook-York Mills\",\"2001/Casa Loma\",\"2006/Casa Loma\",\"2011/Casa Loma\",\"2016/Casa Loma\",\"2001/Forest Hill North\",\"2006/Forest Hill North\",\"2011/Forest Hill North\",\"2016/Forest Hill North\",\"2001/Forest Hill South\",\"2006/Forest Hill South\",\"2011/Forest Hill South\",\"2016/Forest Hill South\",\"2001/Kingsway South\",\"2006/Kingsway South\",\"2011/Kingsway South\",\"2016/Kingsway South\",\"2001/Lawrence Park South\",\"2006/Lawrence Park South\",\"2011/Lawrence Park South\",\"2016/Lawrence Park South\",\"2001/Rosedale-Moore Park\",\"2006/Rosedale-Moore Park\",\"2011/Rosedale-Moore Park\",\"2016/Rosedale-Moore Park\",\"2001/St.Andrew-Windfields\",\"2006/St.Andrew-Windfields\",\"2011/St.Andrew-Windfields\",\"2016/St.Andrew-Windfields\",\"2001/Yonge-St.Clair\",\"2006/Yonge-St.Clair\",\"2011/Yonge-St.Clair\",\"2016/Yonge-St.Clair\",\"2001\",\"2006\",\"2011\",\"2016\"]],\"labels\":[[\"Bedford Park-Nortown\",\"Bedford Park-Nortown\",\"Bedford Park-Nortown\",\"Bedford Park-Nortown\",\"Bridle Path-Sunnybrook-York Mills\",\"Bridle Path-Sunnybrook-York Mills\",\"Bridle Path-Sunnybrook-York Mills\",\"Bridle Path-Sunnybrook-York Mills\",\"Casa Loma\",\"Casa Loma\",\"Casa Loma\",\"Casa Loma\",\"Forest Hill North\",\"Forest Hill North\",\"Forest Hill North\",\"Forest Hill North\",\"Forest Hill South\",\"Forest Hill South\",\"Forest Hill South\",\"Forest Hill South\",\"Kingsway South\",\"Kingsway South\",\"Kingsway South\",\"Kingsway South\",\"Lawrence Park South\",\"Lawrence Park South\",\"Lawrence Park South\",\"Lawrence Park South\",\"Rosedale-Moore Park\",\"Rosedale-Moore Park\",\"Rosedale-Moore Park\",\"Rosedale-Moore Park\",\"St.Andrew-Windfields\",\"St.Andrew-Windfields\",\"St.Andrew-Windfields\",\"St.Andrew-Windfields\",\"Yonge-St.Clair\",\"Yonge-St.Clair\",\"Yonge-St.Clair\",\"Yonge-St.Clair\",\"2001\",\"2006\",\"2011\",\"2016\"]],\"marker.colors\":[{\"__ndarray__\":\"AAAAAAAojUAAAAAAAECcQAAAAAAAEJ9AAAAAAADkokAAAAAAAPyeQAAAAAAA9KBAAAAAAACmokAAAAAAAK6mQAAAAAAAZJNAAAAAAABsnEAAAAAAAESfQAAAAAAABKNAAAAAAABgjUAAAAAAAAybQAAAAAAAwJ1AAAAAAAAYokAAAAAAAEiPQAAAAAAA1JtAAAAAAACcnkAAAAAAAJ6iQAAAAAAASJVAAAAAAABkmUAAAAAAAOybQAAAAAAA+qBAAAAAAADoj0AAAAAAAOSeQAAAAAAA/KBAAAAAAACopEAAAAAAAAyTQAAAAAAAMJ1AAAAAAAAMoEAAAAAAAISjQAAAAAAAfJBAAAAAAABknUAAAAAAACqgQAAAAAAAqKNAAAAAAAAMkUAAAAAAAJiZQAAAAAAAKJxAAAAAAAAgoUB9Hj1KACOTQGKx3TI8AJ1A86L/AY7ln0Blpf42p2WjQA==\",\"dtype\":\"float64\",\"order\":\"little\",\"shape\":[44]}],\"parents\":[[\"2001\",\"2006\",\"2011\",\"2016\",\"2001\",\"2006\",\"2011\",\"2016\",\"2001\",\"2006\",\"2011\",\"2016\",\"2001\",\"2006\",\"2011\",\"2016\",\"2001\",\"2006\",\"2011\",\"2016\",\"2001\",\"2006\",\"2011\",\"2016\",\"2001\",\"2006\",\"2011\",\"2016\",\"2001\",\"2006\",\"2011\",\"2016\",\"2001\",\"2006\",\"2011\",\"2016\",\"2001\",\"2006\",\"2011\",\"2016\",\"\",\"\",\"\",\"\"]],\"values\":[[565304,826963,1034387,1295007,927466,1356757,1697067,2124653,596077,871981,1090696,1365503,517466,756983,946854,1185419,726664,1063011,1329642,1664653,512334,749476,937464,1173663,664712,972384,1216283,1522732,664476,972039,1215852,1522193,607040,888017,1110755,1390616,494098,722799,904096,1131888,6275637,9180410,11483096,14376327]]},\"selected\":{\"id\":\"8632\"},\"selection_policy\":{\"id\":\"8633\"}},\"id\":\"8614\",\"type\":\"ColumnDataSource\"},{\"attributes\":{\"data_source\":{\"id\":\"8497\"},\"glyph\":{\"id\":\"8500\"},\"hover_glyph\":null,\"muted_glyph\":{\"id\":\"8502\"},\"nonselection_glyph\":{\"id\":\"8501\"},\"selection_glyph\":null,\"view\":{\"id\":\"8504\"}},\"id\":\"8503\",\"type\":\"GlyphRenderer\"},{\"attributes\":{},\"id\":\"8399\",\"type\":\"LinearScale\"},{\"attributes\":{\"child\":{\"id\":\"8534\"},\"name\":\"Column20086\",\"title\":\"House Value per Neighbourhood\"},\"id\":\"8544\",\"type\":\"Panel\"},{\"attributes\":{\"callback\":null,\"renderers\":[{\"id\":\"8588\"}],\"tags\":[\"hv_created\"],\"tooltips\":[[\"neighbourhood\",\"@{neighbourhood}\"],[\"average_house_value\",\"@{average_house_value}\"]]},\"id\":\"8552\",\"type\":\"HoverTool\"},{\"attributes\":{\"axis_label\":\"neighbourhood\",\"bounds\":\"auto\",\"formatter\":{\"id\":\"8591\"},\"major_label_orientation\":1.5707963267948966,\"ticker\":{\"id\":\"8563\"}},\"id\":\"8562\",\"type\":\"CategoricalAxis\"},{\"attributes\":{\"axis_label\":\"average_house_value\",\"bounds\":\"auto\",\"formatter\":{\"id\":\"8430\"},\"major_label_orientation\":\"horizontal\",\"ticker\":{\"id\":\"8406\"}},\"id\":\"8405\",\"type\":\"LinearAxis\"},{\"attributes\":{},\"id\":\"8483\",\"type\":\"SaveTool\"},{\"attributes\":{},\"id\":\"8570\",\"type\":\"PanTool\"},{\"attributes\":{},\"id\":\"8485\",\"type\":\"WheelZoomTool\"},{\"attributes\":{},\"id\":\"8571\",\"type\":\"WheelZoomTool\"},{\"attributes\":{},\"id\":\"8484\",\"type\":\"PanTool\"},{\"attributes\":{\"overlay\":{\"id\":\"8488\"}},\"id\":\"8486\",\"type\":\"BoxZoomTool\"},{\"attributes\":{\"children\":[{\"id\":\"8461\"},{\"id\":\"8462\"}],\"margin\":[0,0,0,0],\"name\":\"Column20036\"},\"id\":\"8460\",\"type\":\"Column\"},{\"attributes\":{\"children\":[{\"id\":\"8543\"}],\"margin\":[0,0,0,0],\"name\":\"Row20084\"},\"id\":\"8538\",\"type\":\"Row\"},{\"attributes\":{\"child\":{\"id\":\"8356\"},\"name\":\"Markdown19952\",\"title\":\"Intro\"},\"id\":\"8357\",\"type\":\"Panel\"},{\"attributes\":{},\"id\":\"8487\",\"type\":\"ResetTool\"},{\"attributes\":{},\"id\":\"8573\",\"type\":\"ResetTool\"},{\"attributes\":{\"active_drag\":\"auto\",\"active_inspect\":\"auto\",\"active_multi\":null,\"active_scroll\":\"auto\",\"active_tap\":\"auto\",\"tools\":[{\"id\":\"8391\"},{\"id\":\"8409\"},{\"id\":\"8410\"},{\"id\":\"8411\"},{\"id\":\"8412\"},{\"id\":\"8413\"}]},\"id\":\"8415\",\"type\":\"Toolbar\"},{\"attributes\":{},\"id\":\"8569\",\"type\":\"SaveTool\"},{\"attributes\":{},\"id\":\"8505\",\"type\":\"CategoricalTickFormatter\"},{\"attributes\":{\"css_classes\":[\"markdown\"],\"margin\":[5,5,5,5],\"name\":\"Markdown20078\",\"text\":\"&lt;h2&gt;Average House Price in each neighbourhood in Toronto&lt;/h2&gt;\"},\"id\":\"8535\",\"type\":\"panel.models.markup.HTML\"},{\"attributes\":{\"margin\":[5,5,5,5],\"name\":\"Str19968\",\"text\":\"&lt;pre&gt;AxesSubplot(0.125,0.125;0.775x0.755)&lt;/pre&gt;\"},\"id\":\"8371\",\"type\":\"panel.models.markup.HTML\"},{\"attributes\":{\"children\":[{\"id\":\"8531\"}],\"css_classes\":[\"panel-widget-box\"],\"margin\":[5,5,5,5],\"name\":\"WidgetBox20068\"},\"id\":\"8530\",\"type\":\"Column\"},{\"attributes\":{\"overlay\":{\"id\":\"8574\"}},\"id\":\"8572\",\"type\":\"BoxZoomTool\"},{\"attributes\":{\"margin\":[0,0,0,0],\"name\":\"Column20076\"},\"id\":\"8461\",\"type\":\"Column\"},{\"attributes\":{},\"id\":\"8563\",\"type\":\"CategoricalTicker\"},{\"attributes\":{\"css_classes\":[\"markdown\"],\"margin\":[5,5,5,5],\"name\":\"Markdown20031\",\"text\":\"&lt;h3&gt;Average House Value in Toronto&lt;/h3&gt;\"},\"id\":\"8379\",\"type\":\"panel.models.markup.HTML\"},{\"attributes\":{\"margin\":[5,5,5,5],\"name\":\"Str19963\",\"text\":\"&lt;pre&gt;AxesSubplot(0.125,0.125;0.775x0.755)&lt;/pre&gt;\"},\"id\":\"8368\",\"type\":\"panel.models.markup.HTML\"},{\"attributes\":{\"axis\":{\"id\":\"8565\"},\"dimension\":1,\"grid_line_color\":null,\"ticker\":null},\"id\":\"8568\",\"type\":\"Grid\"},{\"attributes\":{},\"id\":\"8411\",\"type\":\"WheelZoomTool\"},{\"attributes\":{\"margin\":[0,0,0,0],\"name\":\"Column19961\"},\"id\":\"8361\",\"type\":\"Column\"},{\"attributes\":{\"active_drag\":\"auto\",\"active_inspect\":\"auto\",\"active_multi\":null,\"active_scroll\":\"auto\",\"active_tap\":\"auto\",\"tools\":[{\"id\":\"8466\"},{\"id\":\"8483\"},{\"id\":\"8484\"},{\"id\":\"8485\"},{\"id\":\"8486\"},{\"id\":\"8487\"}]},\"id\":\"8489\",\"type\":\"Toolbar\"},{\"attributes\":{\"children\":[{\"id\":\"8546\"},{\"id\":\"8547\"},{\"id\":\"8611\"}],\"margin\":[0,0,0,0],\"name\":\"Column20231\"},\"id\":\"8545\",\"type\":\"Column\"},{\"attributes\":{\"axis\":{\"id\":\"8562\"},\"grid_line_color\":null,\"ticker\":null},\"id\":\"8564\",\"type\":\"Grid\"},{\"attributes\":{\"margin\":[5,5,5,5],\"name\":\"Str19965\",\"text\":\"&lt;pre&gt;AxesSubplot(0.125,0.125;0.775x0.755)&lt;/pre&gt;\"},\"id\":\"8369\",\"type\":\"panel.models.markup.HTML\"},{\"attributes\":{\"axis_label\":\"average_house_value\",\"bounds\":\"auto\",\"formatter\":{\"id\":\"8590\"},\"major_label_orientation\":\"horizontal\",\"ticker\":{\"id\":\"8566\"}},\"id\":\"8565\",\"type\":\"LinearAxis\"},{\"attributes\":{\"bottom_units\":\"screen\",\"fill_alpha\":0.5,\"fill_color\":\"lightgrey\",\"left_units\":\"screen\",\"level\":\"overlay\",\"line_alpha\":1.0,\"line_color\":\"black\",\"line_dash\":[4,4],\"line_width\":2,\"right_units\":\"screen\",\"top_units\":\"screen\"},\"id\":\"8488\",\"type\":\"BoxAnnotation\"},{\"attributes\":{},\"id\":\"8566\",\"type\":\"BasicTicker\"},{\"attributes\":{\"children\":[{\"id\":\"8374\"},{\"id\":\"8375\"}],\"margin\":[0,0,0,0],\"name\":\"Row19977\"},\"id\":\"8373\",\"type\":\"Row\"},{\"attributes\":{\"margin\":[5,5,5,5],\"name\":\"Str19970\",\"text\":\"&lt;pre&gt;AxesSubplot(0.125,0.125;0.775x0.755)&lt;/pre&gt;\"},\"id\":\"8372\",\"type\":\"panel.models.markup.HTML\"},{\"attributes\":{\"children\":[{\"id\":\"8361\"},{\"id\":\"8362\"}],\"margin\":[0,0,0,0],\"name\":\"Column19957\"},\"id\":\"8360\",\"type\":\"Column\"},{\"attributes\":{},\"id\":\"8560\",\"type\":\"LinearScale\"},{\"attributes\":{},\"id\":\"8618\",\"type\":\"Selection\"},{\"attributes\":{\"css_classes\":[\"markdown\"],\"margin\":[5,5,5,5],\"name\":\"Markdown20029\",\"text\":\"&lt;h2&gt;Pricing Analysis&lt;/h2&gt;\"},\"id\":\"8378\",\"type\":\"panel.models.markup.HTML\"},{\"attributes\":{\"data\":{\"average_house_value\":{\"__ndarray__\":\"AAAAwNVKN0EAAACA2D8yQQAAAMCLsTBBAAAAAAiwMEEAAAAAhn0uQQAAAICQ8C1BAAAAgN5kLEEAAAAAwf0pQQAAAIDEuylBAAAAgEjRKEE=\",\"dtype\":\"float64\",\"order\":\"little\",\"shape\":[10]},\"neighbourhood\":[\"Bridle Path-Sunnybrook-York Mills\",\"Forest Hill South\",\"Lawrence Park South\",\"Rosedale-Moore Park\",\"St.Andrew-Windfields\",\"Casa Loma\",\"Bedford Park-Nortown\",\"Forest Hill North\",\"Kingsway South\",\"Yonge-St.Clair\"]},\"selected\":{\"id\":\"8583\"},\"selection_policy\":{\"id\":\"8602\"}},\"id\":\"8582\",\"type\":\"ColumnDataSource\"}],\"root_ids\":[\"8355\",\"8719\"]},\"title\":\"Bokeh Application\",\"version\":\"2.1.1\"}};\n",
       "  var render_items = [{\"docid\":\"85d39cf8-b054-4b11-96b5-2eb3ce3364b4\",\"root_ids\":[\"8355\"],\"roots\":{\"8355\":\"1d244ff6-3cb7-4a35-851c-f54954db5e2e\"}}];\n",
       "  root.Bokeh.embed.embed_items_notebook(docs_json, render_items);\n",
       "  }\n",
       "if (root.Bokeh !== undefined) {\n",
       "    embed_document(root);\n",
       "  } else {\n",
       "    var attempts = 0;\n",
       "    var timer = setInterval(function(root) {\n",
       "      if (root.Bokeh !== undefined) {\n",
       "        clearInterval(timer);\n",
       "        embed_document(root);\n",
       "      } else if (document.readyState == \"complete\") {\n",
       "        attempts++;\n",
       "        if (attempts > 100) {\n",
       "          clearInterval(timer);\n",
       "          console.log(\"Bokeh: ERROR: Unable to run BokehJS code because BokehJS library is missing\");\n",
       "        }\n",
       "      }\n",
       "    }, 10, root)\n",
       "  }\n",
       "})(window);</script>"
      ],
      "text/plain": [
       "Tabs\n",
       "    [0] Markdown(str)\n",
       "    [1] Column\n",
       "        [0] Markdown(str)\n",
       "        [1] Column\n",
       "            [0] Column()\n",
       "            [1] Row\n",
       "                [0] Plotly(Figure, name='interactive19956')\n",
       "    [2] Column\n",
       "        [0] Row\n",
       "            [0] Str(AxesSubplot)\n",
       "            [1] Str(AxesSubplot)\n",
       "        [1] Row\n",
       "            [0] Str(AxesSubplot)\n",
       "            [1] Str(AxesSubplot)\n",
       "        [2] Row\n",
       "            [0] Str(AxesSubplot)\n",
       "            [1] Str(AxesSubplot)\n",
       "    [3] Column\n",
       "        [0] Markdown(str)\n",
       "        [1] Markdown(str)\n",
       "        [2] Row\n",
       "            [0] Column\n",
       "                [0] Column()\n",
       "                [1] Row\n",
       "                    [0] Str(tuple, name='interactive19979')\n",
       "            [1] Column\n",
       "                [0] Column()\n",
       "                [1] Row\n",
       "                    [0] Row(name='interactive19985')\n",
       "                        [0] HoloViews(DynamicMap, name='interactive19985')\n",
       "                        [1] Column\n",
       "                            [0] WidgetBox\n",
       "                                [0] Select(margin=(20, 20, 20, 20), name='neighbourhood', options=['Agincourt North', ...], value='Agincourt North', width=250)\n",
       "                            [1] VSpacer()\n",
       "        [3] Markdown(str)\n",
       "        [4] Column\n",
       "            [0] Column()\n",
       "            [1] Row\n",
       "                [0] Row(name='interactive20035')\n",
       "                    [0] HoloViews(DynamicMap, name='interactive20035')\n",
       "                    [1] Column\n",
       "                        [0] WidgetBox\n",
       "                            [0] Select(margin=(20, 20, 20, 20), name='neighbourhood', options=['Agincourt North', ...], value='Agincourt North', width=250)\n",
       "                        [1] VSpacer()\n",
       "    [4] Column\n",
       "        [0] Markdown(str)\n",
       "        [1] Column\n",
       "            [0] Column()\n",
       "            [1] Row\n",
       "                [0] Plotly(Figure, name='interactive20080')\n",
       "    [5] Column\n",
       "        [0] Markdown(str)\n",
       "        [1] Column\n",
       "            [0] Column()\n",
       "            [1] Row\n",
       "                [0] HoloViews(Bars, name='interactive20089')\n",
       "        [2] Column\n",
       "            [0] Column()\n",
       "            [1] Row\n",
       "                [0] Plotly(Figure, name='interactive20225')"
      ]
     },
     "execution_count": 103,
     "metadata": {
      "application/vnd.holoviews_exec.v0+json": {
       "id": "8355"
      }
     },
     "output_type": "execute_result"
    }
   ],
   "source": [
    "dashboard.servable()"
   ]
  }
 ],
 "metadata": {
  "file_extension": ".py",
  "kernelspec": {
   "display_name": "Python 3.7.7 64-bit ('pyvizenv': conda)",
   "language": "python",
   "name": "python37764bitpyvizenvconda178f95e589b0478d981ebed6c043bb15"
  },
  "language_info": {
   "codemirror_mode": {
    "name": "ipython",
    "version": 3
   },
   "file_extension": ".py",
   "mimetype": "text/x-python",
   "name": "python",
   "nbconvert_exporter": "python",
   "pygments_lexer": "ipython3",
   "version": "3.7.7"
  },
  "mimetype": "text/x-python",
  "name": "python",
  "npconvert_exporter": "python",
  "pygments_lexer": "ipython3",
  "version": 3
 },
 "nbformat": 4,
 "nbformat_minor": 4
}
